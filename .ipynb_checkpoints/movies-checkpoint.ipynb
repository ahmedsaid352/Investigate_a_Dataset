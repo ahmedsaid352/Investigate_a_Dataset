{
 "cells": [
  {
   "cell_type": "code",
   "execution_count": 1,
   "id": "725368fe",
   "metadata": {},
   "outputs": [],
   "source": [
    "import pandas as pd\n",
    "import numpy as np\n",
    "import seaborn as sns \n",
    "import matplotlib.pyplot as plt"
   ]
  },
  {
   "cell_type": "code",
   "execution_count": 16,
   "id": "97a14cd2",
   "metadata": {},
   "outputs": [],
   "source": [
    "df = pd.read_csv('tmdb-movies.csv')\n",
    "# load dataset"
   ]
  },
  {
   "cell_type": "markdown",
   "id": "2bf06dcf",
   "metadata": {},
   "source": [
    "### exploring data"
   ]
  },
  {
   "cell_type": "code",
   "execution_count": 3,
   "id": "5021bab1",
   "metadata": {},
   "outputs": [
    {
     "data": {
      "text/html": [
       "<div>\n",
       "<style scoped>\n",
       "    .dataframe tbody tr th:only-of-type {\n",
       "        vertical-align: middle;\n",
       "    }\n",
       "\n",
       "    .dataframe tbody tr th {\n",
       "        vertical-align: top;\n",
       "    }\n",
       "\n",
       "    .dataframe thead th {\n",
       "        text-align: right;\n",
       "    }\n",
       "</style>\n",
       "<table border=\"1\" class=\"dataframe\">\n",
       "  <thead>\n",
       "    <tr style=\"text-align: right;\">\n",
       "      <th></th>\n",
       "      <th>id</th>\n",
       "      <th>imdb_id</th>\n",
       "      <th>popularity</th>\n",
       "      <th>budget</th>\n",
       "      <th>revenue</th>\n",
       "      <th>original_title</th>\n",
       "      <th>cast</th>\n",
       "      <th>homepage</th>\n",
       "      <th>director</th>\n",
       "      <th>tagline</th>\n",
       "      <th>...</th>\n",
       "      <th>overview</th>\n",
       "      <th>runtime</th>\n",
       "      <th>genres</th>\n",
       "      <th>production_companies</th>\n",
       "      <th>release_date</th>\n",
       "      <th>vote_count</th>\n",
       "      <th>vote_average</th>\n",
       "      <th>release_year</th>\n",
       "      <th>budget_adj</th>\n",
       "      <th>revenue_adj</th>\n",
       "    </tr>\n",
       "  </thead>\n",
       "  <tbody>\n",
       "    <tr>\n",
       "      <th>0</th>\n",
       "      <td>135397</td>\n",
       "      <td>tt0369610</td>\n",
       "      <td>32.985763</td>\n",
       "      <td>150000000</td>\n",
       "      <td>1513528810</td>\n",
       "      <td>Jurassic World</td>\n",
       "      <td>Chris Pratt|Bryce Dallas Howard|Irrfan Khan|Vi...</td>\n",
       "      <td>http://www.jurassicworld.com/</td>\n",
       "      <td>Colin Trevorrow</td>\n",
       "      <td>The park is open.</td>\n",
       "      <td>...</td>\n",
       "      <td>Twenty-two years after the events of Jurassic ...</td>\n",
       "      <td>124</td>\n",
       "      <td>Action|Adventure|Science Fiction|Thriller</td>\n",
       "      <td>Universal Studios|Amblin Entertainment|Legenda...</td>\n",
       "      <td>6/9/15</td>\n",
       "      <td>5562</td>\n",
       "      <td>6.5</td>\n",
       "      <td>2015</td>\n",
       "      <td>1.379999e+08</td>\n",
       "      <td>1.392446e+09</td>\n",
       "    </tr>\n",
       "    <tr>\n",
       "      <th>1</th>\n",
       "      <td>76341</td>\n",
       "      <td>tt1392190</td>\n",
       "      <td>28.419936</td>\n",
       "      <td>150000000</td>\n",
       "      <td>378436354</td>\n",
       "      <td>Mad Max: Fury Road</td>\n",
       "      <td>Tom Hardy|Charlize Theron|Hugh Keays-Byrne|Nic...</td>\n",
       "      <td>http://www.madmaxmovie.com/</td>\n",
       "      <td>George Miller</td>\n",
       "      <td>What a Lovely Day.</td>\n",
       "      <td>...</td>\n",
       "      <td>An apocalyptic story set in the furthest reach...</td>\n",
       "      <td>120</td>\n",
       "      <td>Action|Adventure|Science Fiction|Thriller</td>\n",
       "      <td>Village Roadshow Pictures|Kennedy Miller Produ...</td>\n",
       "      <td>5/13/15</td>\n",
       "      <td>6185</td>\n",
       "      <td>7.1</td>\n",
       "      <td>2015</td>\n",
       "      <td>1.379999e+08</td>\n",
       "      <td>3.481613e+08</td>\n",
       "    </tr>\n",
       "    <tr>\n",
       "      <th>2</th>\n",
       "      <td>262500</td>\n",
       "      <td>tt2908446</td>\n",
       "      <td>13.112507</td>\n",
       "      <td>110000000</td>\n",
       "      <td>295238201</td>\n",
       "      <td>Insurgent</td>\n",
       "      <td>Shailene Woodley|Theo James|Kate Winslet|Ansel...</td>\n",
       "      <td>http://www.thedivergentseries.movie/#insurgent</td>\n",
       "      <td>Robert Schwentke</td>\n",
       "      <td>One Choice Can Destroy You</td>\n",
       "      <td>...</td>\n",
       "      <td>Beatrice Prior must confront her inner demons ...</td>\n",
       "      <td>119</td>\n",
       "      <td>Adventure|Science Fiction|Thriller</td>\n",
       "      <td>Summit Entertainment|Mandeville Films|Red Wago...</td>\n",
       "      <td>3/18/15</td>\n",
       "      <td>2480</td>\n",
       "      <td>6.3</td>\n",
       "      <td>2015</td>\n",
       "      <td>1.012000e+08</td>\n",
       "      <td>2.716190e+08</td>\n",
       "    </tr>\n",
       "    <tr>\n",
       "      <th>3</th>\n",
       "      <td>140607</td>\n",
       "      <td>tt2488496</td>\n",
       "      <td>11.173104</td>\n",
       "      <td>200000000</td>\n",
       "      <td>2068178225</td>\n",
       "      <td>Star Wars: The Force Awakens</td>\n",
       "      <td>Harrison Ford|Mark Hamill|Carrie Fisher|Adam D...</td>\n",
       "      <td>http://www.starwars.com/films/star-wars-episod...</td>\n",
       "      <td>J.J. Abrams</td>\n",
       "      <td>Every generation has a story.</td>\n",
       "      <td>...</td>\n",
       "      <td>Thirty years after defeating the Galactic Empi...</td>\n",
       "      <td>136</td>\n",
       "      <td>Action|Adventure|Science Fiction|Fantasy</td>\n",
       "      <td>Lucasfilm|Truenorth Productions|Bad Robot</td>\n",
       "      <td>12/15/15</td>\n",
       "      <td>5292</td>\n",
       "      <td>7.5</td>\n",
       "      <td>2015</td>\n",
       "      <td>1.839999e+08</td>\n",
       "      <td>1.902723e+09</td>\n",
       "    </tr>\n",
       "    <tr>\n",
       "      <th>4</th>\n",
       "      <td>168259</td>\n",
       "      <td>tt2820852</td>\n",
       "      <td>9.335014</td>\n",
       "      <td>190000000</td>\n",
       "      <td>1506249360</td>\n",
       "      <td>Furious 7</td>\n",
       "      <td>Vin Diesel|Paul Walker|Jason Statham|Michelle ...</td>\n",
       "      <td>http://www.furious7.com/</td>\n",
       "      <td>James Wan</td>\n",
       "      <td>Vengeance Hits Home</td>\n",
       "      <td>...</td>\n",
       "      <td>Deckard Shaw seeks revenge against Dominic Tor...</td>\n",
       "      <td>137</td>\n",
       "      <td>Action|Crime|Thriller</td>\n",
       "      <td>Universal Pictures|Original Film|Media Rights ...</td>\n",
       "      <td>4/1/15</td>\n",
       "      <td>2947</td>\n",
       "      <td>7.3</td>\n",
       "      <td>2015</td>\n",
       "      <td>1.747999e+08</td>\n",
       "      <td>1.385749e+09</td>\n",
       "    </tr>\n",
       "  </tbody>\n",
       "</table>\n",
       "<p>5 rows × 21 columns</p>\n",
       "</div>"
      ],
      "text/plain": [
       "       id    imdb_id  popularity     budget     revenue  \\\n",
       "0  135397  tt0369610   32.985763  150000000  1513528810   \n",
       "1   76341  tt1392190   28.419936  150000000   378436354   \n",
       "2  262500  tt2908446   13.112507  110000000   295238201   \n",
       "3  140607  tt2488496   11.173104  200000000  2068178225   \n",
       "4  168259  tt2820852    9.335014  190000000  1506249360   \n",
       "\n",
       "                 original_title  \\\n",
       "0                Jurassic World   \n",
       "1            Mad Max: Fury Road   \n",
       "2                     Insurgent   \n",
       "3  Star Wars: The Force Awakens   \n",
       "4                     Furious 7   \n",
       "\n",
       "                                                cast  \\\n",
       "0  Chris Pratt|Bryce Dallas Howard|Irrfan Khan|Vi...   \n",
       "1  Tom Hardy|Charlize Theron|Hugh Keays-Byrne|Nic...   \n",
       "2  Shailene Woodley|Theo James|Kate Winslet|Ansel...   \n",
       "3  Harrison Ford|Mark Hamill|Carrie Fisher|Adam D...   \n",
       "4  Vin Diesel|Paul Walker|Jason Statham|Michelle ...   \n",
       "\n",
       "                                            homepage          director  \\\n",
       "0                      http://www.jurassicworld.com/   Colin Trevorrow   \n",
       "1                        http://www.madmaxmovie.com/     George Miller   \n",
       "2     http://www.thedivergentseries.movie/#insurgent  Robert Schwentke   \n",
       "3  http://www.starwars.com/films/star-wars-episod...       J.J. Abrams   \n",
       "4                           http://www.furious7.com/         James Wan   \n",
       "\n",
       "                         tagline  ...  \\\n",
       "0              The park is open.  ...   \n",
       "1             What a Lovely Day.  ...   \n",
       "2     One Choice Can Destroy You  ...   \n",
       "3  Every generation has a story.  ...   \n",
       "4            Vengeance Hits Home  ...   \n",
       "\n",
       "                                            overview runtime  \\\n",
       "0  Twenty-two years after the events of Jurassic ...     124   \n",
       "1  An apocalyptic story set in the furthest reach...     120   \n",
       "2  Beatrice Prior must confront her inner demons ...     119   \n",
       "3  Thirty years after defeating the Galactic Empi...     136   \n",
       "4  Deckard Shaw seeks revenge against Dominic Tor...     137   \n",
       "\n",
       "                                      genres  \\\n",
       "0  Action|Adventure|Science Fiction|Thriller   \n",
       "1  Action|Adventure|Science Fiction|Thriller   \n",
       "2         Adventure|Science Fiction|Thriller   \n",
       "3   Action|Adventure|Science Fiction|Fantasy   \n",
       "4                      Action|Crime|Thriller   \n",
       "\n",
       "                                production_companies release_date vote_count  \\\n",
       "0  Universal Studios|Amblin Entertainment|Legenda...       6/9/15       5562   \n",
       "1  Village Roadshow Pictures|Kennedy Miller Produ...      5/13/15       6185   \n",
       "2  Summit Entertainment|Mandeville Films|Red Wago...      3/18/15       2480   \n",
       "3          Lucasfilm|Truenorth Productions|Bad Robot     12/15/15       5292   \n",
       "4  Universal Pictures|Original Film|Media Rights ...       4/1/15       2947   \n",
       "\n",
       "   vote_average  release_year    budget_adj   revenue_adj  \n",
       "0           6.5          2015  1.379999e+08  1.392446e+09  \n",
       "1           7.1          2015  1.379999e+08  3.481613e+08  \n",
       "2           6.3          2015  1.012000e+08  2.716190e+08  \n",
       "3           7.5          2015  1.839999e+08  1.902723e+09  \n",
       "4           7.3          2015  1.747999e+08  1.385749e+09  \n",
       "\n",
       "[5 rows x 21 columns]"
      ]
     },
     "execution_count": 3,
     "metadata": {},
     "output_type": "execute_result"
    }
   ],
   "source": [
    "df.head()"
   ]
  },
  {
   "cell_type": "code",
   "execution_count": 5,
   "id": "c4830bee",
   "metadata": {},
   "outputs": [
    {
     "data": {
      "text/plain": [
       "Index(['id', 'imdb_id', 'popularity', 'budget', 'revenue', 'original_title',\n",
       "       'cast', 'homepage', 'director', 'tagline', 'keywords', 'overview',\n",
       "       'runtime', 'genres', 'production_companies', 'release_date',\n",
       "       'vote_count', 'vote_average', 'release_year', 'budget_adj',\n",
       "       'revenue_adj'],\n",
       "      dtype='object')"
      ]
     },
     "execution_count": 5,
     "metadata": {},
     "output_type": "execute_result"
    }
   ],
   "source": [
    "df.columns"
   ]
  },
  {
   "cell_type": "code",
   "execution_count": 122,
   "id": "14288994",
   "metadata": {},
   "outputs": [
    {
     "name": "stdout",
     "output_type": "stream",
     "text": [
      "<class 'pandas.core.frame.DataFrame'>\n",
      "RangeIndex: 7030 entries, 0 to 7029\n",
      "Data columns (total 22 columns):\n",
      " #   Column                Non-Null Count  Dtype  \n",
      "---  ------                --------------  -----  \n",
      " 0   id                    7030 non-null   int64  \n",
      " 1   imdb_id               7030 non-null   object \n",
      " 2   popularity            7030 non-null   float64\n",
      " 3   budget                7030 non-null   int64  \n",
      " 4   revenue               7030 non-null   int64  \n",
      " 5   original_title        7030 non-null   object \n",
      " 6   cast                  7030 non-null   object \n",
      " 7   director              7030 non-null   object \n",
      " 8   tagline               7030 non-null   object \n",
      " 9   keywords              7030 non-null   object \n",
      " 10  overview              7030 non-null   object \n",
      " 11  runtime               7030 non-null   int64  \n",
      " 12  genres                7030 non-null   object \n",
      " 13  production_companies  7030 non-null   object \n",
      " 14  release_date          7030 non-null   object \n",
      " 15  vote_count            7030 non-null   int64  \n",
      " 16  vote_average          7030 non-null   float64\n",
      " 17  release_year          7030 non-null   int64  \n",
      " 18  budget_adj            7030 non-null   float64\n",
      " 19  revenue_adj           7030 non-null   float64\n",
      " 20  main_genres           7030 non-null   object \n",
      " 21  accepted_director     7030 non-null   object \n",
      "dtypes: float64(4), int64(6), object(12)\n",
      "memory usage: 1.2+ MB\n"
     ]
    }
   ],
   "source": [
    "df.info()\n",
    "# homepage column has many missing values so i will grop it from dataframe"
   ]
  },
  {
   "cell_type": "markdown",
   "id": "dcdb18cc",
   "metadata": {},
   "source": [
    "### cleaning data"
   ]
  },
  {
   "cell_type": "code",
   "execution_count": 6,
   "id": "4b100378",
   "metadata": {},
   "outputs": [],
   "source": [
    "df.drop('homepage',axis=1,inplace=True)"
   ]
  },
  {
   "cell_type": "code",
   "execution_count": 7,
   "id": "d12e1b35",
   "metadata": {},
   "outputs": [
    {
     "name": "stdout",
     "output_type": "stream",
     "text": [
      "<class 'pandas.core.frame.DataFrame'>\n",
      "RangeIndex: 10866 entries, 0 to 10865\n",
      "Data columns (total 20 columns):\n",
      " #   Column                Non-Null Count  Dtype  \n",
      "---  ------                --------------  -----  \n",
      " 0   id                    10866 non-null  int64  \n",
      " 1   imdb_id               10856 non-null  object \n",
      " 2   popularity            10866 non-null  float64\n",
      " 3   budget                10866 non-null  int64  \n",
      " 4   revenue               10866 non-null  int64  \n",
      " 5   original_title        10866 non-null  object \n",
      " 6   cast                  10790 non-null  object \n",
      " 7   director              10822 non-null  object \n",
      " 8   tagline               8042 non-null   object \n",
      " 9   keywords              9373 non-null   object \n",
      " 10  overview              10862 non-null  object \n",
      " 11  runtime               10866 non-null  int64  \n",
      " 12  genres                10843 non-null  object \n",
      " 13  production_companies  9836 non-null   object \n",
      " 14  release_date          10866 non-null  object \n",
      " 15  vote_count            10866 non-null  int64  \n",
      " 16  vote_average          10866 non-null  float64\n",
      " 17  release_year          10866 non-null  int64  \n",
      " 18  budget_adj            10866 non-null  float64\n",
      " 19  revenue_adj           10866 non-null  float64\n",
      "dtypes: float64(4), int64(6), object(10)\n",
      "memory usage: 1.7+ MB\n"
     ]
    }
   ],
   "source": [
    "df.info()"
   ]
  },
  {
   "cell_type": "code",
   "execution_count": 9,
   "id": "f9c1cb8e",
   "metadata": {},
   "outputs": [
    {
     "data": {
      "text/plain": [
       "'Paramount Pictures'"
      ]
     },
     "execution_count": 9,
     "metadata": {},
     "output_type": "execute_result"
    }
   ],
   "source": [
    "df['production_companies'].mode()[0]"
   ]
  },
  {
   "cell_type": "code",
   "execution_count": 8,
   "id": "1d43be83",
   "metadata": {},
   "outputs": [],
   "source": [
    "df.dropna(inplace=True)\n",
    "# drop all null data from data frame"
   ]
  },
  {
   "cell_type": "code",
   "execution_count": 11,
   "id": "2d2f7c60",
   "metadata": {},
   "outputs": [
    {
     "name": "stdout",
     "output_type": "stream",
     "text": [
      "<class 'pandas.core.frame.DataFrame'>\n",
      "Int64Index: 7030 entries, 0 to 10865\n",
      "Data columns (total 20 columns):\n",
      " #   Column                Non-Null Count  Dtype  \n",
      "---  ------                --------------  -----  \n",
      " 0   id                    7030 non-null   int64  \n",
      " 1   imdb_id               7030 non-null   object \n",
      " 2   popularity            7030 non-null   float64\n",
      " 3   budget                7030 non-null   int64  \n",
      " 4   revenue               7030 non-null   int64  \n",
      " 5   original_title        7030 non-null   object \n",
      " 6   cast                  7030 non-null   object \n",
      " 7   director              7030 non-null   object \n",
      " 8   tagline               7030 non-null   object \n",
      " 9   keywords              7030 non-null   object \n",
      " 10  overview              7030 non-null   object \n",
      " 11  runtime               7030 non-null   int64  \n",
      " 12  genres                7030 non-null   object \n",
      " 13  production_companies  7030 non-null   object \n",
      " 14  release_date          7030 non-null   object \n",
      " 15  vote_count            7030 non-null   int64  \n",
      " 16  vote_average          7030 non-null   float64\n",
      " 17  release_year          7030 non-null   int64  \n",
      " 18  budget_adj            7030 non-null   float64\n",
      " 19  revenue_adj           7030 non-null   float64\n",
      "dtypes: float64(4), int64(6), object(10)\n",
      "memory usage: 1.1+ MB\n"
     ]
    }
   ],
   "source": [
    "df.info()\n",
    "# data now is ready"
   ]
  },
  {
   "cell_type": "code",
   "execution_count": 14,
   "id": "4b1e7274",
   "metadata": {},
   "outputs": [
    {
     "data": {
      "text/plain": [
       "0"
      ]
     },
     "execution_count": 14,
     "metadata": {},
     "output_type": "execute_result"
    }
   ],
   "source": [
    "df.duplicated().sum()"
   ]
  },
  {
   "cell_type": "code",
   "execution_count": 10,
   "id": "9f5f5c99",
   "metadata": {},
   "outputs": [],
   "source": [
    "df.drop_duplicates(inplace=True)"
   ]
  },
  {
   "cell_type": "code",
   "execution_count": 13,
   "id": "cd400432",
   "metadata": {},
   "outputs": [
    {
     "data": {
      "image/png": "[encoded data removed]",
      "text/plain": [
       "<Figure size 432x288 with 1 Axes>"
      ]
     },
     "metadata": {
      "needs_background": "light"
     },
     "output_type": "display_data"
    }
   ],
   "source": [
    "df.plot(kind='scatter',x='budget',y=\"revenue\");\n",
    "plt.title('Relation between budget and revenue')\n",
    "plt.xlabel('budget')\n",
    "plt.ylabel('revenue')\n",
    "plt.show()"
   ]
  },
  {
   "cell_type": "code",
   "execution_count": 14,
   "id": "3bffa2e1",
   "metadata": {},
   "outputs": [
    {
     "data": {
      "image/png": "[encoded data removed]",
      "text/plain": [
       "<Figure size 432x288 with 1 Axes>"
      ]
     },
     "metadata": {
      "needs_background": "light"
     },
     "output_type": "display_data"
    }
   ],
   "source": [
    "df.plot(kind='scatter',y='revenue',x=\"vote_average\");\n",
    "plt.title('Relation between vote_average and revenue')\n",
    "plt.xlabel('vote_average')\n",
    "plt.ylabel('revenue')\n",
    "plt.show()"
   ]
  },
  {
   "cell_type": "code",
   "execution_count": 16,
   "id": "84421dfd",
   "metadata": {},
   "outputs": [
    {
     "data": {
      "image/png": "[encoded data removed]",
      "text/plain": [
       "<Figure size 432x288 with 1 Axes>"
      ]
     },
     "metadata": {
      "needs_background": "light"
     },
     "output_type": "display_data"
    }
   ],
   "source": [
    "df['budget'].hist();\n",
    "plt.title('distribution of budget')\n",
    "plt.ylabel('count')\n",
    "plt.xlabel('budget')\n",
    "plt.show()"
   ]
  },
  {
   "cell_type": "markdown",
   "id": "7745c778",
   "metadata": {},
   "source": [
    "### a lot of missing values "
   ]
  },
  {
   "cell_type": "code",
   "execution_count": 31,
   "id": "2b4bb60b",
   "metadata": {},
   "outputs": [
    {
     "data": {
      "text/plain": [
       "id                      3938\n",
       "imdb_id                 3938\n",
       "popularity              3938\n",
       "budget                  3938\n",
       "revenue                 3938\n",
       "original_title          3938\n",
       "cast                    3938\n",
       "director                3938\n",
       "keywords                3938\n",
       "overview                3938\n",
       "runtime                 3938\n",
       "genres                  3938\n",
       "production_companies    3938\n",
       "release_date            3938\n",
       "vote_count              3938\n",
       "vote_average            3938\n",
       "release_year            3938\n",
       "budget_adj              3938\n",
       "revenue_adj             3938\n",
       "dtype: int64"
      ]
     },
     "execution_count": 31,
     "metadata": {},
     "output_type": "execute_result"
    }
   ],
   "source": [
    "df.query('budget == 0').count()"
   ]
  },
  {
   "cell_type": "code",
   "execution_count": 17,
   "id": "18bfcaac",
   "metadata": {},
   "outputs": [
    {
     "data": {
      "image/png": "[encoded data removed]",
      "text/plain": [
       "<Figure size 432x288 with 1 Axes>"
      ]
     },
     "metadata": {
      "needs_background": "light"
     },
     "output_type": "display_data"
    }
   ],
   "source": [
    "df['release_year'].hist();\n",
    "plt.title('distribution of release year')\n",
    "plt.xlabel('release year')\n",
    "plt.ylabel('count')\n",
    "plt.show()"
   ]
  },
  {
   "cell_type": "code",
   "execution_count": 19,
   "id": "b5fed04e",
   "metadata": {},
   "outputs": [
    {
     "data": {
      "text/plain": [
       "'Steven Spielberg'"
      ]
     },
     "execution_count": 19,
     "metadata": {},
     "output_type": "execute_result"
    }
   ],
   "source": [
    "df.query('popularity > 0.843149')['director'].mode()[0]\n",
    "# the most common diector in higher popular half of dataset"
   ]
  },
  {
   "cell_type": "code",
   "execution_count": 20,
   "id": "183bc6d1",
   "metadata": {},
   "outputs": [
    {
     "data": {
      "text/plain": [
       "Index(['id', 'imdb_id', 'popularity', 'budget', 'revenue', 'original_title',\n",
       "       'cast', 'director', 'tagline', 'keywords', 'overview', 'runtime',\n",
       "       'genres', 'production_companies', 'release_date', 'vote_count',\n",
       "       'vote_average', 'release_year', 'budget_adj', 'revenue_adj'],\n",
       "      dtype='object')"
      ]
     },
     "execution_count": 20,
     "metadata": {},
     "output_type": "execute_result"
    }
   ],
   "source": [
    "df.columns"
   ]
  },
  {
   "cell_type": "code",
   "execution_count": 21,
   "id": "dd13e113",
   "metadata": {},
   "outputs": [
    {
     "data": {
      "text/plain": [
       "count    7030.000000\n",
       "mean        0.829578\n",
       "std         1.180330\n",
       "min         0.000188\n",
       "25%         0.278587\n",
       "50%         0.506241\n",
       "75%         0.956461\n",
       "max        32.985763\n",
       "Name: popularity, dtype: float64"
      ]
     },
     "execution_count": 21,
     "metadata": {},
     "output_type": "execute_result"
    }
   ],
   "source": [
    "df.popularity.describe()"
   ]
  },
  {
   "cell_type": "code",
   "execution_count": 22,
   "id": "8ed21924",
   "metadata": {},
   "outputs": [
    {
     "data": {
      "text/html": [
       "<div>\n",
       "<style scoped>\n",
       "    .dataframe tbody tr th:only-of-type {\n",
       "        vertical-align: middle;\n",
       "    }\n",
       "\n",
       "    .dataframe tbody tr th {\n",
       "        vertical-align: top;\n",
       "    }\n",
       "\n",
       "    .dataframe thead th {\n",
       "        text-align: right;\n",
       "    }\n",
       "</style>\n",
       "<table border=\"1\" class=\"dataframe\">\n",
       "  <thead>\n",
       "    <tr style=\"text-align: right;\">\n",
       "      <th></th>\n",
       "      <th>id</th>\n",
       "      <th>imdb_id</th>\n",
       "      <th>popularity</th>\n",
       "      <th>budget</th>\n",
       "      <th>revenue</th>\n",
       "      <th>original_title</th>\n",
       "      <th>cast</th>\n",
       "      <th>director</th>\n",
       "      <th>tagline</th>\n",
       "      <th>runtime</th>\n",
       "      <th>genres</th>\n",
       "      <th>production_companies</th>\n",
       "      <th>release_date</th>\n",
       "      <th>vote_count</th>\n",
       "      <th>vote_average</th>\n",
       "      <th>release_year</th>\n",
       "      <th>budget_adj</th>\n",
       "      <th>revenue_adj</th>\n",
       "    </tr>\n",
       "  </thead>\n",
       "  <tbody>\n",
       "    <tr>\n",
       "      <th>0</th>\n",
       "      <td>135397</td>\n",
       "      <td>tt0369610</td>\n",
       "      <td>32.985763</td>\n",
       "      <td>150000000</td>\n",
       "      <td>1513528810</td>\n",
       "      <td>Jurassic World</td>\n",
       "      <td>Chris Pratt|Bryce Dallas Howard|Irrfan Khan|Vi...</td>\n",
       "      <td>Colin Trevorrow</td>\n",
       "      <td>The park is open.</td>\n",
       "      <td>124</td>\n",
       "      <td>Action|Adventure|Science Fiction|Thriller</td>\n",
       "      <td>Universal Studios|Amblin Entertainment|Legenda...</td>\n",
       "      <td>6/9/15</td>\n",
       "      <td>5562</td>\n",
       "      <td>6.5</td>\n",
       "      <td>2015</td>\n",
       "      <td>1.379999e+08</td>\n",
       "      <td>1.392446e+09</td>\n",
       "    </tr>\n",
       "    <tr>\n",
       "      <th>1</th>\n",
       "      <td>76341</td>\n",
       "      <td>tt1392190</td>\n",
       "      <td>28.419936</td>\n",
       "      <td>150000000</td>\n",
       "      <td>378436354</td>\n",
       "      <td>Mad Max: Fury Road</td>\n",
       "      <td>Tom Hardy|Charlize Theron|Hugh Keays-Byrne|Nic...</td>\n",
       "      <td>George Miller</td>\n",
       "      <td>What a Lovely Day.</td>\n",
       "      <td>120</td>\n",
       "      <td>Action|Adventure|Science Fiction|Thriller</td>\n",
       "      <td>Village Roadshow Pictures|Kennedy Miller Produ...</td>\n",
       "      <td>5/13/15</td>\n",
       "      <td>6185</td>\n",
       "      <td>7.1</td>\n",
       "      <td>2015</td>\n",
       "      <td>1.379999e+08</td>\n",
       "      <td>3.481613e+08</td>\n",
       "    </tr>\n",
       "    <tr>\n",
       "      <th>2</th>\n",
       "      <td>262500</td>\n",
       "      <td>tt2908446</td>\n",
       "      <td>13.112507</td>\n",
       "      <td>110000000</td>\n",
       "      <td>295238201</td>\n",
       "      <td>Insurgent</td>\n",
       "      <td>Shailene Woodley|Theo James|Kate Winslet|Ansel...</td>\n",
       "      <td>Robert Schwentke</td>\n",
       "      <td>One Choice Can Destroy You</td>\n",
       "      <td>119</td>\n",
       "      <td>Adventure|Science Fiction|Thriller</td>\n",
       "      <td>Summit Entertainment|Mandeville Films|Red Wago...</td>\n",
       "      <td>3/18/15</td>\n",
       "      <td>2480</td>\n",
       "      <td>6.3</td>\n",
       "      <td>2015</td>\n",
       "      <td>1.012000e+08</td>\n",
       "      <td>2.716190e+08</td>\n",
       "    </tr>\n",
       "    <tr>\n",
       "      <th>3</th>\n",
       "      <td>140607</td>\n",
       "      <td>tt2488496</td>\n",
       "      <td>11.173104</td>\n",
       "      <td>200000000</td>\n",
       "      <td>2068178225</td>\n",
       "      <td>Star Wars: The Force Awakens</td>\n",
       "      <td>Harrison Ford|Mark Hamill|Carrie Fisher|Adam D...</td>\n",
       "      <td>J.J. Abrams</td>\n",
       "      <td>Every generation has a story.</td>\n",
       "      <td>136</td>\n",
       "      <td>Action|Adventure|Science Fiction|Fantasy</td>\n",
       "      <td>Lucasfilm|Truenorth Productions|Bad Robot</td>\n",
       "      <td>12/15/15</td>\n",
       "      <td>5292</td>\n",
       "      <td>7.5</td>\n",
       "      <td>2015</td>\n",
       "      <td>1.839999e+08</td>\n",
       "      <td>1.902723e+09</td>\n",
       "    </tr>\n",
       "    <tr>\n",
       "      <th>4</th>\n",
       "      <td>168259</td>\n",
       "      <td>tt2820852</td>\n",
       "      <td>9.335014</td>\n",
       "      <td>190000000</td>\n",
       "      <td>1506249360</td>\n",
       "      <td>Furious 7</td>\n",
       "      <td>Vin Diesel|Paul Walker|Jason Statham|Michelle ...</td>\n",
       "      <td>James Wan</td>\n",
       "      <td>Vengeance Hits Home</td>\n",
       "      <td>137</td>\n",
       "      <td>Action|Crime|Thriller</td>\n",
       "      <td>Universal Pictures|Original Film|Media Rights ...</td>\n",
       "      <td>4/1/15</td>\n",
       "      <td>2947</td>\n",
       "      <td>7.3</td>\n",
       "      <td>2015</td>\n",
       "      <td>1.747999e+08</td>\n",
       "      <td>1.385749e+09</td>\n",
       "    </tr>\n",
       "    <tr>\n",
       "      <th>...</th>\n",
       "      <td>...</td>\n",
       "      <td>...</td>\n",
       "      <td>...</td>\n",
       "      <td>...</td>\n",
       "      <td>...</td>\n",
       "      <td>...</td>\n",
       "      <td>...</td>\n",
       "      <td>...</td>\n",
       "      <td>...</td>\n",
       "      <td>...</td>\n",
       "      <td>...</td>\n",
       "      <td>...</td>\n",
       "      <td>...</td>\n",
       "      <td>...</td>\n",
       "      <td>...</td>\n",
       "      <td>...</td>\n",
       "      <td>...</td>\n",
       "      <td>...</td>\n",
       "    </tr>\n",
       "    <tr>\n",
       "      <th>10858</th>\n",
       "      <td>31918</td>\n",
       "      <td>tt0060921</td>\n",
       "      <td>0.317824</td>\n",
       "      <td>0</td>\n",
       "      <td>0</td>\n",
       "      <td>The Russians Are Coming, The Russians Are Coming</td>\n",
       "      <td>Carl Reiner|Eva Marie Saint|Alan Arkin|Brian K...</td>\n",
       "      <td>Norman Jewison</td>\n",
       "      <td>IT'S A PLOT! ...to make the world die laughing!!</td>\n",
       "      <td>126</td>\n",
       "      <td>Comedy|War</td>\n",
       "      <td>The Mirisch Corporation</td>\n",
       "      <td>5/25/66</td>\n",
       "      <td>11</td>\n",
       "      <td>5.5</td>\n",
       "      <td>1966</td>\n",
       "      <td>0.000000e+00</td>\n",
       "      <td>0.000000e+00</td>\n",
       "    </tr>\n",
       "    <tr>\n",
       "      <th>10860</th>\n",
       "      <td>5060</td>\n",
       "      <td>tt0060214</td>\n",
       "      <td>0.087034</td>\n",
       "      <td>0</td>\n",
       "      <td>0</td>\n",
       "      <td>Carry On Screaming!</td>\n",
       "      <td>Kenneth Williams|Jim Dale|Harry H. Corbett|Joa...</td>\n",
       "      <td>Gerald Thomas</td>\n",
       "      <td>Carry On Screaming with the Hilarious CARRY ON...</td>\n",
       "      <td>87</td>\n",
       "      <td>Comedy</td>\n",
       "      <td>Peter Rogers Productions|Anglo-Amalgamated Fil...</td>\n",
       "      <td>5/20/66</td>\n",
       "      <td>13</td>\n",
       "      <td>7.0</td>\n",
       "      <td>1966</td>\n",
       "      <td>0.000000e+00</td>\n",
       "      <td>0.000000e+00</td>\n",
       "    </tr>\n",
       "    <tr>\n",
       "      <th>10862</th>\n",
       "      <td>20379</td>\n",
       "      <td>tt0060472</td>\n",
       "      <td>0.065543</td>\n",
       "      <td>0</td>\n",
       "      <td>0</td>\n",
       "      <td>Grand Prix</td>\n",
       "      <td>James Garner|Eva Marie Saint|Yves Montand|Tosh...</td>\n",
       "      <td>John Frankenheimer</td>\n",
       "      <td>Cinerama sweeps YOU into a drama of speed and ...</td>\n",
       "      <td>176</td>\n",
       "      <td>Action|Adventure|Drama</td>\n",
       "      <td>Cherokee Productions|Joel Productions|Douglas ...</td>\n",
       "      <td>12/21/66</td>\n",
       "      <td>20</td>\n",
       "      <td>5.7</td>\n",
       "      <td>1966</td>\n",
       "      <td>0.000000e+00</td>\n",
       "      <td>0.000000e+00</td>\n",
       "    </tr>\n",
       "    <tr>\n",
       "      <th>10864</th>\n",
       "      <td>21449</td>\n",
       "      <td>tt0061177</td>\n",
       "      <td>0.064317</td>\n",
       "      <td>0</td>\n",
       "      <td>0</td>\n",
       "      <td>What's Up, Tiger Lily?</td>\n",
       "      <td>Tatsuya Mihashi|Akiko Wakabayashi|Mie Hama|Joh...</td>\n",
       "      <td>Woody Allen</td>\n",
       "      <td>WOODY ALLEN STRIKES BACK!</td>\n",
       "      <td>80</td>\n",
       "      <td>Action|Comedy</td>\n",
       "      <td>Benedict Pictures Corp.</td>\n",
       "      <td>11/2/66</td>\n",
       "      <td>22</td>\n",
       "      <td>5.4</td>\n",
       "      <td>1966</td>\n",
       "      <td>0.000000e+00</td>\n",
       "      <td>0.000000e+00</td>\n",
       "    </tr>\n",
       "    <tr>\n",
       "      <th>10865</th>\n",
       "      <td>22293</td>\n",
       "      <td>tt0060666</td>\n",
       "      <td>0.035919</td>\n",
       "      <td>19000</td>\n",
       "      <td>0</td>\n",
       "      <td>Manos: The Hands of Fate</td>\n",
       "      <td>Harold P. Warren|Tom Neyman|John Reynolds|Dian...</td>\n",
       "      <td>Harold P. Warren</td>\n",
       "      <td>It's Shocking! It's Beyond Your Imagination!</td>\n",
       "      <td>74</td>\n",
       "      <td>Horror</td>\n",
       "      <td>Norm-Iris</td>\n",
       "      <td>11/15/66</td>\n",
       "      <td>15</td>\n",
       "      <td>1.5</td>\n",
       "      <td>1966</td>\n",
       "      <td>1.276423e+05</td>\n",
       "      <td>0.000000e+00</td>\n",
       "    </tr>\n",
       "  </tbody>\n",
       "</table>\n",
       "<p>7030 rows × 18 columns</p>\n",
       "</div>"
      ],
      "text/plain": [
       "           id    imdb_id  popularity     budget     revenue  \\\n",
       "0      135397  tt0369610   32.985763  150000000  1513528810   \n",
       "1       76341  tt1392190   28.419936  150000000   378436354   \n",
       "2      262500  tt2908446   13.112507  110000000   295238201   \n",
       "3      140607  tt2488496   11.173104  200000000  2068178225   \n",
       "4      168259  tt2820852    9.335014  190000000  1506249360   \n",
       "...       ...        ...         ...        ...         ...   \n",
       "10858   31918  tt0060921    0.317824          0           0   \n",
       "10860    5060  tt0060214    0.087034          0           0   \n",
       "10862   20379  tt0060472    0.065543          0           0   \n",
       "10864   21449  tt0061177    0.064317          0           0   \n",
       "10865   22293  tt0060666    0.035919      19000           0   \n",
       "\n",
       "                                         original_title  \\\n",
       "0                                        Jurassic World   \n",
       "1                                    Mad Max: Fury Road   \n",
       "2                                             Insurgent   \n",
       "3                          Star Wars: The Force Awakens   \n",
       "4                                             Furious 7   \n",
       "...                                                 ...   \n",
       "10858  The Russians Are Coming, The Russians Are Coming   \n",
       "10860                               Carry On Screaming!   \n",
       "10862                                        Grand Prix   \n",
       "10864                            What's Up, Tiger Lily?   \n",
       "10865                          Manos: The Hands of Fate   \n",
       "\n",
       "                                                    cast            director  \\\n",
       "0      Chris Pratt|Bryce Dallas Howard|Irrfan Khan|Vi...     Colin Trevorrow   \n",
       "1      Tom Hardy|Charlize Theron|Hugh Keays-Byrne|Nic...       George Miller   \n",
       "2      Shailene Woodley|Theo James|Kate Winslet|Ansel...    Robert Schwentke   \n",
       "3      Harrison Ford|Mark Hamill|Carrie Fisher|Adam D...         J.J. Abrams   \n",
       "4      Vin Diesel|Paul Walker|Jason Statham|Michelle ...           James Wan   \n",
       "...                                                  ...                 ...   \n",
       "10858  Carl Reiner|Eva Marie Saint|Alan Arkin|Brian K...      Norman Jewison   \n",
       "10860  Kenneth Williams|Jim Dale|Harry H. Corbett|Joa...       Gerald Thomas   \n",
       "10862  James Garner|Eva Marie Saint|Yves Montand|Tosh...  John Frankenheimer   \n",
       "10864  Tatsuya Mihashi|Akiko Wakabayashi|Mie Hama|Joh...         Woody Allen   \n",
       "10865  Harold P. Warren|Tom Neyman|John Reynolds|Dian...    Harold P. Warren   \n",
       "\n",
       "                                                 tagline  runtime  \\\n",
       "0                                      The park is open.      124   \n",
       "1                                     What a Lovely Day.      120   \n",
       "2                             One Choice Can Destroy You      119   \n",
       "3                          Every generation has a story.      136   \n",
       "4                                    Vengeance Hits Home      137   \n",
       "...                                                  ...      ...   \n",
       "10858   IT'S A PLOT! ...to make the world die laughing!!      126   \n",
       "10860  Carry On Screaming with the Hilarious CARRY ON...       87   \n",
       "10862  Cinerama sweeps YOU into a drama of speed and ...      176   \n",
       "10864                          WOODY ALLEN STRIKES BACK!       80   \n",
       "10865       It's Shocking! It's Beyond Your Imagination!       74   \n",
       "\n",
       "                                          genres  \\\n",
       "0      Action|Adventure|Science Fiction|Thriller   \n",
       "1      Action|Adventure|Science Fiction|Thriller   \n",
       "2             Adventure|Science Fiction|Thriller   \n",
       "3       Action|Adventure|Science Fiction|Fantasy   \n",
       "4                          Action|Crime|Thriller   \n",
       "...                                          ...   \n",
       "10858                                 Comedy|War   \n",
       "10860                                     Comedy   \n",
       "10862                     Action|Adventure|Drama   \n",
       "10864                              Action|Comedy   \n",
       "10865                                     Horror   \n",
       "\n",
       "                                    production_companies release_date  \\\n",
       "0      Universal Studios|Amblin Entertainment|Legenda...       6/9/15   \n",
       "1      Village Roadshow Pictures|Kennedy Miller Produ...      5/13/15   \n",
       "2      Summit Entertainment|Mandeville Films|Red Wago...      3/18/15   \n",
       "3              Lucasfilm|Truenorth Productions|Bad Robot     12/15/15   \n",
       "4      Universal Pictures|Original Film|Media Rights ...       4/1/15   \n",
       "...                                                  ...          ...   \n",
       "10858                            The Mirisch Corporation      5/25/66   \n",
       "10860  Peter Rogers Productions|Anglo-Amalgamated Fil...      5/20/66   \n",
       "10862  Cherokee Productions|Joel Productions|Douglas ...     12/21/66   \n",
       "10864                            Benedict Pictures Corp.      11/2/66   \n",
       "10865                                          Norm-Iris     11/15/66   \n",
       "\n",
       "       vote_count  vote_average  release_year    budget_adj   revenue_adj  \n",
       "0            5562           6.5          2015  1.379999e+08  1.392446e+09  \n",
       "1            6185           7.1          2015  1.379999e+08  3.481613e+08  \n",
       "2            2480           6.3          2015  1.012000e+08  2.716190e+08  \n",
       "3            5292           7.5          2015  1.839999e+08  1.902723e+09  \n",
       "4            2947           7.3          2015  1.747999e+08  1.385749e+09  \n",
       "...           ...           ...           ...           ...           ...  \n",
       "10858          11           5.5          1966  0.000000e+00  0.000000e+00  \n",
       "10860          13           7.0          1966  0.000000e+00  0.000000e+00  \n",
       "10862          20           5.7          1966  0.000000e+00  0.000000e+00  \n",
       "10864          22           5.4          1966  0.000000e+00  0.000000e+00  \n",
       "10865          15           1.5          1966  1.276423e+05  0.000000e+00  \n",
       "\n",
       "[7030 rows x 18 columns]"
      ]
     },
     "execution_count": 22,
     "metadata": {},
     "output_type": "execute_result"
    }
   ],
   "source": [
    "df.drop([\"overview\",\"keywords\"],axis=1)"
   ]
  },
  {
   "cell_type": "code",
   "execution_count": 23,
   "id": "141cef72",
   "metadata": {},
   "outputs": [],
   "source": [
    "df.drop_duplicates(inplace=True)"
   ]
  },
  {
   "cell_type": "code",
   "execution_count": 24,
   "id": "49edf3bd",
   "metadata": {},
   "outputs": [
    {
     "data": {
      "text/plain": [
       "0"
      ]
     },
     "execution_count": 24,
     "metadata": {},
     "output_type": "execute_result"
    }
   ],
   "source": [
    "df.duplicated().sum()"
   ]
  },
  {
   "cell_type": "code",
   "execution_count": 25,
   "id": "3317e4c9",
   "metadata": {},
   "outputs": [
    {
     "data": {
      "text/plain": [
       "0        Action|Adventure|Science Fiction|Thriller\n",
       "1        Action|Adventure|Science Fiction|Thriller\n",
       "2               Adventure|Science Fiction|Thriller\n",
       "3         Action|Adventure|Science Fiction|Fantasy\n",
       "4                            Action|Crime|Thriller\n",
       "                           ...                    \n",
       "10858                                   Comedy|War\n",
       "10860                                       Comedy\n",
       "10862                       Action|Adventure|Drama\n",
       "10864                                Action|Comedy\n",
       "10865                                       Horror\n",
       "Name: genres, Length: 7030, dtype: object"
      ]
     },
     "execution_count": 25,
     "metadata": {},
     "output_type": "execute_result"
    }
   ],
   "source": [
    "df['genres']"
   ]
  },
  {
   "cell_type": "code",
   "execution_count": null,
   "id": "eeb961fe",
   "metadata": {},
   "outputs": [],
   "source": [
    "# i had to insert a new column contains the main genre because old column have more than 1000 unique value \n",
    "# that's why i used the first genre only to reduce unique values to 20 value"
   ]
  },
  {
   "cell_type": "code",
   "execution_count": 26,
   "id": "d3751cc7",
   "metadata": {},
   "outputs": [],
   "source": [
    "df['main_genres']=df['genres'].str.split('|')"
   ]
  },
  {
   "cell_type": "code",
   "execution_count": 27,
   "id": "d557bf1f",
   "metadata": {},
   "outputs": [],
   "source": [
    "df['main_genres']=df['main_genres'].apply(lambda x:x[0])"
   ]
  },
  {
   "cell_type": "code",
   "execution_count": 28,
   "id": "7fd9b467",
   "metadata": {},
   "outputs": [
    {
     "data": {
      "text/plain": [
       "0              Action\n",
       "1              Action\n",
       "2           Adventure\n",
       "3              Action\n",
       "4              Action\n",
       "5             Western\n",
       "6     Science Fiction\n",
       "7               Drama\n",
       "8              Family\n",
       "9              Comedy\n",
       "10             Action\n",
       "11    Science Fiction\n",
       "12              Drama\n",
       "13             Action\n",
       "14             Action\n",
       "15              Crime\n",
       "16              Crime\n",
       "17    Science Fiction\n",
       "18            Romance\n",
       "19                War\n",
       "Name: main_genres, dtype: object"
      ]
     },
     "execution_count": 28,
     "metadata": {},
     "output_type": "execute_result"
    }
   ],
   "source": [
    "df['main_genres'].head(20)"
   ]
  },
  {
   "cell_type": "code",
   "execution_count": 29,
   "id": "a493d269",
   "metadata": {},
   "outputs": [],
   "source": [
    "df.to_csv('version2.csv',index=False)"
   ]
  },
  {
   "cell_type": "code",
   "execution_count": 4,
   "id": "87aa97b1",
   "metadata": {},
   "outputs": [],
   "source": [
    "df=pd.read_csv('version2.csv')\n",
    "# save clean data"
   ]
  },
  {
   "cell_type": "code",
   "execution_count": 5,
   "id": "2ea2daad",
   "metadata": {},
   "outputs": [
    {
     "data": {
      "text/html": [
       "<div>\n",
       "<style scoped>\n",
       "    .dataframe tbody tr th:only-of-type {\n",
       "        vertical-align: middle;\n",
       "    }\n",
       "\n",
       "    .dataframe tbody tr th {\n",
       "        vertical-align: top;\n",
       "    }\n",
       "\n",
       "    .dataframe thead th {\n",
       "        text-align: right;\n",
       "    }\n",
       "</style>\n",
       "<table border=\"1\" class=\"dataframe\">\n",
       "  <thead>\n",
       "    <tr style=\"text-align: right;\">\n",
       "      <th></th>\n",
       "      <th>id</th>\n",
       "      <th>imdb_id</th>\n",
       "      <th>popularity</th>\n",
       "      <th>budget</th>\n",
       "      <th>revenue</th>\n",
       "      <th>original_title</th>\n",
       "      <th>cast</th>\n",
       "      <th>director</th>\n",
       "      <th>tagline</th>\n",
       "      <th>keywords</th>\n",
       "      <th>...</th>\n",
       "      <th>runtime</th>\n",
       "      <th>genres</th>\n",
       "      <th>production_companies</th>\n",
       "      <th>release_date</th>\n",
       "      <th>vote_count</th>\n",
       "      <th>vote_average</th>\n",
       "      <th>release_year</th>\n",
       "      <th>budget_adj</th>\n",
       "      <th>revenue_adj</th>\n",
       "      <th>main_genres</th>\n",
       "    </tr>\n",
       "  </thead>\n",
       "  <tbody>\n",
       "    <tr>\n",
       "      <th>0</th>\n",
       "      <td>135397</td>\n",
       "      <td>tt0369610</td>\n",
       "      <td>32.985763</td>\n",
       "      <td>150000000</td>\n",
       "      <td>1513528810</td>\n",
       "      <td>Jurassic World</td>\n",
       "      <td>Chris Pratt|Bryce Dallas Howard|Irrfan Khan|Vi...</td>\n",
       "      <td>Colin Trevorrow</td>\n",
       "      <td>The park is open.</td>\n",
       "      <td>monster|dna|tyrannosaurus rex|velociraptor|island</td>\n",
       "      <td>...</td>\n",
       "      <td>124</td>\n",
       "      <td>Action|Adventure|Science Fiction|Thriller</td>\n",
       "      <td>Universal Studios|Amblin Entertainment|Legenda...</td>\n",
       "      <td>6/9/15</td>\n",
       "      <td>5562</td>\n",
       "      <td>6.5</td>\n",
       "      <td>2015</td>\n",
       "      <td>1.379999e+08</td>\n",
       "      <td>1.392446e+09</td>\n",
       "      <td>Action</td>\n",
       "    </tr>\n",
       "    <tr>\n",
       "      <th>1</th>\n",
       "      <td>76341</td>\n",
       "      <td>tt1392190</td>\n",
       "      <td>28.419936</td>\n",
       "      <td>150000000</td>\n",
       "      <td>378436354</td>\n",
       "      <td>Mad Max: Fury Road</td>\n",
       "      <td>Tom Hardy|Charlize Theron|Hugh Keays-Byrne|Nic...</td>\n",
       "      <td>George Miller</td>\n",
       "      <td>What a Lovely Day.</td>\n",
       "      <td>future|chase|post-apocalyptic|dystopia|australia</td>\n",
       "      <td>...</td>\n",
       "      <td>120</td>\n",
       "      <td>Action|Adventure|Science Fiction|Thriller</td>\n",
       "      <td>Village Roadshow Pictures|Kennedy Miller Produ...</td>\n",
       "      <td>5/13/15</td>\n",
       "      <td>6185</td>\n",
       "      <td>7.1</td>\n",
       "      <td>2015</td>\n",
       "      <td>1.379999e+08</td>\n",
       "      <td>3.481613e+08</td>\n",
       "      <td>Action</td>\n",
       "    </tr>\n",
       "    <tr>\n",
       "      <th>2</th>\n",
       "      <td>262500</td>\n",
       "      <td>tt2908446</td>\n",
       "      <td>13.112507</td>\n",
       "      <td>110000000</td>\n",
       "      <td>295238201</td>\n",
       "      <td>Insurgent</td>\n",
       "      <td>Shailene Woodley|Theo James|Kate Winslet|Ansel...</td>\n",
       "      <td>Robert Schwentke</td>\n",
       "      <td>One Choice Can Destroy You</td>\n",
       "      <td>based on novel|revolution|dystopia|sequel|dyst...</td>\n",
       "      <td>...</td>\n",
       "      <td>119</td>\n",
       "      <td>Adventure|Science Fiction|Thriller</td>\n",
       "      <td>Summit Entertainment|Mandeville Films|Red Wago...</td>\n",
       "      <td>3/18/15</td>\n",
       "      <td>2480</td>\n",
       "      <td>6.3</td>\n",
       "      <td>2015</td>\n",
       "      <td>1.012000e+08</td>\n",
       "      <td>2.716190e+08</td>\n",
       "      <td>Adventure</td>\n",
       "    </tr>\n",
       "    <tr>\n",
       "      <th>3</th>\n",
       "      <td>140607</td>\n",
       "      <td>tt2488496</td>\n",
       "      <td>11.173104</td>\n",
       "      <td>200000000</td>\n",
       "      <td>2068178225</td>\n",
       "      <td>Star Wars: The Force Awakens</td>\n",
       "      <td>Harrison Ford|Mark Hamill|Carrie Fisher|Adam D...</td>\n",
       "      <td>J.J. Abrams</td>\n",
       "      <td>Every generation has a story.</td>\n",
       "      <td>android|spaceship|jedi|space opera|3d</td>\n",
       "      <td>...</td>\n",
       "      <td>136</td>\n",
       "      <td>Action|Adventure|Science Fiction|Fantasy</td>\n",
       "      <td>Lucasfilm|Truenorth Productions|Bad Robot</td>\n",
       "      <td>12/15/15</td>\n",
       "      <td>5292</td>\n",
       "      <td>7.5</td>\n",
       "      <td>2015</td>\n",
       "      <td>1.839999e+08</td>\n",
       "      <td>1.902723e+09</td>\n",
       "      <td>Action</td>\n",
       "    </tr>\n",
       "    <tr>\n",
       "      <th>4</th>\n",
       "      <td>168259</td>\n",
       "      <td>tt2820852</td>\n",
       "      <td>9.335014</td>\n",
       "      <td>190000000</td>\n",
       "      <td>1506249360</td>\n",
       "      <td>Furious 7</td>\n",
       "      <td>Vin Diesel|Paul Walker|Jason Statham|Michelle ...</td>\n",
       "      <td>James Wan</td>\n",
       "      <td>Vengeance Hits Home</td>\n",
       "      <td>car race|speed|revenge|suspense|car</td>\n",
       "      <td>...</td>\n",
       "      <td>137</td>\n",
       "      <td>Action|Crime|Thriller</td>\n",
       "      <td>Universal Pictures|Original Film|Media Rights ...</td>\n",
       "      <td>4/1/15</td>\n",
       "      <td>2947</td>\n",
       "      <td>7.3</td>\n",
       "      <td>2015</td>\n",
       "      <td>1.747999e+08</td>\n",
       "      <td>1.385749e+09</td>\n",
       "      <td>Action</td>\n",
       "    </tr>\n",
       "  </tbody>\n",
       "</table>\n",
       "<p>5 rows × 21 columns</p>\n",
       "</div>"
      ],
      "text/plain": [
       "       id    imdb_id  popularity     budget     revenue  \\\n",
       "0  135397  tt0369610   32.985763  150000000  1513528810   \n",
       "1   76341  tt1392190   28.419936  150000000   378436354   \n",
       "2  262500  tt2908446   13.112507  110000000   295238201   \n",
       "3  140607  tt2488496   11.173104  200000000  2068178225   \n",
       "4  168259  tt2820852    9.335014  190000000  1506249360   \n",
       "\n",
       "                 original_title  \\\n",
       "0                Jurassic World   \n",
       "1            Mad Max: Fury Road   \n",
       "2                     Insurgent   \n",
       "3  Star Wars: The Force Awakens   \n",
       "4                     Furious 7   \n",
       "\n",
       "                                                cast          director  \\\n",
       "0  Chris Pratt|Bryce Dallas Howard|Irrfan Khan|Vi...   Colin Trevorrow   \n",
       "1  Tom Hardy|Charlize Theron|Hugh Keays-Byrne|Nic...     George Miller   \n",
       "2  Shailene Woodley|Theo James|Kate Winslet|Ansel...  Robert Schwentke   \n",
       "3  Harrison Ford|Mark Hamill|Carrie Fisher|Adam D...       J.J. Abrams   \n",
       "4  Vin Diesel|Paul Walker|Jason Statham|Michelle ...         James Wan   \n",
       "\n",
       "                         tagline  \\\n",
       "0              The park is open.   \n",
       "1             What a Lovely Day.   \n",
       "2     One Choice Can Destroy You   \n",
       "3  Every generation has a story.   \n",
       "4            Vengeance Hits Home   \n",
       "\n",
       "                                            keywords  ... runtime  \\\n",
       "0  monster|dna|tyrannosaurus rex|velociraptor|island  ...     124   \n",
       "1   future|chase|post-apocalyptic|dystopia|australia  ...     120   \n",
       "2  based on novel|revolution|dystopia|sequel|dyst...  ...     119   \n",
       "3              android|spaceship|jedi|space opera|3d  ...     136   \n",
       "4                car race|speed|revenge|suspense|car  ...     137   \n",
       "\n",
       "                                      genres  \\\n",
       "0  Action|Adventure|Science Fiction|Thriller   \n",
       "1  Action|Adventure|Science Fiction|Thriller   \n",
       "2         Adventure|Science Fiction|Thriller   \n",
       "3   Action|Adventure|Science Fiction|Fantasy   \n",
       "4                      Action|Crime|Thriller   \n",
       "\n",
       "                                production_companies release_date vote_count  \\\n",
       "0  Universal Studios|Amblin Entertainment|Legenda...       6/9/15       5562   \n",
       "1  Village Roadshow Pictures|Kennedy Miller Produ...      5/13/15       6185   \n",
       "2  Summit Entertainment|Mandeville Films|Red Wago...      3/18/15       2480   \n",
       "3          Lucasfilm|Truenorth Productions|Bad Robot     12/15/15       5292   \n",
       "4  Universal Pictures|Original Film|Media Rights ...       4/1/15       2947   \n",
       "\n",
       "   vote_average  release_year    budget_adj   revenue_adj  main_genres  \n",
       "0           6.5          2015  1.379999e+08  1.392446e+09       Action  \n",
       "1           7.1          2015  1.379999e+08  3.481613e+08       Action  \n",
       "2           6.3          2015  1.012000e+08  2.716190e+08    Adventure  \n",
       "3           7.5          2015  1.839999e+08  1.902723e+09       Action  \n",
       "4           7.3          2015  1.747999e+08  1.385749e+09       Action  \n",
       "\n",
       "[5 rows x 21 columns]"
      ]
     },
     "execution_count": 5,
     "metadata": {},
     "output_type": "execute_result"
    }
   ],
   "source": [
    "df.head()"
   ]
  },
  {
   "cell_type": "markdown",
   "id": "d886a143",
   "metadata": {},
   "source": [
    "# Asking questions"
   ]
  },
  {
   "cell_type": "code",
   "execution_count": null,
   "id": "3ad6e10b",
   "metadata": {},
   "outputs": [],
   "source": [
    "# Q1: Which genres are most popular from year to year?\n",
    "# Q2: What kinds of properties are associated with movies that have high revenues?\n",
    "# Q3: what are more popular long movies or short movies?\n",
    "# Q4: who is the most successful director 1960-2015 highest revenue_adj (average)?\n",
    "# Q5: who (director) has the most popular movies from 2001-2015?\n",
    "# Q6: who (director) has the highest vote average from 2001-2015?\n",
    "# Q7: who (director) has the highest vote average from 2001-2015 for directors has participated in more than 3 movies?"
   ]
  },
  {
   "cell_type": "markdown",
   "id": "6bf732fe",
   "metadata": {},
   "source": [
    "# EDA"
   ]
  },
  {
   "cell_type": "code",
   "execution_count": null,
   "id": "a4d1584e",
   "metadata": {},
   "outputs": [],
   "source": [
    "# define two lists ,mylist contains average popularity of each genre"
   ]
  },
  {
   "cell_type": "code",
   "execution_count": 32,
   "id": "95c1021f",
   "metadata": {},
   "outputs": [],
   "source": [
    "mylist=[]\n",
    "years=[]\n",
    "for year in df['release_year'].unique():\n",
    "    mylist.append(df.query(f'release_year == {year}').groupby('main_genres')['popularity'].mean())\n",
    "    years.append(year)\n"
   ]
  },
  {
   "cell_type": "code",
   "execution_count": null,
   "id": "1d0af74b",
   "metadata": {},
   "outputs": [],
   "source": []
  },
  {
   "cell_type": "code",
   "execution_count": null,
   "id": "0b2092fb",
   "metadata": {},
   "outputs": [],
   "source": []
  },
  {
   "cell_type": "code",
   "execution_count": null,
   "id": "2aab32e9",
   "metadata": {},
   "outputs": [],
   "source": [
    "# list contains highest pop for years from 2015 ,2014 ,..."
   ]
  },
  {
   "cell_type": "code",
   "execution_count": 33,
   "id": "cd170fde",
   "metadata": {},
   "outputs": [],
   "source": [
    "highest_pop=[]\n",
    "for i in mylist:\n",
    "    highest_pop.append(i.max())"
   ]
  },
  {
   "cell_type": "code",
   "execution_count": 34,
   "id": "8e5b9c25",
   "metadata": {},
   "outputs": [
    {
     "data": {
      "text/plain": [
       "pandas.core.series.Series"
      ]
     },
     "execution_count": 34,
     "metadata": {},
     "output_type": "execute_result"
    }
   ],
   "source": [
    "type(mylist[0])"
   ]
  },
  {
   "cell_type": "code",
   "execution_count": 51,
   "id": "b333c793",
   "metadata": {},
   "outputs": [],
   "source": [
    "newlist=[]\n",
    "for i in mylist:\n",
    "    newlist.append(i.to_frame())"
   ]
  },
  {
   "cell_type": "code",
   "execution_count": 52,
   "id": "5d2cc9ff",
   "metadata": {},
   "outputs": [],
   "source": [
    "highest_pop_df=[]\n",
    "for ind in range(len(newlist)):\n",
    "    highest_pop_df.append(newlist[ind].query(f'popularity == {highest_pop[ind]}'))"
   ]
  },
  {
   "cell_type": "code",
   "execution_count": 53,
   "id": "9a4623a5",
   "metadata": {},
   "outputs": [
    {
     "name": "stdout",
     "output_type": "stream",
     "text": [
      "Adventure\n"
     ]
    }
   ],
   "source": [
    "print(str(highest_pop_df[2].popularity).split('    ')[0][12:])"
   ]
  },
  {
   "cell_type": "code",
   "execution_count": null,
   "id": "f627fe99",
   "metadata": {},
   "outputs": [],
   "source": [
    "# define list contains popular genre  "
   ]
  },
  {
   "cell_type": "code",
   "execution_count": 54,
   "id": "cad68617",
   "metadata": {},
   "outputs": [],
   "source": [
    "popular_genres=[]\n",
    "for i in range(len(highest_pop_df)):\n",
    "    popular_genres.append(str(highest_pop_df[i].popularity).split('    ')[0][12:])"
   ]
  },
  {
   "cell_type": "code",
   "execution_count": 55,
   "id": "a701cf6c",
   "metadata": {},
   "outputs": [
    {
     "data": {
      "text/plain": [
       "56"
      ]
     },
     "execution_count": 55,
     "metadata": {},
     "output_type": "execute_result"
    }
   ],
   "source": [
    "len(popular_genres)"
   ]
  },
  {
   "cell_type": "code",
   "execution_count": 77,
   "id": "5843953b",
   "metadata": {},
   "outputs": [
    {
     "data": {
      "image/png": "[encoded data removed]",
      "text/plain": [
       "<Figure size 1080x504 with 1 Axes>"
      ]
     },
     "metadata": {
      "needs_background": "light"
     },
     "output_type": "display_data"
    }
   ],
   "source": [
    "plt.figure(figsize=(15, 7))\n",
    "plt.grid(True)\n",
    "plt.title('the most popular genres over time')\n",
    "plt.xlabel('years')\n",
    "plt.ylabel('genre')\n",
    "plt.bar(years,popular_genres);"
   ]
  },
  {
   "cell_type": "code",
   "execution_count": 75,
   "id": "05f2df97",
   "metadata": {},
   "outputs": [
    {
     "data": {
      "image/png": "[encoded data removed]",
      "text/plain": [
       "<Figure size 1080x504 with 1 Axes>"
      ]
     },
     "metadata": {
      "needs_background": "light"
     },
     "output_type": "display_data"
    }
   ],
   "source": [
    "plt.figure(figsize=(15, 7))\n",
    "plt.grid(True)\n",
    "plt.title('the most popular genres over time')\n",
    "plt.xlabel('years')\n",
    "plt.ylabel('genre')\n",
    "plt.scatter(years,popular_genres);"
   ]
  },
  {
   "cell_type": "markdown",
   "id": "b704138c",
   "metadata": {},
   "source": [
    "## this plot shows the most popular genre from year to year (maximum average popularity)\n",
    "## These points point to the most popular genre of this year."
   ]
  },
  {
   "cell_type": "code",
   "execution_count": 60,
   "id": "98b2d6d0",
   "metadata": {},
   "outputs": [],
   "source": [
    "newlist[0]['main_genres']=newlist[0].index\n"
   ]
  },
  {
   "cell_type": "code",
   "execution_count": 61,
   "id": "3954fe03",
   "metadata": {},
   "outputs": [],
   "source": [
    "for i in range(len(newlist)):\n",
    "    newlist[i]['main_genres']=newlist[i].index\n",
    "# this loop to can access main_genres because it was used as index "
   ]
  },
  {
   "cell_type": "code",
   "execution_count": 62,
   "id": "48b05ebe",
   "metadata": {},
   "outputs": [],
   "source": [
    "for i in range(len(newlist)):\n",
    "    newlist[i]['main_genres']=newlist[i]['main_genres'].apply(lambda x:x.lower().strip().replace(' ','_'))"
   ]
  },
  {
   "cell_type": "code",
   "execution_count": 63,
   "id": "2e6b24b9",
   "metadata": {},
   "outputs": [
    {
     "data": {
      "text/plain": [
       "str"
      ]
     },
     "execution_count": 63,
     "metadata": {},
     "output_type": "execute_result"
    }
   ],
   "source": [
    "type(newlist[0].main_genres[0])"
   ]
  },
  {
   "cell_type": "code",
   "execution_count": 65,
   "id": "e78a6c04",
   "metadata": {},
   "outputs": [
    {
     "data": {
      "text/plain": [
       "'action'"
      ]
     },
     "execution_count": 65,
     "metadata": {},
     "output_type": "execute_result"
    }
   ],
   "source": [
    "all_genres_str = newlist[0]['main_genres']\n",
    "all_genres_str[0]"
   ]
  },
  {
   "cell_type": "code",
   "execution_count": 482,
   "id": "5a59d2ac",
   "metadata": {},
   "outputs": [],
   "source": [
    "#  The next 2 cells were quite challenging\n",
    "#  I want to show the most popular genre over time with a second way\n",
    "#  define a list for every genre contains average popularity year to year \n",
    "#  nested for loop \n",
    "#  newlist loop for every year contains a frame of {'genre':'popularity average'}\n",
    "#  all_genres loop for every genre(list) to append popularity average in this year "
   ]
  },
  {
   "cell_type": "code",
   "execution_count": 66,
   "id": "20893d25",
   "metadata": {},
   "outputs": [],
   "source": [
    "action=[]\n",
    "adventure=[]\n",
    "animation=[]\n",
    "comedy=[]\n",
    "crime=[]\n",
    "documentary=[]\n",
    "drama=[]\n",
    "family=[]\n",
    "fantasy=[]\n",
    "history=[]\n",
    "horror=[]\n",
    "music=[]\n",
    "mystery=[]\n",
    "romance=[]\n",
    "science_fiction=[]\n",
    "tv_movie=[]\n",
    "thriller=[]\n",
    "war=[]\n",
    "western=[]\n",
    "\n",
    "all_genres=[action,adventure,animation,comedy,crime,documentary,drama,family,fantasy,history,horror,music,mystery,romance,science_fiction,tv_movie,thriller,war,western]"
   ]
  },
  {
   "cell_type": "code",
   "execution_count": 67,
   "id": "bfcbf53f",
   "metadata": {},
   "outputs": [],
   "source": [
    "for i in range(len(newlist)):\n",
    "    for c in range(len(all_genres)):\n",
    "        try:\n",
    "            all_genres[c].append(newlist[i].query(f'main_genres == \"{all_genres_str[c]}\"')['popularity'][0])\n",
    "        except:\n",
    "            all_genres[c].append(float(0))"
   ]
  },
  {
   "cell_type": "code",
   "execution_count": null,
   "id": "1a5c8a75",
   "metadata": {},
   "outputs": [],
   "source": [
    "# loop to plot all genres in the same fig instead of writing code manually"
   ]
  },
  {
   "cell_type": "code",
   "execution_count": 68,
   "id": "d33c8537",
   "metadata": {},
   "outputs": [
    {
     "name": "stdout",
     "output_type": "stream",
     "text": [
      "plt.bar(years,action,label = \"action\")\n",
      "plt.bar(years,adventure,label = \"adventure\")\n",
      "plt.bar(years,animation,label = \"animation\")\n",
      "plt.bar(years,comedy,label = \"comedy\")\n",
      "plt.bar(years,crime,label = \"crime\")\n",
      "plt.bar(years,documentary,label = \"documentary\")\n",
      "plt.bar(years,drama,label = \"drama\")\n",
      "plt.bar(years,family,label = \"family\")\n",
      "plt.bar(years,fantasy,label = \"fantasy\")\n",
      "plt.bar(years,history,label = \"history\")\n",
      "plt.bar(years,horror,label = \"horror\")\n",
      "plt.bar(years,music,label = \"music\")\n",
      "plt.bar(years,mystery,label = \"mystery\")\n",
      "plt.bar(years,romance,label = \"romance\")\n",
      "plt.bar(years,science_fiction,label = \"science_fiction\")\n",
      "plt.bar(years,tv_movie,label = \"tv_movie\")\n",
      "plt.bar(years,thriller,label = \"thriller\")\n",
      "plt.bar(years,war,label = \"war\")\n",
      "plt.bar(years,western,label = \"western\")\n"
     ]
    }
   ],
   "source": [
    "for gen in all_genres_str:\n",
    "    print(f'plt.bar(years,{gen},label = \"{gen}\")')"
   ]
  },
  {
   "cell_type": "markdown",
   "id": "c1b35523",
   "metadata": {},
   "source": [
    "## The most popular genres over time"
   ]
  },
  {
   "cell_type": "code",
   "execution_count": 69,
   "id": "85c8b959",
   "metadata": {},
   "outputs": [
    {
     "data": {
      "image/png": "[encoded data removed]",
      "text/plain": [
       "<Figure size 1080x504 with 1 Axes>"
      ]
     },
     "metadata": {
      "needs_background": "light"
     },
     "output_type": "display_data"
    }
   ],
   "source": [
    "plt.figure(figsize=(15, 7))\n",
    "plt.bar(years,action,label = \"action\")\n",
    "plt.bar(years,adventure,label = \"adventure\")\n",
    "plt.bar(years,animation,label = \"animation\")\n",
    "plt.bar(years,comedy,label = \"comedy\")\n",
    "plt.bar(years,crime,label = \"crime\")\n",
    "plt.bar(years,documentary,label = \"documentary\")\n",
    "plt.bar(years,drama,label = \"drama\")\n",
    "plt.bar(years,family,label = \"family\")\n",
    "plt.bar(years,fantasy,label = \"fantasy\")\n",
    "plt.bar(years,history,label = \"history\")\n",
    "plt.bar(years,horror,label = \"horror\")\n",
    "plt.bar(years,music,label = \"music\")\n",
    "plt.bar(years,mystery,label = \"mystery\")\n",
    "plt.bar(years,romance,label = \"romance\")\n",
    "plt.bar(years,science_fiction,label = \"science_fiction\")\n",
    "plt.bar(years,tv_movie,label = \"tv_movie\")\n",
    "plt.bar(years,thriller,label = \"thriller\")\n",
    "plt.bar(years,war,label = \"war\")\n",
    "plt.bar(years,western,label = \"western\")\n",
    "plt.xlabel(\"Years\")\n",
    "plt.ylabel(\"Popularity\")\n",
    "plt.title(\"The most popular genres over time\")\n",
    "plt.legend()\n",
    "plt.show()"
   ]
  },
  {
   "cell_type": "markdown",
   "id": "3e4b6366",
   "metadata": {},
   "source": [
    "## You can notice the dominant color every year that expresses the most popular genre of this year."
   ]
  },
  {
   "cell_type": "code",
   "execution_count": 70,
   "id": "e5e99e58",
   "metadata": {},
   "outputs": [
    {
     "data": {
      "image/png": "[encoded data removed]",
      "text/plain": [
       "<Figure size 432x288 with 1 Axes>"
      ]
     },
     "metadata": {
      "needs_background": "light"
     },
     "output_type": "display_data"
    }
   ],
   "source": [
    "df.plot(kind='scatter',y='vote_average',x=\"runtime\");\n",
    "plt.title('Relation between runtime and vote average')\n",
    "plt.xlabel('runtime')\n",
    "plt.ylabel('vote average')\n",
    "plt.show()"
   ]
  },
  {
   "cell_type": "code",
   "execution_count": 71,
   "id": "5dc94828",
   "metadata": {},
   "outputs": [
    {
     "name": "stdout",
     "output_type": "stream",
     "text": [
      "6.284\n",
      "5.761\n"
     ]
    }
   ],
   "source": [
    "print(df.query(f'runtime > {df.runtime.median()}')['vote_average'].mean().round(3))\n",
    "print(df.query(f'runtime <= {df.runtime.median()}')['vote_average'].mean().round(3))"
   ]
  },
  {
   "cell_type": "markdown",
   "id": "575254e7",
   "metadata": {},
   "source": [
    "### long movies have a higher vote average and higher popularity also"
   ]
  },
  {
   "cell_type": "code",
   "execution_count": 72,
   "id": "5aed7f2f",
   "metadata": {},
   "outputs": [
    {
     "name": "stdout",
     "output_type": "stream",
     "text": [
      "1.054\n",
      "0.62\n"
     ]
    }
   ],
   "source": [
    "print(df.query(f'runtime > {df.runtime.median()}')['popularity'].mean().round(3))\n",
    "print(df.query(f'runtime <= {df.runtime.median()}')['popularity'].mean().round(3))"
   ]
  },
  {
   "cell_type": "code",
   "execution_count": 121,
   "id": "7ebeeda0",
   "metadata": {},
   "outputs": [
    {
     "data": {
      "image/png": "[encoded data removed]",
      "text/plain": [
       "<Figure size 432x288 with 2 Axes>"
      ]
     },
     "metadata": {
      "needs_background": "light"
     },
     "output_type": "display_data"
    }
   ],
   "source": [
    "movies=['Long movies','Short movies']\n",
    "pop_movies=[1.054,0.62]\n",
    "vote_movies=[6.284,5.761]\n",
    "plt.figure()\n",
    "plt.subplot(121)\n",
    "plt.bar(movies,pop_movies)\n",
    "plt.title('popularity average')\n",
    "\n",
    "plt.subplot(122)\n",
    "plt.bar(movies,vote_movies)\n",
    "plt.title('vote average')\n",
    "plt.show()"
   ]
  },
  {
   "cell_type": "code",
   "execution_count": 73,
   "id": "090a45bf",
   "metadata": {},
   "outputs": [
    {
     "data": {
      "image/png": "[encoded data removed]",
      "text/plain": [
       "<Figure size 432x288 with 1 Axes>"
      ]
     },
     "metadata": {
      "needs_background": "light"
     },
     "output_type": "display_data"
    }
   ],
   "source": [
    "df.plot(kind='scatter',x='revenue_adj',y='budget_adj');\n",
    "plt.title('Relation revenue adj and budget adj')\n",
    "plt.ylabel('budget')\n",
    "plt.xlabel('revenue')\n",
    "plt.show()"
   ]
  },
  {
   "cell_type": "code",
   "execution_count": 78,
   "id": "00c7da21",
   "metadata": {},
   "outputs": [
    {
     "data": {
      "text/html": [
       "<div>\n",
       "<style scoped>\n",
       "    .dataframe tbody tr th:only-of-type {\n",
       "        vertical-align: middle;\n",
       "    }\n",
       "\n",
       "    .dataframe tbody tr th {\n",
       "        vertical-align: top;\n",
       "    }\n",
       "\n",
       "    .dataframe thead th {\n",
       "        text-align: right;\n",
       "    }\n",
       "</style>\n",
       "<table border=\"1\" class=\"dataframe\">\n",
       "  <thead>\n",
       "    <tr style=\"text-align: right;\">\n",
       "      <th></th>\n",
       "      <th>id</th>\n",
       "      <th>imdb_id</th>\n",
       "      <th>popularity</th>\n",
       "      <th>budget</th>\n",
       "      <th>revenue</th>\n",
       "      <th>original_title</th>\n",
       "      <th>cast</th>\n",
       "      <th>director</th>\n",
       "      <th>tagline</th>\n",
       "      <th>keywords</th>\n",
       "      <th>...</th>\n",
       "      <th>runtime</th>\n",
       "      <th>genres</th>\n",
       "      <th>production_companies</th>\n",
       "      <th>release_date</th>\n",
       "      <th>vote_count</th>\n",
       "      <th>vote_average</th>\n",
       "      <th>release_year</th>\n",
       "      <th>budget_adj</th>\n",
       "      <th>revenue_adj</th>\n",
       "      <th>main_genres</th>\n",
       "    </tr>\n",
       "  </thead>\n",
       "  <tbody>\n",
       "    <tr>\n",
       "      <th>0</th>\n",
       "      <td>135397</td>\n",
       "      <td>tt0369610</td>\n",
       "      <td>32.985763</td>\n",
       "      <td>150000000</td>\n",
       "      <td>1513528810</td>\n",
       "      <td>Jurassic World</td>\n",
       "      <td>Chris Pratt|Bryce Dallas Howard|Irrfan Khan|Vi...</td>\n",
       "      <td>Colin Trevorrow</td>\n",
       "      <td>The park is open.</td>\n",
       "      <td>monster|dna|tyrannosaurus rex|velociraptor|island</td>\n",
       "      <td>...</td>\n",
       "      <td>124</td>\n",
       "      <td>Action|Adventure|Science Fiction|Thriller</td>\n",
       "      <td>Universal Studios|Amblin Entertainment|Legenda...</td>\n",
       "      <td>6/9/15</td>\n",
       "      <td>5562</td>\n",
       "      <td>6.5</td>\n",
       "      <td>2015</td>\n",
       "      <td>1.379999e+08</td>\n",
       "      <td>1.392446e+09</td>\n",
       "      <td>Action</td>\n",
       "    </tr>\n",
       "  </tbody>\n",
       "</table>\n",
       "<p>1 rows × 21 columns</p>\n",
       "</div>"
      ],
      "text/plain": [
       "       id    imdb_id  popularity     budget     revenue  original_title  \\\n",
       "0  135397  tt0369610   32.985763  150000000  1513528810  Jurassic World   \n",
       "\n",
       "                                                cast         director  \\\n",
       "0  Chris Pratt|Bryce Dallas Howard|Irrfan Khan|Vi...  Colin Trevorrow   \n",
       "\n",
       "             tagline                                           keywords  ...  \\\n",
       "0  The park is open.  monster|dna|tyrannosaurus rex|velociraptor|island  ...   \n",
       "\n",
       "  runtime                                     genres  \\\n",
       "0     124  Action|Adventure|Science Fiction|Thriller   \n",
       "\n",
       "                                production_companies release_date vote_count  \\\n",
       "0  Universal Studios|Amblin Entertainment|Legenda...       6/9/15       5562   \n",
       "\n",
       "   vote_average  release_year    budget_adj   revenue_adj  main_genres  \n",
       "0           6.5          2015  1.379999e+08  1.392446e+09       Action  \n",
       "\n",
       "[1 rows x 21 columns]"
      ]
     },
     "execution_count": 78,
     "metadata": {},
     "output_type": "execute_result"
    }
   ],
   "source": [
    "df.head(1)"
   ]
  },
  {
   "cell_type": "markdown",
   "id": "16349843",
   "metadata": {},
   "source": [
    "## exploring properties is associated with movies that have high revenues\n",
    "###  I think that budget and popularity have a positive correlation with revenue."
   ]
  },
  {
   "cell_type": "code",
   "execution_count": 80,
   "id": "4e2a9930",
   "metadata": {},
   "outputs": [
    {
     "data": {
      "image/png": "[encoded data removed]",
      "text/plain": [
       "<Figure size 1080x1080 with 100 Axes>"
      ]
     },
     "metadata": {
      "needs_background": "light"
     },
     "output_type": "display_data"
    }
   ],
   "source": [
    "pd.plotting.scatter_matrix(df, figsize = (15,15));\n",
    "# plt.title('scatter plot matrix for all numerical attributes')\n",
    "# the printed in the fig so i commented this line \n",
    "plt.show()"
   ]
  },
  {
   "cell_type": "code",
   "execution_count": 81,
   "id": "16cbab77",
   "metadata": {},
   "outputs": [
    {
     "data": {
      "text/html": [
       "<div>\n",
       "<style scoped>\n",
       "    .dataframe tbody tr th:only-of-type {\n",
       "        vertical-align: middle;\n",
       "    }\n",
       "\n",
       "    .dataframe tbody tr th {\n",
       "        vertical-align: top;\n",
       "    }\n",
       "\n",
       "    .dataframe thead th {\n",
       "        text-align: right;\n",
       "    }\n",
       "</style>\n",
       "<table border=\"1\" class=\"dataframe\">\n",
       "  <thead>\n",
       "    <tr style=\"text-align: right;\">\n",
       "      <th></th>\n",
       "      <th>revenue_adj</th>\n",
       "    </tr>\n",
       "    <tr>\n",
       "      <th>director</th>\n",
       "      <th></th>\n",
       "    </tr>\n",
       "  </thead>\n",
       "  <tbody>\n",
       "    <tr>\n",
       "      <th>Aaron Blaise|Robert Walker</th>\n",
       "      <td>2.963382e+02</td>\n",
       "    </tr>\n",
       "    <tr>\n",
       "      <th>Aaron Hann|Mario Miscione</th>\n",
       "      <td>0.000000e+00</td>\n",
       "    </tr>\n",
       "    <tr>\n",
       "      <th>Aaron Harvey</th>\n",
       "      <td>0.000000e+00</td>\n",
       "    </tr>\n",
       "    <tr>\n",
       "      <th>Aaron Katz|Martha Stephens</th>\n",
       "      <td>0.000000e+00</td>\n",
       "    </tr>\n",
       "    <tr>\n",
       "      <th>Aaron Norris</th>\n",
       "      <td>6.290942e+06</td>\n",
       "    </tr>\n",
       "  </tbody>\n",
       "</table>\n",
       "</div>"
      ],
      "text/plain": [
       "                             revenue_adj\n",
       "director                                \n",
       "Aaron Blaise|Robert Walker  2.963382e+02\n",
       "Aaron Hann|Mario Miscione   0.000000e+00\n",
       "Aaron Harvey                0.000000e+00\n",
       "Aaron Katz|Martha Stephens  0.000000e+00\n",
       "Aaron Norris                6.290942e+06"
      ]
     },
     "execution_count": 81,
     "metadata": {},
     "output_type": "execute_result"
    }
   ],
   "source": [
    "new_df=df.groupby('director').revenue_adj.mean()\n",
    "new_df.to_frame().head()"
   ]
  },
  {
   "cell_type": "code",
   "execution_count": 82,
   "id": "4a064312",
   "metadata": {},
   "outputs": [],
   "source": [
    "new_df=new_df.to_frame()"
   ]
  },
  {
   "cell_type": "code",
   "execution_count": 83,
   "id": "ea1bb1ee",
   "metadata": {},
   "outputs": [],
   "source": [
    "new_df['director']=new_df.index"
   ]
  },
  {
   "cell_type": "code",
   "execution_count": 84,
   "id": "77b2ea19",
   "metadata": {},
   "outputs": [
    {
     "data": {
      "text/plain": [
       "1574814739.70476"
      ]
     },
     "execution_count": 84,
     "metadata": {},
     "output_type": "execute_result"
    }
   ],
   "source": [
    "new_df.revenue_adj.max()"
   ]
  },
  {
   "cell_type": "markdown",
   "id": "98241c10",
   "metadata": {},
   "source": [
    "# the most successful director 1960-2015 highest revenue_adj  (average)"
   ]
  },
  {
   "cell_type": "code",
   "execution_count": 85,
   "id": "37dd92dc",
   "metadata": {},
   "outputs": [
    {
     "data": {
      "text/plain": [
       "'Clyde Geronimi|Hamilton Luske|Wolfgang Reitherman'"
      ]
     },
     "execution_count": 85,
     "metadata": {},
     "output_type": "execute_result"
    }
   ],
   "source": [
    "new_df.query('revenue_adj == 1574814739.70476')['director'][0]"
   ]
  },
  {
   "cell_type": "markdown",
   "id": "e30860a3",
   "metadata": {},
   "source": [
    "_______________"
   ]
  },
  {
   "cell_type": "markdown",
   "id": "a28db241",
   "metadata": {},
   "source": [
    "### Let's know more about the last 15 years"
   ]
  },
  {
   "cell_type": "code",
   "execution_count": 86,
   "id": "6e1619e6",
   "metadata": {},
   "outputs": [
    {
     "data": {
      "text/html": [
       "<div>\n",
       "<style scoped>\n",
       "    .dataframe tbody tr th:only-of-type {\n",
       "        vertical-align: middle;\n",
       "    }\n",
       "\n",
       "    .dataframe tbody tr th {\n",
       "        vertical-align: top;\n",
       "    }\n",
       "\n",
       "    .dataframe thead th {\n",
       "        text-align: right;\n",
       "    }\n",
       "</style>\n",
       "<table border=\"1\" class=\"dataframe\">\n",
       "  <thead>\n",
       "    <tr style=\"text-align: right;\">\n",
       "      <th></th>\n",
       "      <th>id</th>\n",
       "      <th>imdb_id</th>\n",
       "      <th>popularity</th>\n",
       "      <th>budget</th>\n",
       "      <th>revenue</th>\n",
       "      <th>original_title</th>\n",
       "      <th>cast</th>\n",
       "      <th>director</th>\n",
       "      <th>tagline</th>\n",
       "      <th>keywords</th>\n",
       "      <th>...</th>\n",
       "      <th>runtime</th>\n",
       "      <th>genres</th>\n",
       "      <th>production_companies</th>\n",
       "      <th>release_date</th>\n",
       "      <th>vote_count</th>\n",
       "      <th>vote_average</th>\n",
       "      <th>release_year</th>\n",
       "      <th>budget_adj</th>\n",
       "      <th>revenue_adj</th>\n",
       "      <th>main_genres</th>\n",
       "    </tr>\n",
       "  </thead>\n",
       "  <tbody>\n",
       "    <tr>\n",
       "      <th>0</th>\n",
       "      <td>135397</td>\n",
       "      <td>tt0369610</td>\n",
       "      <td>32.985763</td>\n",
       "      <td>150000000</td>\n",
       "      <td>1513528810</td>\n",
       "      <td>Jurassic World</td>\n",
       "      <td>Chris Pratt|Bryce Dallas Howard|Irrfan Khan|Vi...</td>\n",
       "      <td>Colin Trevorrow</td>\n",
       "      <td>The park is open.</td>\n",
       "      <td>monster|dna|tyrannosaurus rex|velociraptor|island</td>\n",
       "      <td>...</td>\n",
       "      <td>124</td>\n",
       "      <td>Action|Adventure|Science Fiction|Thriller</td>\n",
       "      <td>Universal Studios|Amblin Entertainment|Legenda...</td>\n",
       "      <td>6/9/15</td>\n",
       "      <td>5562</td>\n",
       "      <td>6.5</td>\n",
       "      <td>2015</td>\n",
       "      <td>1.379999e+08</td>\n",
       "      <td>1.392446e+09</td>\n",
       "      <td>Action</td>\n",
       "    </tr>\n",
       "    <tr>\n",
       "      <th>1</th>\n",
       "      <td>76341</td>\n",
       "      <td>tt1392190</td>\n",
       "      <td>28.419936</td>\n",
       "      <td>150000000</td>\n",
       "      <td>378436354</td>\n",
       "      <td>Mad Max: Fury Road</td>\n",
       "      <td>Tom Hardy|Charlize Theron|Hugh Keays-Byrne|Nic...</td>\n",
       "      <td>George Miller</td>\n",
       "      <td>What a Lovely Day.</td>\n",
       "      <td>future|chase|post-apocalyptic|dystopia|australia</td>\n",
       "      <td>...</td>\n",
       "      <td>120</td>\n",
       "      <td>Action|Adventure|Science Fiction|Thriller</td>\n",
       "      <td>Village Roadshow Pictures|Kennedy Miller Produ...</td>\n",
       "      <td>5/13/15</td>\n",
       "      <td>6185</td>\n",
       "      <td>7.1</td>\n",
       "      <td>2015</td>\n",
       "      <td>1.379999e+08</td>\n",
       "      <td>3.481613e+08</td>\n",
       "      <td>Action</td>\n",
       "    </tr>\n",
       "    <tr>\n",
       "      <th>2</th>\n",
       "      <td>262500</td>\n",
       "      <td>tt2908446</td>\n",
       "      <td>13.112507</td>\n",
       "      <td>110000000</td>\n",
       "      <td>295238201</td>\n",
       "      <td>Insurgent</td>\n",
       "      <td>Shailene Woodley|Theo James|Kate Winslet|Ansel...</td>\n",
       "      <td>Robert Schwentke</td>\n",
       "      <td>One Choice Can Destroy You</td>\n",
       "      <td>based on novel|revolution|dystopia|sequel|dyst...</td>\n",
       "      <td>...</td>\n",
       "      <td>119</td>\n",
       "      <td>Adventure|Science Fiction|Thriller</td>\n",
       "      <td>Summit Entertainment|Mandeville Films|Red Wago...</td>\n",
       "      <td>3/18/15</td>\n",
       "      <td>2480</td>\n",
       "      <td>6.3</td>\n",
       "      <td>2015</td>\n",
       "      <td>1.012000e+08</td>\n",
       "      <td>2.716190e+08</td>\n",
       "      <td>Adventure</td>\n",
       "    </tr>\n",
       "    <tr>\n",
       "      <th>3</th>\n",
       "      <td>140607</td>\n",
       "      <td>tt2488496</td>\n",
       "      <td>11.173104</td>\n",
       "      <td>200000000</td>\n",
       "      <td>2068178225</td>\n",
       "      <td>Star Wars: The Force Awakens</td>\n",
       "      <td>Harrison Ford|Mark Hamill|Carrie Fisher|Adam D...</td>\n",
       "      <td>J.J. Abrams</td>\n",
       "      <td>Every generation has a story.</td>\n",
       "      <td>android|spaceship|jedi|space opera|3d</td>\n",
       "      <td>...</td>\n",
       "      <td>136</td>\n",
       "      <td>Action|Adventure|Science Fiction|Fantasy</td>\n",
       "      <td>Lucasfilm|Truenorth Productions|Bad Robot</td>\n",
       "      <td>12/15/15</td>\n",
       "      <td>5292</td>\n",
       "      <td>7.5</td>\n",
       "      <td>2015</td>\n",
       "      <td>1.839999e+08</td>\n",
       "      <td>1.902723e+09</td>\n",
       "      <td>Action</td>\n",
       "    </tr>\n",
       "    <tr>\n",
       "      <th>4</th>\n",
       "      <td>168259</td>\n",
       "      <td>tt2820852</td>\n",
       "      <td>9.335014</td>\n",
       "      <td>190000000</td>\n",
       "      <td>1506249360</td>\n",
       "      <td>Furious 7</td>\n",
       "      <td>Vin Diesel|Paul Walker|Jason Statham|Michelle ...</td>\n",
       "      <td>James Wan</td>\n",
       "      <td>Vengeance Hits Home</td>\n",
       "      <td>car race|speed|revenge|suspense|car</td>\n",
       "      <td>...</td>\n",
       "      <td>137</td>\n",
       "      <td>Action|Crime|Thriller</td>\n",
       "      <td>Universal Pictures|Original Film|Media Rights ...</td>\n",
       "      <td>4/1/15</td>\n",
       "      <td>2947</td>\n",
       "      <td>7.3</td>\n",
       "      <td>2015</td>\n",
       "      <td>1.747999e+08</td>\n",
       "      <td>1.385749e+09</td>\n",
       "      <td>Action</td>\n",
       "    </tr>\n",
       "  </tbody>\n",
       "</table>\n",
       "<p>5 rows × 21 columns</p>\n",
       "</div>"
      ],
      "text/plain": [
       "       id    imdb_id  popularity     budget     revenue  \\\n",
       "0  135397  tt0369610   32.985763  150000000  1513528810   \n",
       "1   76341  tt1392190   28.419936  150000000   378436354   \n",
       "2  262500  tt2908446   13.112507  110000000   295238201   \n",
       "3  140607  tt2488496   11.173104  200000000  2068178225   \n",
       "4  168259  tt2820852    9.335014  190000000  1506249360   \n",
       "\n",
       "                 original_title  \\\n",
       "0                Jurassic World   \n",
       "1            Mad Max: Fury Road   \n",
       "2                     Insurgent   \n",
       "3  Star Wars: The Force Awakens   \n",
       "4                     Furious 7   \n",
       "\n",
       "                                                cast          director  \\\n",
       "0  Chris Pratt|Bryce Dallas Howard|Irrfan Khan|Vi...   Colin Trevorrow   \n",
       "1  Tom Hardy|Charlize Theron|Hugh Keays-Byrne|Nic...     George Miller   \n",
       "2  Shailene Woodley|Theo James|Kate Winslet|Ansel...  Robert Schwentke   \n",
       "3  Harrison Ford|Mark Hamill|Carrie Fisher|Adam D...       J.J. Abrams   \n",
       "4  Vin Diesel|Paul Walker|Jason Statham|Michelle ...         James Wan   \n",
       "\n",
       "                         tagline  \\\n",
       "0              The park is open.   \n",
       "1             What a Lovely Day.   \n",
       "2     One Choice Can Destroy You   \n",
       "3  Every generation has a story.   \n",
       "4            Vengeance Hits Home   \n",
       "\n",
       "                                            keywords  ... runtime  \\\n",
       "0  monster|dna|tyrannosaurus rex|velociraptor|island  ...     124   \n",
       "1   future|chase|post-apocalyptic|dystopia|australia  ...     120   \n",
       "2  based on novel|revolution|dystopia|sequel|dyst...  ...     119   \n",
       "3              android|spaceship|jedi|space opera|3d  ...     136   \n",
       "4                car race|speed|revenge|suspense|car  ...     137   \n",
       "\n",
       "                                      genres  \\\n",
       "0  Action|Adventure|Science Fiction|Thriller   \n",
       "1  Action|Adventure|Science Fiction|Thriller   \n",
       "2         Adventure|Science Fiction|Thriller   \n",
       "3   Action|Adventure|Science Fiction|Fantasy   \n",
       "4                      Action|Crime|Thriller   \n",
       "\n",
       "                                production_companies release_date vote_count  \\\n",
       "0  Universal Studios|Amblin Entertainment|Legenda...       6/9/15       5562   \n",
       "1  Village Roadshow Pictures|Kennedy Miller Produ...      5/13/15       6185   \n",
       "2  Summit Entertainment|Mandeville Films|Red Wago...      3/18/15       2480   \n",
       "3          Lucasfilm|Truenorth Productions|Bad Robot     12/15/15       5292   \n",
       "4  Universal Pictures|Original Film|Media Rights ...       4/1/15       2947   \n",
       "\n",
       "   vote_average  release_year    budget_adj   revenue_adj  main_genres  \n",
       "0           6.5          2015  1.379999e+08  1.392446e+09       Action  \n",
       "1           7.1          2015  1.379999e+08  3.481613e+08       Action  \n",
       "2           6.3          2015  1.012000e+08  2.716190e+08    Adventure  \n",
       "3           7.5          2015  1.839999e+08  1.902723e+09       Action  \n",
       "4           7.3          2015  1.747999e+08  1.385749e+09       Action  \n",
       "\n",
       "[5 rows x 21 columns]"
      ]
     },
     "execution_count": 86,
     "metadata": {},
     "output_type": "execute_result"
    }
   ],
   "source": [
    "df_01 = df.query('release_year > 2000')\n",
    "df_01.head()"
   ]
  },
  {
   "cell_type": "code",
   "execution_count": 87,
   "id": "cf9ffe46",
   "metadata": {},
   "outputs": [
    {
     "name": "stdout",
     "output_type": "stream",
     "text": [
      "Elijah Wood|Ian McKellen|Viggo Mortensen|Liv Tyler|Orlando Bloom\n",
      "Jennifer Lawrence|Josh Hutcherson|Liam Hemsworth|Woody Harrelson|Elizabeth Banks\n"
     ]
    }
   ],
   "source": [
    "print(df_01.cast.mode()[0])\n",
    "print(df_01.cast.mode()[1])\n",
    "# the most common two casts in this dataset"
   ]
  },
  {
   "cell_type": "code",
   "execution_count": 88,
   "id": "ca5268f5",
   "metadata": {},
   "outputs": [
    {
     "data": {
      "text/html": [
       "<div>\n",
       "<style scoped>\n",
       "    .dataframe tbody tr th:only-of-type {\n",
       "        vertical-align: middle;\n",
       "    }\n",
       "\n",
       "    .dataframe tbody tr th {\n",
       "        vertical-align: top;\n",
       "    }\n",
       "\n",
       "    .dataframe thead th {\n",
       "        text-align: right;\n",
       "    }\n",
       "</style>\n",
       "<table border=\"1\" class=\"dataframe\">\n",
       "  <thead>\n",
       "    <tr style=\"text-align: right;\">\n",
       "      <th></th>\n",
       "      <th>id</th>\n",
       "      <th>imdb_id</th>\n",
       "      <th>popularity</th>\n",
       "      <th>budget</th>\n",
       "      <th>revenue</th>\n",
       "      <th>original_title</th>\n",
       "      <th>cast</th>\n",
       "      <th>director</th>\n",
       "      <th>tagline</th>\n",
       "      <th>keywords</th>\n",
       "      <th>...</th>\n",
       "      <th>runtime</th>\n",
       "      <th>genres</th>\n",
       "      <th>production_companies</th>\n",
       "      <th>release_date</th>\n",
       "      <th>vote_count</th>\n",
       "      <th>vote_average</th>\n",
       "      <th>release_year</th>\n",
       "      <th>budget_adj</th>\n",
       "      <th>revenue_adj</th>\n",
       "      <th>main_genres</th>\n",
       "    </tr>\n",
       "  </thead>\n",
       "  <tbody>\n",
       "    <tr>\n",
       "      <th>1515</th>\n",
       "      <td>120</td>\n",
       "      <td>tt0120737</td>\n",
       "      <td>8.575419</td>\n",
       "      <td>93000000</td>\n",
       "      <td>871368364</td>\n",
       "      <td>The Lord of the Rings: The Fellowship of the Ring</td>\n",
       "      <td>Elijah Wood|Ian McKellen|Viggo Mortensen|Liv T...</td>\n",
       "      <td>Peter Jackson</td>\n",
       "      <td>One ring to rule them all</td>\n",
       "      <td>elves|dwarves|orcs|middle-earth (tolkien)|hobbits</td>\n",
       "      <td>...</td>\n",
       "      <td>178</td>\n",
       "      <td>Adventure|Fantasy|Action</td>\n",
       "      <td>WingNut Films|New Line Cinema|The Saul Zaentz ...</td>\n",
       "      <td>12/18/01</td>\n",
       "      <td>6079</td>\n",
       "      <td>7.8</td>\n",
       "      <td>2001</td>\n",
       "      <td>1.145284e+08</td>\n",
       "      <td>1.073080e+09</td>\n",
       "      <td>Adventure</td>\n",
       "    </tr>\n",
       "    <tr>\n",
       "      <th>2257</th>\n",
       "      <td>121</td>\n",
       "      <td>tt0167261</td>\n",
       "      <td>8.095275</td>\n",
       "      <td>79000000</td>\n",
       "      <td>926287400</td>\n",
       "      <td>The Lord of the Rings: The Two Towers</td>\n",
       "      <td>Elijah Wood|Ian McKellen|Viggo Mortensen|Liv T...</td>\n",
       "      <td>Peter Jackson</td>\n",
       "      <td>A New Power Is Rising.</td>\n",
       "      <td>elves|orcs|middle-earth (tolkien)|hobbits|base...</td>\n",
       "      <td>...</td>\n",
       "      <td>179</td>\n",
       "      <td>Adventure|Fantasy|Action</td>\n",
       "      <td>WingNut Films|New Line Cinema|The Saul Zaentz ...</td>\n",
       "      <td>12/18/02</td>\n",
       "      <td>5114</td>\n",
       "      <td>7.8</td>\n",
       "      <td>2002</td>\n",
       "      <td>9.576865e+07</td>\n",
       "      <td>1.122902e+09</td>\n",
       "      <td>Adventure</td>\n",
       "    </tr>\n",
       "    <tr>\n",
       "      <th>2866</th>\n",
       "      <td>122</td>\n",
       "      <td>tt0167260</td>\n",
       "      <td>7.122455</td>\n",
       "      <td>94000000</td>\n",
       "      <td>1118888979</td>\n",
       "      <td>The Lord of the Rings: The Return of the King</td>\n",
       "      <td>Elijah Wood|Ian McKellen|Viggo Mortensen|Liv T...</td>\n",
       "      <td>Peter Jackson</td>\n",
       "      <td>The eye of the enemy is moving.</td>\n",
       "      <td>elves|orcs|middle-earth (tolkien)|based on nov...</td>\n",
       "      <td>...</td>\n",
       "      <td>201</td>\n",
       "      <td>Adventure|Fantasy|Action</td>\n",
       "      <td>WingNut Films|New Line Cinema</td>\n",
       "      <td>12/1/03</td>\n",
       "      <td>5636</td>\n",
       "      <td>7.9</td>\n",
       "      <td>2003</td>\n",
       "      <td>1.114231e+08</td>\n",
       "      <td>1.326278e+09</td>\n",
       "      <td>Adventure</td>\n",
       "    </tr>\n",
       "  </tbody>\n",
       "</table>\n",
       "<p>3 rows × 21 columns</p>\n",
       "</div>"
      ],
      "text/plain": [
       "       id    imdb_id  popularity    budget     revenue  \\\n",
       "1515  120  tt0120737    8.575419  93000000   871368364   \n",
       "2257  121  tt0167261    8.095275  79000000   926287400   \n",
       "2866  122  tt0167260    7.122455  94000000  1118888979   \n",
       "\n",
       "                                         original_title  \\\n",
       "1515  The Lord of the Rings: The Fellowship of the Ring   \n",
       "2257              The Lord of the Rings: The Two Towers   \n",
       "2866      The Lord of the Rings: The Return of the King   \n",
       "\n",
       "                                                   cast       director  \\\n",
       "1515  Elijah Wood|Ian McKellen|Viggo Mortensen|Liv T...  Peter Jackson   \n",
       "2257  Elijah Wood|Ian McKellen|Viggo Mortensen|Liv T...  Peter Jackson   \n",
       "2866  Elijah Wood|Ian McKellen|Viggo Mortensen|Liv T...  Peter Jackson   \n",
       "\n",
       "                              tagline  \\\n",
       "1515        One ring to rule them all   \n",
       "2257           A New Power Is Rising.   \n",
       "2866  The eye of the enemy is moving.   \n",
       "\n",
       "                                               keywords  ... runtime  \\\n",
       "1515  elves|dwarves|orcs|middle-earth (tolkien)|hobbits  ...     178   \n",
       "2257  elves|orcs|middle-earth (tolkien)|hobbits|base...  ...     179   \n",
       "2866  elves|orcs|middle-earth (tolkien)|based on nov...  ...     201   \n",
       "\n",
       "                        genres  \\\n",
       "1515  Adventure|Fantasy|Action   \n",
       "2257  Adventure|Fantasy|Action   \n",
       "2866  Adventure|Fantasy|Action   \n",
       "\n",
       "                                   production_companies release_date  \\\n",
       "1515  WingNut Films|New Line Cinema|The Saul Zaentz ...     12/18/01   \n",
       "2257  WingNut Films|New Line Cinema|The Saul Zaentz ...     12/18/02   \n",
       "2866                      WingNut Films|New Line Cinema      12/1/03   \n",
       "\n",
       "     vote_count  vote_average  release_year    budget_adj   revenue_adj  \\\n",
       "1515       6079           7.8          2001  1.145284e+08  1.073080e+09   \n",
       "2257       5114           7.8          2002  9.576865e+07  1.122902e+09   \n",
       "2866       5636           7.9          2003  1.114231e+08  1.326278e+09   \n",
       "\n",
       "      main_genres  \n",
       "1515    Adventure  \n",
       "2257    Adventure  \n",
       "2866    Adventure  \n",
       "\n",
       "[3 rows x 21 columns]"
      ]
     },
     "execution_count": 88,
     "metadata": {},
     "output_type": "execute_result"
    }
   ],
   "source": [
    "df_01.query('cast == \"Elijah Wood|Ian McKellen|Viggo Mortensen|Liv Tyler|Orlando Bloom\"')"
   ]
  },
  {
   "cell_type": "code",
   "execution_count": 89,
   "id": "4a9c4f99",
   "metadata": {},
   "outputs": [
    {
     "data": {
      "text/html": [
       "<div>\n",
       "<style scoped>\n",
       "    .dataframe tbody tr th:only-of-type {\n",
       "        vertical-align: middle;\n",
       "    }\n",
       "\n",
       "    .dataframe tbody tr th {\n",
       "        vertical-align: top;\n",
       "    }\n",
       "\n",
       "    .dataframe thead th {\n",
       "        text-align: right;\n",
       "    }\n",
       "</style>\n",
       "<table border=\"1\" class=\"dataframe\">\n",
       "  <thead>\n",
       "    <tr style=\"text-align: right;\">\n",
       "      <th></th>\n",
       "      <th>id</th>\n",
       "      <th>imdb_id</th>\n",
       "      <th>popularity</th>\n",
       "      <th>budget</th>\n",
       "      <th>revenue</th>\n",
       "      <th>original_title</th>\n",
       "      <th>cast</th>\n",
       "      <th>director</th>\n",
       "      <th>tagline</th>\n",
       "      <th>keywords</th>\n",
       "      <th>...</th>\n",
       "      <th>runtime</th>\n",
       "      <th>genres</th>\n",
       "      <th>production_companies</th>\n",
       "      <th>release_date</th>\n",
       "      <th>vote_count</th>\n",
       "      <th>vote_average</th>\n",
       "      <th>release_year</th>\n",
       "      <th>budget_adj</th>\n",
       "      <th>revenue_adj</th>\n",
       "      <th>main_genres</th>\n",
       "    </tr>\n",
       "  </thead>\n",
       "  <tbody>\n",
       "    <tr>\n",
       "      <th>19</th>\n",
       "      <td>131634</td>\n",
       "      <td>tt1951266</td>\n",
       "      <td>5.476958</td>\n",
       "      <td>160000000</td>\n",
       "      <td>650523427</td>\n",
       "      <td>The Hunger Games: Mockingjay - Part 2</td>\n",
       "      <td>Jennifer Lawrence|Josh Hutcherson|Liam Hemswor...</td>\n",
       "      <td>Francis Lawrence</td>\n",
       "      <td>The fire will burn forever.</td>\n",
       "      <td>revolution|strong woman|dystopia|game of death|3d</td>\n",
       "      <td>...</td>\n",
       "      <td>136</td>\n",
       "      <td>War|Adventure|Science Fiction</td>\n",
       "      <td>Studio Babelsberg|StudioCanal|Lionsgate|Walt D...</td>\n",
       "      <td>11/18/15</td>\n",
       "      <td>2380</td>\n",
       "      <td>6.5</td>\n",
       "      <td>2015</td>\n",
       "      <td>1.471999e+08</td>\n",
       "      <td>5.984813e+08</td>\n",
       "      <td>War</td>\n",
       "    </tr>\n",
       "    <tr>\n",
       "      <th>2601</th>\n",
       "      <td>70160</td>\n",
       "      <td>tt1392170</td>\n",
       "      <td>2.571099</td>\n",
       "      <td>75000000</td>\n",
       "      <td>691210692</td>\n",
       "      <td>The Hunger Games</td>\n",
       "      <td>Jennifer Lawrence|Josh Hutcherson|Liam Hemswor...</td>\n",
       "      <td>Gary Ross</td>\n",
       "      <td>May The Odds Be Ever In Your Favor.</td>\n",
       "      <td>hallucination|dystopia|female protagonist|bow ...</td>\n",
       "      <td>...</td>\n",
       "      <td>142</td>\n",
       "      <td>Science Fiction|Adventure|Fantasy</td>\n",
       "      <td>Lionsgate|Color Force</td>\n",
       "      <td>3/12/12</td>\n",
       "      <td>7080</td>\n",
       "      <td>6.7</td>\n",
       "      <td>2012</td>\n",
       "      <td>7.123082e+07</td>\n",
       "      <td>6.564734e+08</td>\n",
       "      <td>Science Fiction</td>\n",
       "    </tr>\n",
       "    <tr>\n",
       "      <th>3191</th>\n",
       "      <td>101299</td>\n",
       "      <td>tt1951264</td>\n",
       "      <td>4.921275</td>\n",
       "      <td>130000000</td>\n",
       "      <td>847423452</td>\n",
       "      <td>The Hunger Games: Catching Fire</td>\n",
       "      <td>Jennifer Lawrence|Josh Hutcherson|Liam Hemswor...</td>\n",
       "      <td>Francis Lawrence</td>\n",
       "      <td>Every revolution begins with a spark.</td>\n",
       "      <td>based on novel|mentor|secret|factory|television</td>\n",
       "      <td>...</td>\n",
       "      <td>146</td>\n",
       "      <td>Science Fiction|Thriller|Action|Adventure</td>\n",
       "      <td>Lionsgate|Color Force</td>\n",
       "      <td>11/15/13</td>\n",
       "      <td>4269</td>\n",
       "      <td>7.4</td>\n",
       "      <td>2013</td>\n",
       "      <td>1.216843e+08</td>\n",
       "      <td>7.932166e+08</td>\n",
       "      <td>Science Fiction</td>\n",
       "    </tr>\n",
       "  </tbody>\n",
       "</table>\n",
       "<p>3 rows × 21 columns</p>\n",
       "</div>"
      ],
      "text/plain": [
       "          id    imdb_id  popularity     budget    revenue  \\\n",
       "19    131634  tt1951266    5.476958  160000000  650523427   \n",
       "2601   70160  tt1392170    2.571099   75000000  691210692   \n",
       "3191  101299  tt1951264    4.921275  130000000  847423452   \n",
       "\n",
       "                             original_title  \\\n",
       "19    The Hunger Games: Mockingjay - Part 2   \n",
       "2601                       The Hunger Games   \n",
       "3191        The Hunger Games: Catching Fire   \n",
       "\n",
       "                                                   cast          director  \\\n",
       "19    Jennifer Lawrence|Josh Hutcherson|Liam Hemswor...  Francis Lawrence   \n",
       "2601  Jennifer Lawrence|Josh Hutcherson|Liam Hemswor...         Gary Ross   \n",
       "3191  Jennifer Lawrence|Josh Hutcherson|Liam Hemswor...  Francis Lawrence   \n",
       "\n",
       "                                    tagline  \\\n",
       "19              The fire will burn forever.   \n",
       "2601    May The Odds Be Ever In Your Favor.   \n",
       "3191  Every revolution begins with a spark.   \n",
       "\n",
       "                                               keywords  ... runtime  \\\n",
       "19    revolution|strong woman|dystopia|game of death|3d  ...     136   \n",
       "2601  hallucination|dystopia|female protagonist|bow ...  ...     142   \n",
       "3191    based on novel|mentor|secret|factory|television  ...     146   \n",
       "\n",
       "                                         genres  \\\n",
       "19                War|Adventure|Science Fiction   \n",
       "2601          Science Fiction|Adventure|Fantasy   \n",
       "3191  Science Fiction|Thriller|Action|Adventure   \n",
       "\n",
       "                                   production_companies release_date  \\\n",
       "19    Studio Babelsberg|StudioCanal|Lionsgate|Walt D...     11/18/15   \n",
       "2601                              Lionsgate|Color Force      3/12/12   \n",
       "3191                              Lionsgate|Color Force     11/15/13   \n",
       "\n",
       "     vote_count  vote_average  release_year    budget_adj   revenue_adj  \\\n",
       "19         2380           6.5          2015  1.471999e+08  5.984813e+08   \n",
       "2601       7080           6.7          2012  7.123082e+07  6.564734e+08   \n",
       "3191       4269           7.4          2013  1.216843e+08  7.932166e+08   \n",
       "\n",
       "          main_genres  \n",
       "19                War  \n",
       "2601  Science Fiction  \n",
       "3191  Science Fiction  \n",
       "\n",
       "[3 rows x 21 columns]"
      ]
     },
     "execution_count": 89,
     "metadata": {},
     "output_type": "execute_result"
    }
   ],
   "source": [
    "df_01.query('cast == \"Jennifer Lawrence|Josh Hutcherson|Liam Hemsworth|Woody Harrelson|Elizabeth Banks\"')"
   ]
  },
  {
   "cell_type": "code",
   "execution_count": 90,
   "id": "d478655a",
   "metadata": {},
   "outputs": [
    {
     "data": {
      "text/plain": [
       "2336"
      ]
     },
     "execution_count": 90,
     "metadata": {},
     "output_type": "execute_result"
    }
   ],
   "source": [
    "df_01.director.nunique()"
   ]
  },
  {
   "cell_type": "code",
   "execution_count": 91,
   "id": "cfa88320",
   "metadata": {},
   "outputs": [],
   "source": [
    "popular_dir_01=df_01.groupby('director')[\"popularity\"].mean()\n",
    "popular_dir_01=popular_dir_01.to_frame()"
   ]
  },
  {
   "cell_type": "code",
   "execution_count": 92,
   "id": "e72d052f",
   "metadata": {},
   "outputs": [],
   "source": [
    "popular_dir_01['director']=popular_dir_01.index"
   ]
  },
  {
   "cell_type": "code",
   "execution_count": 93,
   "id": "b80644d3",
   "metadata": {},
   "outputs": [
    {
     "data": {
      "text/plain": [
       "16.696886499999998"
      ]
     },
     "execution_count": 93,
     "metadata": {},
     "output_type": "execute_result"
    }
   ],
   "source": [
    "popular_dir_01['popularity'].max()"
   ]
  },
  {
   "cell_type": "code",
   "execution_count": 94,
   "id": "a24d6f3c",
   "metadata": {},
   "outputs": [
    {
     "data": {
      "text/plain": [
       "'Colin Trevorrow'"
      ]
     },
     "execution_count": 94,
     "metadata": {},
     "output_type": "execute_result"
    }
   ],
   "source": [
    "popular_dir_01.query('popularity == 16.696886499999998')['director'][0]"
   ]
  },
  {
   "cell_type": "markdown",
   "id": "a6f970e8",
   "metadata": {},
   "source": [
    "## Colin Trevorrow (director) has the most popular movies from 2001-2015"
   ]
  },
  {
   "cell_type": "code",
   "execution_count": 95,
   "id": "2ef07d9a",
   "metadata": {},
   "outputs": [
    {
     "data": {
      "text/html": [
       "<div>\n",
       "<style scoped>\n",
       "    .dataframe tbody tr th:only-of-type {\n",
       "        vertical-align: middle;\n",
       "    }\n",
       "\n",
       "    .dataframe tbody tr th {\n",
       "        vertical-align: top;\n",
       "    }\n",
       "\n",
       "    .dataframe thead th {\n",
       "        text-align: right;\n",
       "    }\n",
       "</style>\n",
       "<table border=\"1\" class=\"dataframe\">\n",
       "  <thead>\n",
       "    <tr style=\"text-align: right;\">\n",
       "      <th></th>\n",
       "      <th>id</th>\n",
       "      <th>imdb_id</th>\n",
       "      <th>popularity</th>\n",
       "      <th>budget</th>\n",
       "      <th>revenue</th>\n",
       "      <th>original_title</th>\n",
       "      <th>cast</th>\n",
       "      <th>director</th>\n",
       "      <th>tagline</th>\n",
       "      <th>keywords</th>\n",
       "      <th>...</th>\n",
       "      <th>runtime</th>\n",
       "      <th>genres</th>\n",
       "      <th>production_companies</th>\n",
       "      <th>release_date</th>\n",
       "      <th>vote_count</th>\n",
       "      <th>vote_average</th>\n",
       "      <th>release_year</th>\n",
       "      <th>budget_adj</th>\n",
       "      <th>revenue_adj</th>\n",
       "      <th>main_genres</th>\n",
       "    </tr>\n",
       "  </thead>\n",
       "  <tbody>\n",
       "    <tr>\n",
       "      <th>0</th>\n",
       "      <td>135397</td>\n",
       "      <td>tt0369610</td>\n",
       "      <td>32.985763</td>\n",
       "      <td>150000000</td>\n",
       "      <td>1513528810</td>\n",
       "      <td>Jurassic World</td>\n",
       "      <td>Chris Pratt|Bryce Dallas Howard|Irrfan Khan|Vi...</td>\n",
       "      <td>Colin Trevorrow</td>\n",
       "      <td>The park is open.</td>\n",
       "      <td>monster|dna|tyrannosaurus rex|velociraptor|island</td>\n",
       "      <td>...</td>\n",
       "      <td>124</td>\n",
       "      <td>Action|Adventure|Science Fiction|Thriller</td>\n",
       "      <td>Universal Studios|Amblin Entertainment|Legenda...</td>\n",
       "      <td>6/9/15</td>\n",
       "      <td>5562</td>\n",
       "      <td>6.5</td>\n",
       "      <td>2015</td>\n",
       "      <td>1.379999e+08</td>\n",
       "      <td>1.392446e+09</td>\n",
       "      <td>Action</td>\n",
       "    </tr>\n",
       "    <tr>\n",
       "      <th>2768</th>\n",
       "      <td>84332</td>\n",
       "      <td>tt1862079</td>\n",
       "      <td>0.408010</td>\n",
       "      <td>750000</td>\n",
       "      <td>4007792</td>\n",
       "      <td>Safety Not Guaranteed</td>\n",
       "      <td>Aubrey Plaza|Mark Duplass|Jake Johnson|Karan S...</td>\n",
       "      <td>Colin Trevorrow</td>\n",
       "      <td>What would you go back for?</td>\n",
       "      <td>time travel</td>\n",
       "      <td>...</td>\n",
       "      <td>85</td>\n",
       "      <td>Comedy|Romance|Science Fiction|Drama</td>\n",
       "      <td>Duplass Brothers Productions|Big Beach Films</td>\n",
       "      <td>6/8/12</td>\n",
       "      <td>341</td>\n",
       "      <td>6.7</td>\n",
       "      <td>2012</td>\n",
       "      <td>7.123082e+05</td>\n",
       "      <td>3.806378e+06</td>\n",
       "      <td>Comedy</td>\n",
       "    </tr>\n",
       "  </tbody>\n",
       "</table>\n",
       "<p>2 rows × 21 columns</p>\n",
       "</div>"
      ],
      "text/plain": [
       "          id    imdb_id  popularity     budget     revenue  \\\n",
       "0     135397  tt0369610   32.985763  150000000  1513528810   \n",
       "2768   84332  tt1862079    0.408010     750000     4007792   \n",
       "\n",
       "             original_title  \\\n",
       "0            Jurassic World   \n",
       "2768  Safety Not Guaranteed   \n",
       "\n",
       "                                                   cast         director  \\\n",
       "0     Chris Pratt|Bryce Dallas Howard|Irrfan Khan|Vi...  Colin Trevorrow   \n",
       "2768  Aubrey Plaza|Mark Duplass|Jake Johnson|Karan S...  Colin Trevorrow   \n",
       "\n",
       "                          tagline  \\\n",
       "0               The park is open.   \n",
       "2768  What would you go back for?   \n",
       "\n",
       "                                               keywords  ... runtime  \\\n",
       "0     monster|dna|tyrannosaurus rex|velociraptor|island  ...     124   \n",
       "2768                                        time travel  ...      85   \n",
       "\n",
       "                                         genres  \\\n",
       "0     Action|Adventure|Science Fiction|Thriller   \n",
       "2768       Comedy|Romance|Science Fiction|Drama   \n",
       "\n",
       "                                   production_companies release_date  \\\n",
       "0     Universal Studios|Amblin Entertainment|Legenda...       6/9/15   \n",
       "2768       Duplass Brothers Productions|Big Beach Films       6/8/12   \n",
       "\n",
       "     vote_count  vote_average  release_year    budget_adj   revenue_adj  \\\n",
       "0          5562           6.5          2015  1.379999e+08  1.392446e+09   \n",
       "2768        341           6.7          2012  7.123082e+05  3.806378e+06   \n",
       "\n",
       "      main_genres  \n",
       "0          Action  \n",
       "2768       Comedy  \n",
       "\n",
       "[2 rows x 21 columns]"
      ]
     },
     "execution_count": 95,
     "metadata": {},
     "output_type": "execute_result"
    }
   ],
   "source": [
    "df_01.query('director == \"Colin Trevorrow\"')"
   ]
  },
  {
   "cell_type": "markdown",
   "id": "7b9003f1",
   "metadata": {},
   "source": [
    "### who has the highest vote average \n",
    "#### in last 15 year \n",
    "#### then all time"
   ]
  },
  {
   "cell_type": "code",
   "execution_count": 96,
   "id": "7e80df91",
   "metadata": {},
   "outputs": [],
   "source": [
    "higt_vote_dir_01=df_01.groupby('director')[\"vote_average\"].mean()\n",
    "higt_vote_dir_01=higt_vote_dir_01.to_frame()"
   ]
  },
  {
   "cell_type": "code",
   "execution_count": 97,
   "id": "a3bf67ee",
   "metadata": {},
   "outputs": [],
   "source": [
    "higt_vote_dir_01['director']=higt_vote_dir_01.index"
   ]
  },
  {
   "cell_type": "code",
   "execution_count": 98,
   "id": "b50bf374",
   "metadata": {},
   "outputs": [
    {
     "data": {
      "text/plain": [
       "8.2"
      ]
     },
     "execution_count": 98,
     "metadata": {},
     "output_type": "execute_result"
    }
   ],
   "source": [
    "higt_vote_dir_01['vote_average'].max()"
   ]
  },
  {
   "cell_type": "code",
   "execution_count": 99,
   "id": "525b30f4",
   "metadata": {},
   "outputs": [
    {
     "data": {
      "text/plain": [
       "'Damien Chazelle'"
      ]
     },
     "execution_count": 99,
     "metadata": {},
     "output_type": "execute_result"
    }
   ],
   "source": [
    "higt_vote_dir_01.query('vote_average == 8.2').director[0]"
   ]
  },
  {
   "cell_type": "code",
   "execution_count": 100,
   "id": "7b94524d",
   "metadata": {},
   "outputs": [
    {
     "data": {
      "text/html": [
       "<div>\n",
       "<style scoped>\n",
       "    .dataframe tbody tr th:only-of-type {\n",
       "        vertical-align: middle;\n",
       "    }\n",
       "\n",
       "    .dataframe tbody tr th {\n",
       "        vertical-align: top;\n",
       "    }\n",
       "\n",
       "    .dataframe thead th {\n",
       "        text-align: right;\n",
       "    }\n",
       "</style>\n",
       "<table border=\"1\" class=\"dataframe\">\n",
       "  <thead>\n",
       "    <tr style=\"text-align: right;\">\n",
       "      <th></th>\n",
       "      <th>id</th>\n",
       "      <th>imdb_id</th>\n",
       "      <th>popularity</th>\n",
       "      <th>budget</th>\n",
       "      <th>revenue</th>\n",
       "      <th>original_title</th>\n",
       "      <th>cast</th>\n",
       "      <th>director</th>\n",
       "      <th>tagline</th>\n",
       "      <th>keywords</th>\n",
       "      <th>...</th>\n",
       "      <th>runtime</th>\n",
       "      <th>genres</th>\n",
       "      <th>production_companies</th>\n",
       "      <th>release_date</th>\n",
       "      <th>vote_count</th>\n",
       "      <th>vote_average</th>\n",
       "      <th>release_year</th>\n",
       "      <th>budget_adj</th>\n",
       "      <th>revenue_adj</th>\n",
       "      <th>main_genres</th>\n",
       "    </tr>\n",
       "  </thead>\n",
       "  <tbody>\n",
       "    <tr>\n",
       "      <th>362</th>\n",
       "      <td>244786</td>\n",
       "      <td>tt2582802</td>\n",
       "      <td>4.780419</td>\n",
       "      <td>3300000</td>\n",
       "      <td>13993093</td>\n",
       "      <td>Whiplash</td>\n",
       "      <td>Miles Teller|J.K. Simmons|Melissa Benoist|Aust...</td>\n",
       "      <td>Damien Chazelle</td>\n",
       "      <td>The road to greatness can take you to the edge.</td>\n",
       "      <td>jazz|obsession|conservatory|music teacher|new ...</td>\n",
       "      <td>...</td>\n",
       "      <td>105</td>\n",
       "      <td>Drama|Music</td>\n",
       "      <td>Bold Films|Blumhouse Productions|Right of Way ...</td>\n",
       "      <td>10/10/14</td>\n",
       "      <td>2372</td>\n",
       "      <td>8.2</td>\n",
       "      <td>2014</td>\n",
       "      <td>3.039600e+06</td>\n",
       "      <td>1.288891e+07</td>\n",
       "      <td>Drama</td>\n",
       "    </tr>\n",
       "  </tbody>\n",
       "</table>\n",
       "<p>1 rows × 21 columns</p>\n",
       "</div>"
      ],
      "text/plain": [
       "         id    imdb_id  popularity   budget   revenue original_title  \\\n",
       "362  244786  tt2582802    4.780419  3300000  13993093       Whiplash   \n",
       "\n",
       "                                                  cast         director  \\\n",
       "362  Miles Teller|J.K. Simmons|Melissa Benoist|Aust...  Damien Chazelle   \n",
       "\n",
       "                                             tagline  \\\n",
       "362  The road to greatness can take you to the edge.   \n",
       "\n",
       "                                              keywords  ... runtime  \\\n",
       "362  jazz|obsession|conservatory|music teacher|new ...  ...     105   \n",
       "\n",
       "          genres                               production_companies  \\\n",
       "362  Drama|Music  Bold Films|Blumhouse Productions|Right of Way ...   \n",
       "\n",
       "    release_date vote_count  vote_average  release_year    budget_adj  \\\n",
       "362     10/10/14       2372           8.2          2014  3.039600e+06   \n",
       "\n",
       "      revenue_adj  main_genres  \n",
       "362  1.288891e+07        Drama  \n",
       "\n",
       "[1 rows x 21 columns]"
      ]
     },
     "execution_count": 100,
     "metadata": {},
     "output_type": "execute_result"
    }
   ],
   "source": [
    "df_01.query(\"director == 'Damien Chazelle'\")"
   ]
  },
  {
   "cell_type": "code",
   "execution_count": 101,
   "id": "84714bd5",
   "metadata": {},
   "outputs": [
    {
     "data": {
      "text/html": [
       "<div>\n",
       "<style scoped>\n",
       "    .dataframe tbody tr th:only-of-type {\n",
       "        vertical-align: middle;\n",
       "    }\n",
       "\n",
       "    .dataframe tbody tr th {\n",
       "        vertical-align: top;\n",
       "    }\n",
       "\n",
       "    .dataframe thead th {\n",
       "        text-align: right;\n",
       "    }\n",
       "</style>\n",
       "<table border=\"1\" class=\"dataframe\">\n",
       "  <thead>\n",
       "    <tr style=\"text-align: right;\">\n",
       "      <th></th>\n",
       "      <th>id</th>\n",
       "      <th>imdb_id</th>\n",
       "      <th>popularity</th>\n",
       "      <th>budget</th>\n",
       "      <th>revenue</th>\n",
       "      <th>original_title</th>\n",
       "      <th>cast</th>\n",
       "      <th>director</th>\n",
       "      <th>tagline</th>\n",
       "      <th>keywords</th>\n",
       "      <th>...</th>\n",
       "      <th>runtime</th>\n",
       "      <th>genres</th>\n",
       "      <th>production_companies</th>\n",
       "      <th>release_date</th>\n",
       "      <th>vote_count</th>\n",
       "      <th>vote_average</th>\n",
       "      <th>release_year</th>\n",
       "      <th>budget_adj</th>\n",
       "      <th>revenue_adj</th>\n",
       "      <th>main_genres</th>\n",
       "    </tr>\n",
       "  </thead>\n",
       "  <tbody>\n",
       "    <tr>\n",
       "      <th>362</th>\n",
       "      <td>244786</td>\n",
       "      <td>tt2582802</td>\n",
       "      <td>4.780419</td>\n",
       "      <td>3300000</td>\n",
       "      <td>13993093</td>\n",
       "      <td>Whiplash</td>\n",
       "      <td>Miles Teller|J.K. Simmons|Melissa Benoist|Aust...</td>\n",
       "      <td>Damien Chazelle</td>\n",
       "      <td>The road to greatness can take you to the edge.</td>\n",
       "      <td>jazz|obsession|conservatory|music teacher|new ...</td>\n",
       "      <td>...</td>\n",
       "      <td>105</td>\n",
       "      <td>Drama|Music</td>\n",
       "      <td>Bold Films|Blumhouse Productions|Right of Way ...</td>\n",
       "      <td>10/10/14</td>\n",
       "      <td>2372</td>\n",
       "      <td>8.2</td>\n",
       "      <td>2014</td>\n",
       "      <td>3.039600e+06</td>\n",
       "      <td>1.288891e+07</td>\n",
       "      <td>Drama</td>\n",
       "    </tr>\n",
       "  </tbody>\n",
       "</table>\n",
       "<p>1 rows × 21 columns</p>\n",
       "</div>"
      ],
      "text/plain": [
       "         id    imdb_id  popularity   budget   revenue original_title  \\\n",
       "362  244786  tt2582802    4.780419  3300000  13993093       Whiplash   \n",
       "\n",
       "                                                  cast         director  \\\n",
       "362  Miles Teller|J.K. Simmons|Melissa Benoist|Aust...  Damien Chazelle   \n",
       "\n",
       "                                             tagline  \\\n",
       "362  The road to greatness can take you to the edge.   \n",
       "\n",
       "                                              keywords  ... runtime  \\\n",
       "362  jazz|obsession|conservatory|music teacher|new ...  ...     105   \n",
       "\n",
       "          genres                               production_companies  \\\n",
       "362  Drama|Music  Bold Films|Blumhouse Productions|Right of Way ...   \n",
       "\n",
       "    release_date vote_count  vote_average  release_year    budget_adj  \\\n",
       "362     10/10/14       2372           8.2          2014  3.039600e+06   \n",
       "\n",
       "      revenue_adj  main_genres  \n",
       "362  1.288891e+07        Drama  \n",
       "\n",
       "[1 rows x 21 columns]"
      ]
     },
     "execution_count": 101,
     "metadata": {},
     "output_type": "execute_result"
    }
   ],
   "source": [
    "df_01[df_01['director'].str.contains('Damien Chazelle')]"
   ]
  },
  {
   "cell_type": "markdown",
   "id": "6819b0bf",
   "metadata": {},
   "source": [
    "# Damien Chazelle (director) has the highest vote average from 2001-2015\n",
    "#### but i found that he participate in only one film "
   ]
  },
  {
   "cell_type": "code",
   "execution_count": 102,
   "id": "3efa4bbc",
   "metadata": {},
   "outputs": [
    {
     "data": {
      "image/png": "[encoded data removed]",
      "text/plain": [
       "<Figure size 432x288 with 1 Axes>"
      ]
     },
     "metadata": {
      "needs_background": "light"
     },
     "output_type": "display_data"
    }
   ],
   "source": [
    "df['director'].value_counts().hist();\n",
    "plt.title('distribution of director appearance')\n",
    "plt.xlabel('Number of impressions')\n",
    "plt.ylabel('count')\n",
    "plt.show()"
   ]
  },
  {
   "cell_type": "code",
   "execution_count": null,
   "id": "01261044",
   "metadata": {},
   "outputs": [],
   "source": []
  },
  {
   "cell_type": "markdown",
   "id": "bcc3af61",
   "metadata": {},
   "source": [
    "## filter directors have participated in more than 3 movies"
   ]
  },
  {
   "cell_type": "code",
   "execution_count": 103,
   "id": "4b948fdd",
   "metadata": {},
   "outputs": [
    {
     "data": {
      "text/html": [
       "<div>\n",
       "<style scoped>\n",
       "    .dataframe tbody tr th:only-of-type {\n",
       "        vertical-align: middle;\n",
       "    }\n",
       "\n",
       "    .dataframe tbody tr th {\n",
       "        vertical-align: top;\n",
       "    }\n",
       "\n",
       "    .dataframe thead th {\n",
       "        text-align: right;\n",
       "    }\n",
       "</style>\n",
       "<table border=\"1\" class=\"dataframe\">\n",
       "  <thead>\n",
       "    <tr style=\"text-align: right;\">\n",
       "      <th></th>\n",
       "      <th>director</th>\n",
       "    </tr>\n",
       "  </thead>\n",
       "  <tbody>\n",
       "    <tr>\n",
       "      <th>Steven Spielberg</th>\n",
       "      <td>True</td>\n",
       "    </tr>\n",
       "    <tr>\n",
       "      <th>Clint Eastwood</th>\n",
       "      <td>True</td>\n",
       "    </tr>\n",
       "    <tr>\n",
       "      <th>Ridley Scott</th>\n",
       "      <td>True</td>\n",
       "    </tr>\n",
       "    <tr>\n",
       "      <th>Ron Howard</th>\n",
       "      <td>True</td>\n",
       "    </tr>\n",
       "    <tr>\n",
       "      <th>Martin Scorsese</th>\n",
       "      <td>True</td>\n",
       "    </tr>\n",
       "  </tbody>\n",
       "</table>\n",
       "</div>"
      ],
      "text/plain": [
       "                  director\n",
       "Steven Spielberg      True\n",
       "Clint Eastwood        True\n",
       "Ridley Scott          True\n",
       "Ron Howard            True\n",
       "Martin Scorsese       True"
      ]
     },
     "execution_count": 103,
     "metadata": {},
     "output_type": "execute_result"
    }
   ],
   "source": [
    "df_accepted_dir=(df['director'].value_counts() > 3).to_frame()\n",
    "df_accepted_dir.head()"
   ]
  },
  {
   "cell_type": "code",
   "execution_count": 104,
   "id": "57f74424",
   "metadata": {},
   "outputs": [
    {
     "data": {
      "text/html": [
       "<div>\n",
       "<style scoped>\n",
       "    .dataframe tbody tr th:only-of-type {\n",
       "        vertical-align: middle;\n",
       "    }\n",
       "\n",
       "    .dataframe tbody tr th {\n",
       "        vertical-align: top;\n",
       "    }\n",
       "\n",
       "    .dataframe thead th {\n",
       "        text-align: right;\n",
       "    }\n",
       "</style>\n",
       "<table border=\"1\" class=\"dataframe\">\n",
       "  <thead>\n",
       "    <tr style=\"text-align: right;\">\n",
       "      <th></th>\n",
       "      <th>director</th>\n",
       "      <th>acceptance</th>\n",
       "    </tr>\n",
       "  </thead>\n",
       "  <tbody>\n",
       "    <tr>\n",
       "      <th>Steven Spielberg</th>\n",
       "      <td>True</td>\n",
       "      <td>True</td>\n",
       "    </tr>\n",
       "    <tr>\n",
       "      <th>Clint Eastwood</th>\n",
       "      <td>True</td>\n",
       "      <td>True</td>\n",
       "    </tr>\n",
       "    <tr>\n",
       "      <th>Ridley Scott</th>\n",
       "      <td>True</td>\n",
       "      <td>True</td>\n",
       "    </tr>\n",
       "    <tr>\n",
       "      <th>Ron Howard</th>\n",
       "      <td>True</td>\n",
       "      <td>True</td>\n",
       "    </tr>\n",
       "    <tr>\n",
       "      <th>Martin Scorsese</th>\n",
       "      <td>True</td>\n",
       "      <td>True</td>\n",
       "    </tr>\n",
       "  </tbody>\n",
       "</table>\n",
       "</div>"
      ],
      "text/plain": [
       "                  director  acceptance\n",
       "Steven Spielberg      True        True\n",
       "Clint Eastwood        True        True\n",
       "Ridley Scott          True        True\n",
       "Ron Howard            True        True\n",
       "Martin Scorsese       True        True"
      ]
     },
     "execution_count": 104,
     "metadata": {},
     "output_type": "execute_result"
    }
   ],
   "source": [
    "df_accepted_dir['acceptance']=df_accepted_dir['director']\n",
    "df_accepted_dir.head()"
   ]
  },
  {
   "cell_type": "code",
   "execution_count": 105,
   "id": "8c07ee3b",
   "metadata": {},
   "outputs": [
    {
     "data": {
      "text/html": [
       "<div>\n",
       "<style scoped>\n",
       "    .dataframe tbody tr th:only-of-type {\n",
       "        vertical-align: middle;\n",
       "    }\n",
       "\n",
       "    .dataframe tbody tr th {\n",
       "        vertical-align: top;\n",
       "    }\n",
       "\n",
       "    .dataframe thead th {\n",
       "        text-align: right;\n",
       "    }\n",
       "</style>\n",
       "<table border=\"1\" class=\"dataframe\">\n",
       "  <thead>\n",
       "    <tr style=\"text-align: right;\">\n",
       "      <th></th>\n",
       "      <th>director</th>\n",
       "      <th>acceptance</th>\n",
       "    </tr>\n",
       "  </thead>\n",
       "  <tbody>\n",
       "    <tr>\n",
       "      <th>Steven Spielberg</th>\n",
       "      <td>Steven Spielberg</td>\n",
       "      <td>True</td>\n",
       "    </tr>\n",
       "    <tr>\n",
       "      <th>Clint Eastwood</th>\n",
       "      <td>Clint Eastwood</td>\n",
       "      <td>True</td>\n",
       "    </tr>\n",
       "    <tr>\n",
       "      <th>Ridley Scott</th>\n",
       "      <td>Ridley Scott</td>\n",
       "      <td>True</td>\n",
       "    </tr>\n",
       "    <tr>\n",
       "      <th>Ron Howard</th>\n",
       "      <td>Ron Howard</td>\n",
       "      <td>True</td>\n",
       "    </tr>\n",
       "    <tr>\n",
       "      <th>Martin Scorsese</th>\n",
       "      <td>Martin Scorsese</td>\n",
       "      <td>True</td>\n",
       "    </tr>\n",
       "  </tbody>\n",
       "</table>\n",
       "</div>"
      ],
      "text/plain": [
       "                          director  acceptance\n",
       "Steven Spielberg  Steven Spielberg        True\n",
       "Clint Eastwood      Clint Eastwood        True\n",
       "Ridley Scott          Ridley Scott        True\n",
       "Ron Howard              Ron Howard        True\n",
       "Martin Scorsese    Martin Scorsese        True"
      ]
     },
     "execution_count": 105,
     "metadata": {},
     "output_type": "execute_result"
    }
   ],
   "source": [
    "df_accepted_dir['director']=df_accepted_dir.index\n",
    "df_accepted_dir.head()"
   ]
  },
  {
   "cell_type": "code",
   "execution_count": 106,
   "id": "68ff4480",
   "metadata": {},
   "outputs": [],
   "source": [
    "df['accepted_director']=df['director']\n"
   ]
  },
  {
   "cell_type": "code",
   "execution_count": 107,
   "id": "45bfcd2f",
   "metadata": {},
   "outputs": [
    {
     "name": "stderr",
     "output_type": "stream",
     "text": [
      "C:\\Users\\Ahmed said\\AppData\\Local\\Temp\\ipykernel_13824\\838594306.py:3: SettingWithCopyWarning: \n",
      "A value is trying to be set on a copy of a slice from a DataFrame\n",
      "\n",
      "See the caveats in the documentation: https://pandas.pydata.org/pandas-docs/stable/user_guide/indexing.html#returning-a-view-versus-a-copy\n",
      "  df['accepted_director'][i]=df_accepted_dir.query(f'director == \"{df.director[i]}\"')['acceptance'][0]\n"
     ]
    }
   ],
   "source": [
    "acceptance=[]\n",
    "for i in range(len(df['director'])):\n",
    "    df['accepted_director'][i]=df_accepted_dir.query(f'director == \"{df.director[i]}\"')['acceptance'][0]"
   ]
  },
  {
   "cell_type": "code",
   "execution_count": 108,
   "id": "bb6d3bd8",
   "metadata": {},
   "outputs": [
    {
     "data": {
      "text/plain": [
       "False"
      ]
     },
     "execution_count": 108,
     "metadata": {},
     "output_type": "execute_result"
    }
   ],
   "source": [
    "df_accepted_dir.query(f'director == \"Colin Trevorrow\"')['acceptance'][0]"
   ]
  },
  {
   "cell_type": "code",
   "execution_count": 109,
   "id": "5bdf1a5f",
   "metadata": {},
   "outputs": [
    {
     "data": {
      "text/plain": [
       "0    False\n",
       "1     True\n",
       "2     True\n",
       "3     True\n",
       "4     True\n",
       "Name: accepted_director, dtype: object"
      ]
     },
     "execution_count": 109,
     "metadata": {},
     "output_type": "execute_result"
    }
   ],
   "source": [
    "df['accepted_director'].head()"
   ]
  },
  {
   "cell_type": "code",
   "execution_count": 110,
   "id": "cbfea0de",
   "metadata": {},
   "outputs": [
    {
     "data": {
      "text/html": [
       "<div>\n",
       "<style scoped>\n",
       "    .dataframe tbody tr th:only-of-type {\n",
       "        vertical-align: middle;\n",
       "    }\n",
       "\n",
       "    .dataframe tbody tr th {\n",
       "        vertical-align: top;\n",
       "    }\n",
       "\n",
       "    .dataframe thead th {\n",
       "        text-align: right;\n",
       "    }\n",
       "</style>\n",
       "<table border=\"1\" class=\"dataframe\">\n",
       "  <thead>\n",
       "    <tr style=\"text-align: right;\">\n",
       "      <th></th>\n",
       "      <th>id</th>\n",
       "      <th>imdb_id</th>\n",
       "      <th>popularity</th>\n",
       "      <th>budget</th>\n",
       "      <th>revenue</th>\n",
       "      <th>original_title</th>\n",
       "      <th>cast</th>\n",
       "      <th>director</th>\n",
       "      <th>tagline</th>\n",
       "      <th>keywords</th>\n",
       "      <th>...</th>\n",
       "      <th>genres</th>\n",
       "      <th>production_companies</th>\n",
       "      <th>release_date</th>\n",
       "      <th>vote_count</th>\n",
       "      <th>vote_average</th>\n",
       "      <th>release_year</th>\n",
       "      <th>budget_adj</th>\n",
       "      <th>revenue_adj</th>\n",
       "      <th>main_genres</th>\n",
       "      <th>accepted_director</th>\n",
       "    </tr>\n",
       "  </thead>\n",
       "  <tbody>\n",
       "    <tr>\n",
       "      <th>0</th>\n",
       "      <td>135397</td>\n",
       "      <td>tt0369610</td>\n",
       "      <td>32.985763</td>\n",
       "      <td>150000000</td>\n",
       "      <td>1513528810</td>\n",
       "      <td>Jurassic World</td>\n",
       "      <td>Chris Pratt|Bryce Dallas Howard|Irrfan Khan|Vi...</td>\n",
       "      <td>Colin Trevorrow</td>\n",
       "      <td>The park is open.</td>\n",
       "      <td>monster|dna|tyrannosaurus rex|velociraptor|island</td>\n",
       "      <td>...</td>\n",
       "      <td>Action|Adventure|Science Fiction|Thriller</td>\n",
       "      <td>Universal Studios|Amblin Entertainment|Legenda...</td>\n",
       "      <td>6/9/15</td>\n",
       "      <td>5562</td>\n",
       "      <td>6.5</td>\n",
       "      <td>2015</td>\n",
       "      <td>1.379999e+08</td>\n",
       "      <td>1.392446e+09</td>\n",
       "      <td>Action</td>\n",
       "      <td>False</td>\n",
       "    </tr>\n",
       "    <tr>\n",
       "      <th>1</th>\n",
       "      <td>76341</td>\n",
       "      <td>tt1392190</td>\n",
       "      <td>28.419936</td>\n",
       "      <td>150000000</td>\n",
       "      <td>378436354</td>\n",
       "      <td>Mad Max: Fury Road</td>\n",
       "      <td>Tom Hardy|Charlize Theron|Hugh Keays-Byrne|Nic...</td>\n",
       "      <td>George Miller</td>\n",
       "      <td>What a Lovely Day.</td>\n",
       "      <td>future|chase|post-apocalyptic|dystopia|australia</td>\n",
       "      <td>...</td>\n",
       "      <td>Action|Adventure|Science Fiction|Thriller</td>\n",
       "      <td>Village Roadshow Pictures|Kennedy Miller Produ...</td>\n",
       "      <td>5/13/15</td>\n",
       "      <td>6185</td>\n",
       "      <td>7.1</td>\n",
       "      <td>2015</td>\n",
       "      <td>1.379999e+08</td>\n",
       "      <td>3.481613e+08</td>\n",
       "      <td>Action</td>\n",
       "      <td>True</td>\n",
       "    </tr>\n",
       "    <tr>\n",
       "      <th>2</th>\n",
       "      <td>262500</td>\n",
       "      <td>tt2908446</td>\n",
       "      <td>13.112507</td>\n",
       "      <td>110000000</td>\n",
       "      <td>295238201</td>\n",
       "      <td>Insurgent</td>\n",
       "      <td>Shailene Woodley|Theo James|Kate Winslet|Ansel...</td>\n",
       "      <td>Robert Schwentke</td>\n",
       "      <td>One Choice Can Destroy You</td>\n",
       "      <td>based on novel|revolution|dystopia|sequel|dyst...</td>\n",
       "      <td>...</td>\n",
       "      <td>Adventure|Science Fiction|Thriller</td>\n",
       "      <td>Summit Entertainment|Mandeville Films|Red Wago...</td>\n",
       "      <td>3/18/15</td>\n",
       "      <td>2480</td>\n",
       "      <td>6.3</td>\n",
       "      <td>2015</td>\n",
       "      <td>1.012000e+08</td>\n",
       "      <td>2.716190e+08</td>\n",
       "      <td>Adventure</td>\n",
       "      <td>True</td>\n",
       "    </tr>\n",
       "  </tbody>\n",
       "</table>\n",
       "<p>3 rows × 22 columns</p>\n",
       "</div>"
      ],
      "text/plain": [
       "       id    imdb_id  popularity     budget     revenue      original_title  \\\n",
       "0  135397  tt0369610   32.985763  150000000  1513528810      Jurassic World   \n",
       "1   76341  tt1392190   28.419936  150000000   378436354  Mad Max: Fury Road   \n",
       "2  262500  tt2908446   13.112507  110000000   295238201           Insurgent   \n",
       "\n",
       "                                                cast          director  \\\n",
       "0  Chris Pratt|Bryce Dallas Howard|Irrfan Khan|Vi...   Colin Trevorrow   \n",
       "1  Tom Hardy|Charlize Theron|Hugh Keays-Byrne|Nic...     George Miller   \n",
       "2  Shailene Woodley|Theo James|Kate Winslet|Ansel...  Robert Schwentke   \n",
       "\n",
       "                      tagline  \\\n",
       "0           The park is open.   \n",
       "1          What a Lovely Day.   \n",
       "2  One Choice Can Destroy You   \n",
       "\n",
       "                                            keywords  ...  \\\n",
       "0  monster|dna|tyrannosaurus rex|velociraptor|island  ...   \n",
       "1   future|chase|post-apocalyptic|dystopia|australia  ...   \n",
       "2  based on novel|revolution|dystopia|sequel|dyst...  ...   \n",
       "\n",
       "                                      genres  \\\n",
       "0  Action|Adventure|Science Fiction|Thriller   \n",
       "1  Action|Adventure|Science Fiction|Thriller   \n",
       "2         Adventure|Science Fiction|Thriller   \n",
       "\n",
       "                                production_companies release_date vote_count  \\\n",
       "0  Universal Studios|Amblin Entertainment|Legenda...       6/9/15       5562   \n",
       "1  Village Roadshow Pictures|Kennedy Miller Produ...      5/13/15       6185   \n",
       "2  Summit Entertainment|Mandeville Films|Red Wago...      3/18/15       2480   \n",
       "\n",
       "  vote_average  release_year    budget_adj   revenue_adj  main_genres  \\\n",
       "0          6.5          2015  1.379999e+08  1.392446e+09       Action   \n",
       "1          7.1          2015  1.379999e+08  3.481613e+08       Action   \n",
       "2          6.3          2015  1.012000e+08  2.716190e+08    Adventure   \n",
       "\n",
       "   accepted_director  \n",
       "0              False  \n",
       "1               True  \n",
       "2               True  \n",
       "\n",
       "[3 rows x 22 columns]"
      ]
     },
     "execution_count": 110,
     "metadata": {},
     "output_type": "execute_result"
    }
   ],
   "source": [
    "df_01 = df.query('release_year > 2000')\n",
    "df_01.head(3)"
   ]
  },
  {
   "cell_type": "code",
   "execution_count": 111,
   "id": "ab4764b2",
   "metadata": {},
   "outputs": [],
   "source": [
    "higt_vote_dir_01=df_01.query('accepted_director == True').groupby('director')[\"vote_average\"].mean()\n",
    "higt_vote_dir_01=higt_vote_dir_01.to_frame()"
   ]
  },
  {
   "cell_type": "code",
   "execution_count": 112,
   "id": "cab1ea9e",
   "metadata": {},
   "outputs": [],
   "source": [
    "higt_vote_dir_01['director']=higt_vote_dir_01.index"
   ]
  },
  {
   "cell_type": "code",
   "execution_count": 113,
   "id": "e545de11",
   "metadata": {},
   "outputs": [
    {
     "data": {
      "text/plain": [
       "7.6000000000000005"
      ]
     },
     "execution_count": 113,
     "metadata": {},
     "output_type": "execute_result"
    }
   ],
   "source": [
    "higt_vote_dir_01['vote_average'].max()"
   ]
  },
  {
   "cell_type": "code",
   "execution_count": 114,
   "id": "8c744181",
   "metadata": {},
   "outputs": [
    {
     "data": {
      "text/plain": [
       "'Christopher Nolan'"
      ]
     },
     "execution_count": 114,
     "metadata": {},
     "output_type": "execute_result"
    }
   ],
   "source": [
    "higt_vote_dir_01.query('vote_average == 7.6000000000000005').director[0]"
   ]
  },
  {
   "cell_type": "markdown",
   "id": "960d6a69",
   "metadata": {},
   "source": [
    "## Christopher Nolan (director) has the highest vote average from 2001-2015 for directors has participated in more than 3 movies\n",
    "### He turned out to be the highest of all time"
   ]
  },
  {
   "cell_type": "code",
   "execution_count": 115,
   "id": "36c9eb18",
   "metadata": {},
   "outputs": [
    {
     "data": {
      "text/html": [
       "<div>\n",
       "<style scoped>\n",
       "    .dataframe tbody tr th:only-of-type {\n",
       "        vertical-align: middle;\n",
       "    }\n",
       "\n",
       "    .dataframe tbody tr th {\n",
       "        vertical-align: top;\n",
       "    }\n",
       "\n",
       "    .dataframe thead th {\n",
       "        text-align: right;\n",
       "    }\n",
       "</style>\n",
       "<table border=\"1\" class=\"dataframe\">\n",
       "  <thead>\n",
       "    <tr style=\"text-align: right;\">\n",
       "      <th></th>\n",
       "      <th>vote_average</th>\n",
       "    </tr>\n",
       "    <tr>\n",
       "      <th>director</th>\n",
       "      <th></th>\n",
       "    </tr>\n",
       "  </thead>\n",
       "  <tbody>\n",
       "    <tr>\n",
       "      <th>Abel Ferrara</th>\n",
       "      <td>5.583333</td>\n",
       "    </tr>\n",
       "    <tr>\n",
       "      <th>Adam Green</th>\n",
       "      <td>5.400000</td>\n",
       "    </tr>\n",
       "    <tr>\n",
       "      <th>Adam McKay</th>\n",
       "      <td>6.357143</td>\n",
       "    </tr>\n",
       "    <tr>\n",
       "      <th>Adam Shankman</th>\n",
       "      <td>5.962500</td>\n",
       "    </tr>\n",
       "    <tr>\n",
       "      <th>Adrian Lyne</th>\n",
       "      <td>6.187500</td>\n",
       "    </tr>\n",
       "  </tbody>\n",
       "</table>\n",
       "</div>"
      ],
      "text/plain": [
       "               vote_average\n",
       "director                   \n",
       "Abel Ferrara       5.583333\n",
       "Adam Green         5.400000\n",
       "Adam McKay         6.357143\n",
       "Adam Shankman      5.962500\n",
       "Adrian Lyne        6.187500"
      ]
     },
     "execution_count": 115,
     "metadata": {},
     "output_type": "execute_result"
    }
   ],
   "source": [
    "higt_vote_dir=df.query('accepted_director == True').groupby('director')[\"vote_average\"].mean()\n",
    "higt_vote_dir=higt_vote_dir.to_frame()\n",
    "higt_vote_dir.head()"
   ]
  },
  {
   "cell_type": "code",
   "execution_count": 116,
   "id": "1dbae815",
   "metadata": {},
   "outputs": [
    {
     "data": {
      "text/html": [
       "<div>\n",
       "<style scoped>\n",
       "    .dataframe tbody tr th:only-of-type {\n",
       "        vertical-align: middle;\n",
       "    }\n",
       "\n",
       "    .dataframe tbody tr th {\n",
       "        vertical-align: top;\n",
       "    }\n",
       "\n",
       "    .dataframe thead th {\n",
       "        text-align: right;\n",
       "    }\n",
       "</style>\n",
       "<table border=\"1\" class=\"dataframe\">\n",
       "  <thead>\n",
       "    <tr style=\"text-align: right;\">\n",
       "      <th></th>\n",
       "      <th>vote_average</th>\n",
       "      <th>director</th>\n",
       "    </tr>\n",
       "    <tr>\n",
       "      <th>director</th>\n",
       "      <th></th>\n",
       "      <th></th>\n",
       "    </tr>\n",
       "  </thead>\n",
       "  <tbody>\n",
       "    <tr>\n",
       "      <th>Abel Ferrara</th>\n",
       "      <td>5.583333</td>\n",
       "      <td>Abel Ferrara</td>\n",
       "    </tr>\n",
       "    <tr>\n",
       "      <th>Adam Green</th>\n",
       "      <td>5.400000</td>\n",
       "      <td>Adam Green</td>\n",
       "    </tr>\n",
       "    <tr>\n",
       "      <th>Adam McKay</th>\n",
       "      <td>6.357143</td>\n",
       "      <td>Adam McKay</td>\n",
       "    </tr>\n",
       "    <tr>\n",
       "      <th>Adam Shankman</th>\n",
       "      <td>5.962500</td>\n",
       "      <td>Adam Shankman</td>\n",
       "    </tr>\n",
       "    <tr>\n",
       "      <th>Adrian Lyne</th>\n",
       "      <td>6.187500</td>\n",
       "      <td>Adrian Lyne</td>\n",
       "    </tr>\n",
       "  </tbody>\n",
       "</table>\n",
       "</div>"
      ],
      "text/plain": [
       "               vote_average       director\n",
       "director                                  \n",
       "Abel Ferrara       5.583333   Abel Ferrara\n",
       "Adam Green         5.400000     Adam Green\n",
       "Adam McKay         6.357143     Adam McKay\n",
       "Adam Shankman      5.962500  Adam Shankman\n",
       "Adrian Lyne        6.187500    Adrian Lyne"
      ]
     },
     "execution_count": 116,
     "metadata": {},
     "output_type": "execute_result"
    }
   ],
   "source": [
    "higt_vote_dir['director']=higt_vote_dir.index\n",
    "higt_vote_dir.head()"
   ]
  },
  {
   "cell_type": "code",
   "execution_count": 117,
   "id": "c7b89efb",
   "metadata": {},
   "outputs": [
    {
     "data": {
      "text/plain": [
       "7.6375"
      ]
     },
     "execution_count": 117,
     "metadata": {},
     "output_type": "execute_result"
    }
   ],
   "source": [
    "higt_vote_dir['vote_average'].max()"
   ]
  },
  {
   "cell_type": "code",
   "execution_count": 118,
   "id": "c25a0c3b",
   "metadata": {},
   "outputs": [
    {
     "data": {
      "text/plain": [
       "'Christopher Nolan'"
      ]
     },
     "execution_count": 118,
     "metadata": {},
     "output_type": "execute_result"
    }
   ],
   "source": [
    "higt_vote_dir.query('vote_average == 7.6375').director[0]"
   ]
  },
  {
   "cell_type": "code",
   "execution_count": 1,
   "id": "89cce293",
   "metadata": {},
   "outputs": [],
   "source": [
    "# Many similar questions can be extracted and answered in the same way by changing the attributes only"
   ]
  },
  {
   "cell_type": "markdown",
   "id": "03bafde9",
   "metadata": {},
   "source": [
    "# conclusion"
   ]
  },
  {
   "cell_type": "markdown",
   "id": "594c068a",
   "metadata": {},
   "source": [
    "### The popular genre changes from year to year as bar chart (The most popular genres over time) and scatter plot (The most popular genres over time) shows, the long movies have higher popularity and higher vote average than short movies.\n",
    "### The budget and popularity have a positive correlation with revenue.\n",
    "### “Clyde Geronimi|Hamilton Luske|Wolfgang Reitherman \"are the most successful director 1960-2015 highest revenue_adj (average) With 157,481,473,9 $\n",
    "### Colin Trevorrow (director) has the most popular (average) movies from 2001-2015 With popularity average: 16.7\n",
    "### Damien Chazelle (director) has the highest vote average from 2001-2015 with average 8.2\n",
    "### Christopher Nolan (director) has the highest vote average from 2001-2015 for directors has participated in more than 3 movies with average 7.6\n"
   ]
  },
  {
   "cell_type": "markdown",
   "id": "7012370c",
   "metadata": {},
   "source": [
    "####################################################################################################"
   ]
  },
  {
   "cell_type": "markdown",
   "id": "5440cd2f",
   "metadata": {},
   "source": [
    "# limitation"
   ]
  },
  {
   "cell_type": "markdown",
   "id": "919fd6e4",
   "metadata": {},
   "source": [
    "## budget & revenue have many zero values, greater than 50% which makes it challenging to explore relations between other properties\n",
    "## genres column have more than 1000 unique values, I think it will be more beneficial to make genres contain the primary genre of the movie not all keywords"
   ]
  },
  {
   "cell_type": "code",
   "execution_count": 7,
   "id": "406a44bf",
   "metadata": {},
   "outputs": [
    {
     "data": {
      "text/html": [
       "<div>\n",
       "<style scoped>\n",
       "    .dataframe tbody tr th:only-of-type {\n",
       "        vertical-align: middle;\n",
       "    }\n",
       "\n",
       "    .dataframe tbody tr th {\n",
       "        vertical-align: top;\n",
       "    }\n",
       "\n",
       "    .dataframe thead th {\n",
       "        text-align: right;\n",
       "    }\n",
       "</style>\n",
       "<table border=\"1\" class=\"dataframe\">\n",
       "  <thead>\n",
       "    <tr style=\"text-align: right;\">\n",
       "      <th></th>\n",
       "      <th>id</th>\n",
       "      <th>imdb_id</th>\n",
       "      <th>popularity</th>\n",
       "      <th>budget</th>\n",
       "      <th>revenue</th>\n",
       "      <th>original_title</th>\n",
       "      <th>cast</th>\n",
       "      <th>director</th>\n",
       "      <th>tagline</th>\n",
       "      <th>keywords</th>\n",
       "      <th>...</th>\n",
       "      <th>runtime</th>\n",
       "      <th>genres</th>\n",
       "      <th>production_companies</th>\n",
       "      <th>release_date</th>\n",
       "      <th>vote_count</th>\n",
       "      <th>vote_average</th>\n",
       "      <th>release_year</th>\n",
       "      <th>budget_adj</th>\n",
       "      <th>revenue_adj</th>\n",
       "      <th>main_genres</th>\n",
       "    </tr>\n",
       "  </thead>\n",
       "  <tbody>\n",
       "    <tr>\n",
       "      <th>341</th>\n",
       "      <td>157336</td>\n",
       "      <td>tt0816692</td>\n",
       "      <td>24.949134</td>\n",
       "      <td>165000000</td>\n",
       "      <td>621752480</td>\n",
       "      <td>Interstellar</td>\n",
       "      <td>Matthew McConaughey|Jessica Chastain|Anne Hath...</td>\n",
       "      <td>Christopher Nolan</td>\n",
       "      <td>Mankind was born on Earth. It was never meant ...</td>\n",
       "      <td>saving the world|artificial intelligence|fathe...</td>\n",
       "      <td>...</td>\n",
       "      <td>169</td>\n",
       "      <td>Adventure|Drama|Science Fiction</td>\n",
       "      <td>Paramount Pictures|Legendary Pictures|Warner B...</td>\n",
       "      <td>11/5/14</td>\n",
       "      <td>6498</td>\n",
       "      <td>8.0</td>\n",
       "      <td>2014</td>\n",
       "      <td>1.519800e+08</td>\n",
       "      <td>5.726906e+08</td>\n",
       "      <td>Adventure</td>\n",
       "    </tr>\n",
       "    <tr>\n",
       "      <th>1077</th>\n",
       "      <td>27205</td>\n",
       "      <td>tt1375666</td>\n",
       "      <td>9.363643</td>\n",
       "      <td>160000000</td>\n",
       "      <td>825500000</td>\n",
       "      <td>Inception</td>\n",
       "      <td>Leonardo DiCaprio|Joseph Gordon-Levitt|Ellen P...</td>\n",
       "      <td>Christopher Nolan</td>\n",
       "      <td>Your mind is the scene of the crime.</td>\n",
       "      <td>loss of lover|dream|sleep|subconsciousness|heist</td>\n",
       "      <td>...</td>\n",
       "      <td>148</td>\n",
       "      <td>Action|Thriller|Science Fiction|Mystery|Adventure</td>\n",
       "      <td>Legendary Pictures|Warner Bros.|Syncopy</td>\n",
       "      <td>7/14/10</td>\n",
       "      <td>9767</td>\n",
       "      <td>7.9</td>\n",
       "      <td>2010</td>\n",
       "      <td>1.600000e+08</td>\n",
       "      <td>8.255000e+08</td>\n",
       "      <td>Action</td>\n",
       "    </tr>\n",
       "    <tr>\n",
       "      <th>1682</th>\n",
       "      <td>155</td>\n",
       "      <td>tt0468569</td>\n",
       "      <td>8.466668</td>\n",
       "      <td>185000000</td>\n",
       "      <td>1001921825</td>\n",
       "      <td>The Dark Knight</td>\n",
       "      <td>Christian Bale|Michael Caine|Heath Ledger|Aaro...</td>\n",
       "      <td>Christopher Nolan</td>\n",
       "      <td>Why So Serious?</td>\n",
       "      <td>dc comics|crime fighter|secret identity|scarec...</td>\n",
       "      <td>...</td>\n",
       "      <td>152</td>\n",
       "      <td>Drama|Action|Crime|Thriller</td>\n",
       "      <td>DC Comics|Legendary Pictures|Warner Bros.|Syncopy</td>\n",
       "      <td>7/16/08</td>\n",
       "      <td>8432</td>\n",
       "      <td>8.1</td>\n",
       "      <td>2008</td>\n",
       "      <td>1.873655e+08</td>\n",
       "      <td>1.014733e+09</td>\n",
       "      <td>Drama</td>\n",
       "    </tr>\n",
       "    <tr>\n",
       "      <th>2299</th>\n",
       "      <td>320</td>\n",
       "      <td>tt0278504</td>\n",
       "      <td>1.111488</td>\n",
       "      <td>46000000</td>\n",
       "      <td>113714830</td>\n",
       "      <td>Insomnia</td>\n",
       "      <td>Al Pacino|Robin Williams|Maura Tierney|Hilary ...</td>\n",
       "      <td>Christopher Nolan</td>\n",
       "      <td>A tough cop. A brilliant killer. An unspeakabl...</td>\n",
       "      <td>detective|confession|fbi|homicide|blackmail</td>\n",
       "      <td>...</td>\n",
       "      <td>118</td>\n",
       "      <td>Crime|Mystery|Thriller</td>\n",
       "      <td>Section Eight|Alcon Entertainment|Witt/Thomas ...</td>\n",
       "      <td>5/24/02</td>\n",
       "      <td>564</td>\n",
       "      <td>6.6</td>\n",
       "      <td>2002</td>\n",
       "      <td>5.576402e+07</td>\n",
       "      <td>1.378521e+08</td>\n",
       "      <td>Crime</td>\n",
       "    </tr>\n",
       "    <tr>\n",
       "      <th>2582</th>\n",
       "      <td>49026</td>\n",
       "      <td>tt1345836</td>\n",
       "      <td>6.591277</td>\n",
       "      <td>250000000</td>\n",
       "      <td>1081041287</td>\n",
       "      <td>The Dark Knight Rises</td>\n",
       "      <td>Christian Bale|Michael Caine|Gary Oldman|Anne ...</td>\n",
       "      <td>Christopher Nolan</td>\n",
       "      <td>The Legend Ends</td>\n",
       "      <td>dc comics|crime fighter|terrorist|secret ident...</td>\n",
       "      <td>...</td>\n",
       "      <td>165</td>\n",
       "      <td>Action|Crime|Drama|Thriller</td>\n",
       "      <td>Legendary Pictures|Warner Bros.|DC Entertainme...</td>\n",
       "      <td>7/16/12</td>\n",
       "      <td>6723</td>\n",
       "      <td>7.5</td>\n",
       "      <td>2012</td>\n",
       "      <td>2.374361e+08</td>\n",
       "      <td>1.026713e+09</td>\n",
       "      <td>Action</td>\n",
       "    </tr>\n",
       "    <tr>\n",
       "      <th>3617</th>\n",
       "      <td>272</td>\n",
       "      <td>tt0372784</td>\n",
       "      <td>5.400826</td>\n",
       "      <td>150000000</td>\n",
       "      <td>374218673</td>\n",
       "      <td>Batman Begins</td>\n",
       "      <td>Christian Bale|Michael Caine|Liam Neeson|Katie...</td>\n",
       "      <td>Christopher Nolan</td>\n",
       "      <td>Evil fears the knight.</td>\n",
       "      <td>martial arts|dc comics|crime fighter|secret id...</td>\n",
       "      <td>...</td>\n",
       "      <td>140</td>\n",
       "      <td>Action|Crime|Drama</td>\n",
       "      <td>DC Comics|Legendary Pictures|Warner Bros.|DC E...</td>\n",
       "      <td>6/14/05</td>\n",
       "      <td>4914</td>\n",
       "      <td>7.3</td>\n",
       "      <td>2005</td>\n",
       "      <td>1.674845e+08</td>\n",
       "      <td>4.178388e+08</td>\n",
       "      <td>Action</td>\n",
       "    </tr>\n",
       "    <tr>\n",
       "      <th>3859</th>\n",
       "      <td>1124</td>\n",
       "      <td>tt0482571</td>\n",
       "      <td>2.582095</td>\n",
       "      <td>40000000</td>\n",
       "      <td>109676311</td>\n",
       "      <td>The Prestige</td>\n",
       "      <td>Hugh Jackman|Christian Bale|Michael Caine|Scar...</td>\n",
       "      <td>Christopher Nolan</td>\n",
       "      <td>Are You Watching Closely?</td>\n",
       "      <td>competition|secret|obsession|magic|dying and d...</td>\n",
       "      <td>...</td>\n",
       "      <td>130</td>\n",
       "      <td>Drama|Mystery|Thriller</td>\n",
       "      <td>Touchstone Pictures|Syncopy</td>\n",
       "      <td>10/19/06</td>\n",
       "      <td>2519</td>\n",
       "      <td>7.8</td>\n",
       "      <td>2006</td>\n",
       "      <td>4.326677e+07</td>\n",
       "      <td>1.186335e+08</td>\n",
       "      <td>Drama</td>\n",
       "    </tr>\n",
       "    <tr>\n",
       "      <th>5341</th>\n",
       "      <td>77</td>\n",
       "      <td>tt0209144</td>\n",
       "      <td>3.095625</td>\n",
       "      <td>9000000</td>\n",
       "      <td>39723096</td>\n",
       "      <td>Memento</td>\n",
       "      <td>Guy Pearce|Carrie-Anne Moss|Joe Pantoliano|Mar...</td>\n",
       "      <td>Christopher Nolan</td>\n",
       "      <td>Some memories are best forgotten.</td>\n",
       "      <td>individual|insulin|tattoo|waitress|amnesia</td>\n",
       "      <td>...</td>\n",
       "      <td>113</td>\n",
       "      <td>Mystery|Thriller</td>\n",
       "      <td>Summit Entertainment|Newmarket Capital Group|T...</td>\n",
       "      <td>10/11/00</td>\n",
       "      <td>2144</td>\n",
       "      <td>7.9</td>\n",
       "      <td>2000</td>\n",
       "      <td>1.139663e+07</td>\n",
       "      <td>5.030104e+07</td>\n",
       "      <td>Mystery</td>\n",
       "    </tr>\n",
       "  </tbody>\n",
       "</table>\n",
       "<p>8 rows × 21 columns</p>\n",
       "</div>"
      ],
      "text/plain": [
       "          id    imdb_id  popularity     budget     revenue  \\\n",
       "341   157336  tt0816692   24.949134  165000000   621752480   \n",
       "1077   27205  tt1375666    9.363643  160000000   825500000   \n",
       "1682     155  tt0468569    8.466668  185000000  1001921825   \n",
       "2299     320  tt0278504    1.111488   46000000   113714830   \n",
       "2582   49026  tt1345836    6.591277  250000000  1081041287   \n",
       "3617     272  tt0372784    5.400826  150000000   374218673   \n",
       "3859    1124  tt0482571    2.582095   40000000   109676311   \n",
       "5341      77  tt0209144    3.095625    9000000    39723096   \n",
       "\n",
       "             original_title  \\\n",
       "341            Interstellar   \n",
       "1077              Inception   \n",
       "1682        The Dark Knight   \n",
       "2299               Insomnia   \n",
       "2582  The Dark Knight Rises   \n",
       "3617          Batman Begins   \n",
       "3859           The Prestige   \n",
       "5341                Memento   \n",
       "\n",
       "                                                   cast           director  \\\n",
       "341   Matthew McConaughey|Jessica Chastain|Anne Hath...  Christopher Nolan   \n",
       "1077  Leonardo DiCaprio|Joseph Gordon-Levitt|Ellen P...  Christopher Nolan   \n",
       "1682  Christian Bale|Michael Caine|Heath Ledger|Aaro...  Christopher Nolan   \n",
       "2299  Al Pacino|Robin Williams|Maura Tierney|Hilary ...  Christopher Nolan   \n",
       "2582  Christian Bale|Michael Caine|Gary Oldman|Anne ...  Christopher Nolan   \n",
       "3617  Christian Bale|Michael Caine|Liam Neeson|Katie...  Christopher Nolan   \n",
       "3859  Hugh Jackman|Christian Bale|Michael Caine|Scar...  Christopher Nolan   \n",
       "5341  Guy Pearce|Carrie-Anne Moss|Joe Pantoliano|Mar...  Christopher Nolan   \n",
       "\n",
       "                                                tagline  \\\n",
       "341   Mankind was born on Earth. It was never meant ...   \n",
       "1077               Your mind is the scene of the crime.   \n",
       "1682                                    Why So Serious?   \n",
       "2299  A tough cop. A brilliant killer. An unspeakabl...   \n",
       "2582                                    The Legend Ends   \n",
       "3617                             Evil fears the knight.   \n",
       "3859                          Are You Watching Closely?   \n",
       "5341                  Some memories are best forgotten.   \n",
       "\n",
       "                                               keywords  ... runtime  \\\n",
       "341   saving the world|artificial intelligence|fathe...  ...     169   \n",
       "1077   loss of lover|dream|sleep|subconsciousness|heist  ...     148   \n",
       "1682  dc comics|crime fighter|secret identity|scarec...  ...     152   \n",
       "2299        detective|confession|fbi|homicide|blackmail  ...     118   \n",
       "2582  dc comics|crime fighter|terrorist|secret ident...  ...     165   \n",
       "3617  martial arts|dc comics|crime fighter|secret id...  ...     140   \n",
       "3859  competition|secret|obsession|magic|dying and d...  ...     130   \n",
       "5341         individual|insulin|tattoo|waitress|amnesia  ...     113   \n",
       "\n",
       "                                                 genres  \\\n",
       "341                     Adventure|Drama|Science Fiction   \n",
       "1077  Action|Thriller|Science Fiction|Mystery|Adventure   \n",
       "1682                        Drama|Action|Crime|Thriller   \n",
       "2299                             Crime|Mystery|Thriller   \n",
       "2582                        Action|Crime|Drama|Thriller   \n",
       "3617                                 Action|Crime|Drama   \n",
       "3859                             Drama|Mystery|Thriller   \n",
       "5341                                   Mystery|Thriller   \n",
       "\n",
       "                                   production_companies release_date  \\\n",
       "341   Paramount Pictures|Legendary Pictures|Warner B...      11/5/14   \n",
       "1077            Legendary Pictures|Warner Bros.|Syncopy      7/14/10   \n",
       "1682  DC Comics|Legendary Pictures|Warner Bros.|Syncopy      7/16/08   \n",
       "2299  Section Eight|Alcon Entertainment|Witt/Thomas ...      5/24/02   \n",
       "2582  Legendary Pictures|Warner Bros.|DC Entertainme...      7/16/12   \n",
       "3617  DC Comics|Legendary Pictures|Warner Bros.|DC E...      6/14/05   \n",
       "3859                        Touchstone Pictures|Syncopy     10/19/06   \n",
       "5341  Summit Entertainment|Newmarket Capital Group|T...     10/11/00   \n",
       "\n",
       "     vote_count  vote_average  release_year    budget_adj   revenue_adj  \\\n",
       "341        6498           8.0          2014  1.519800e+08  5.726906e+08   \n",
       "1077       9767           7.9          2010  1.600000e+08  8.255000e+08   \n",
       "1682       8432           8.1          2008  1.873655e+08  1.014733e+09   \n",
       "2299        564           6.6          2002  5.576402e+07  1.378521e+08   \n",
       "2582       6723           7.5          2012  2.374361e+08  1.026713e+09   \n",
       "3617       4914           7.3          2005  1.674845e+08  4.178388e+08   \n",
       "3859       2519           7.8          2006  4.326677e+07  1.186335e+08   \n",
       "5341       2144           7.9          2000  1.139663e+07  5.030104e+07   \n",
       "\n",
       "      main_genres  \n",
       "341     Adventure  \n",
       "1077       Action  \n",
       "1682        Drama  \n",
       "2299        Crime  \n",
       "2582       Action  \n",
       "3617       Action  \n",
       "3859        Drama  \n",
       "5341      Mystery  \n",
       "\n",
       "[8 rows x 21 columns]"
      ]
     },
     "execution_count": 7,
     "metadata": {},
     "output_type": "execute_result"
    }
   ],
   "source": [
    "df[df['director'].str.contains('Christopher Nolan')]"
   ]
  },
  {
   "cell_type": "code",
   "execution_count": 10,
   "id": "2e392c30",
   "metadata": {},
   "outputs": [
    {
     "data": {
      "text/html": [
       "<div>\n",
       "<style scoped>\n",
       "    .dataframe tbody tr th:only-of-type {\n",
       "        vertical-align: middle;\n",
       "    }\n",
       "\n",
       "    .dataframe tbody tr th {\n",
       "        vertical-align: top;\n",
       "    }\n",
       "\n",
       "    .dataframe thead th {\n",
       "        text-align: right;\n",
       "    }\n",
       "</style>\n",
       "<table border=\"1\" class=\"dataframe\">\n",
       "  <thead>\n",
       "    <tr style=\"text-align: right;\">\n",
       "      <th></th>\n",
       "      <th>id</th>\n",
       "      <th>imdb_id</th>\n",
       "      <th>popularity</th>\n",
       "      <th>budget</th>\n",
       "      <th>revenue</th>\n",
       "      <th>original_title</th>\n",
       "      <th>cast</th>\n",
       "      <th>director</th>\n",
       "      <th>tagline</th>\n",
       "      <th>keywords</th>\n",
       "      <th>...</th>\n",
       "      <th>runtime</th>\n",
       "      <th>genres</th>\n",
       "      <th>production_companies</th>\n",
       "      <th>release_date</th>\n",
       "      <th>vote_count</th>\n",
       "      <th>vote_average</th>\n",
       "      <th>release_year</th>\n",
       "      <th>budget_adj</th>\n",
       "      <th>revenue_adj</th>\n",
       "      <th>main_genres</th>\n",
       "    </tr>\n",
       "  </thead>\n",
       "  <tbody>\n",
       "    <tr>\n",
       "      <th>336</th>\n",
       "      <td>321640</td>\n",
       "      <td>tt4299972</td>\n",
       "      <td>0.033378</td>\n",
       "      <td>0</td>\n",
       "      <td>0</td>\n",
       "      <td>The Jinx: The Life and Deaths of Robert Durst</td>\n",
       "      <td>Robert Durst|Andrew Jarecki|Marc Smerling|Zach...</td>\n",
       "      <td>Andrew Jarecki</td>\n",
       "      <td>Four Decades. Three Murders. And One Very Rich...</td>\n",
       "      <td>murder|crime|real life</td>\n",
       "      <td>...</td>\n",
       "      <td>240</td>\n",
       "      <td>Documentary</td>\n",
       "      <td>Blumhouse Productions|Hit the Ground Running F...</td>\n",
       "      <td>2/8/15</td>\n",
       "      <td>72</td>\n",
       "      <td>8.4</td>\n",
       "      <td>2015</td>\n",
       "      <td>0.000000e+00</td>\n",
       "      <td>0.000000e+00</td>\n",
       "      <td>Documentary</td>\n",
       "    </tr>\n",
       "    <tr>\n",
       "      <th>2450</th>\n",
       "      <td>278</td>\n",
       "      <td>tt0111161</td>\n",
       "      <td>7.192039</td>\n",
       "      <td>25000000</td>\n",
       "      <td>28341469</td>\n",
       "      <td>The Shawshank Redemption</td>\n",
       "      <td>Tim Robbins|Morgan Freeman|Bob Gunton|William ...</td>\n",
       "      <td>Frank Darabont</td>\n",
       "      <td>Fear can hold you prisoner. Hope can set you f...</td>\n",
       "      <td>prison|corruption|police brutality|prison cell...</td>\n",
       "      <td>...</td>\n",
       "      <td>142</td>\n",
       "      <td>Drama|Crime</td>\n",
       "      <td>Castle Rock Entertainment</td>\n",
       "      <td>9/10/94</td>\n",
       "      <td>5754</td>\n",
       "      <td>8.4</td>\n",
       "      <td>1994</td>\n",
       "      <td>3.677779e+07</td>\n",
       "      <td>4.169346e+07</td>\n",
       "      <td>Drama</td>\n",
       "    </tr>\n",
       "    <tr>\n",
       "      <th>4773</th>\n",
       "      <td>24128</td>\n",
       "      <td>tt0088178</td>\n",
       "      <td>0.283191</td>\n",
       "      <td>1200000</td>\n",
       "      <td>4978922</td>\n",
       "      <td>Stop Making Sense</td>\n",
       "      <td>David Byrne|Tina Weymouth|Chris Frantz|Jerry H...</td>\n",
       "      <td>Jonathan Demme</td>\n",
       "      <td>Why stop making sense? Why a movie? Why a big ...</td>\n",
       "      <td>concert</td>\n",
       "      <td>...</td>\n",
       "      <td>88</td>\n",
       "      <td>Documentary|Music</td>\n",
       "      <td>Talking Heads|Arnold Stiefel Company</td>\n",
       "      <td>11/16/84</td>\n",
       "      <td>23</td>\n",
       "      <td>8.4</td>\n",
       "      <td>1984</td>\n",
       "      <td>2.518850e+06</td>\n",
       "      <td>1.045097e+07</td>\n",
       "      <td>Documentary</td>\n",
       "    </tr>\n",
       "  </tbody>\n",
       "</table>\n",
       "<p>3 rows × 21 columns</p>\n",
       "</div>"
      ],
      "text/plain": [
       "          id    imdb_id  popularity    budget   revenue  \\\n",
       "336   321640  tt4299972    0.033378         0         0   \n",
       "2450     278  tt0111161    7.192039  25000000  28341469   \n",
       "4773   24128  tt0088178    0.283191   1200000   4978922   \n",
       "\n",
       "                                     original_title  \\\n",
       "336   The Jinx: The Life and Deaths of Robert Durst   \n",
       "2450                       The Shawshank Redemption   \n",
       "4773                              Stop Making Sense   \n",
       "\n",
       "                                                   cast        director  \\\n",
       "336   Robert Durst|Andrew Jarecki|Marc Smerling|Zach...  Andrew Jarecki   \n",
       "2450  Tim Robbins|Morgan Freeman|Bob Gunton|William ...  Frank Darabont   \n",
       "4773  David Byrne|Tina Weymouth|Chris Frantz|Jerry H...  Jonathan Demme   \n",
       "\n",
       "                                                tagline  \\\n",
       "336   Four Decades. Three Murders. And One Very Rich...   \n",
       "2450  Fear can hold you prisoner. Hope can set you f...   \n",
       "4773  Why stop making sense? Why a movie? Why a big ...   \n",
       "\n",
       "                                               keywords  ... runtime  \\\n",
       "336                              murder|crime|real life  ...     240   \n",
       "2450  prison|corruption|police brutality|prison cell...  ...     142   \n",
       "4773                                            concert  ...      88   \n",
       "\n",
       "                 genres                               production_companies  \\\n",
       "336         Documentary  Blumhouse Productions|Hit the Ground Running F...   \n",
       "2450        Drama|Crime                          Castle Rock Entertainment   \n",
       "4773  Documentary|Music               Talking Heads|Arnold Stiefel Company   \n",
       "\n",
       "     release_date vote_count  vote_average  release_year    budget_adj  \\\n",
       "336        2/8/15         72           8.4          2015  0.000000e+00   \n",
       "2450      9/10/94       5754           8.4          1994  3.677779e+07   \n",
       "4773     11/16/84         23           8.4          1984  2.518850e+06   \n",
       "\n",
       "       revenue_adj  main_genres  \n",
       "336   0.000000e+00  Documentary  \n",
       "2450  4.169346e+07        Drama  \n",
       "4773  1.045097e+07  Documentary  \n",
       "\n",
       "[3 rows x 21 columns]"
      ]
     },
     "execution_count": 10,
     "metadata": {},
     "output_type": "execute_result"
    }
   ],
   "source": [
    "df[df['vote_average']==df['vote_average'].max()]"
   ]
  },
  {
   "cell_type": "code",
   "execution_count": 21,
   "id": "ebd8cfcb",
   "metadata": {},
   "outputs": [
    {
     "data": {
      "text/plain": [
       "Index(['id', 'imdb_id', 'popularity', 'budget', 'revenue', 'original_title',\n",
       "       'cast', 'homepage', 'director', 'tagline', 'keywords', 'overview',\n",
       "       'runtime', 'genres', 'production_companies', 'release_date',\n",
       "       'vote_count', 'vote_average', 'release_year', 'budget_adj',\n",
       "       'revenue_adj'],\n",
       "      dtype='object')"
      ]
     },
     "execution_count": 21,
     "metadata": {},
     "output_type": "execute_result"
    }
   ],
   "source": [
    "df.columns"
   ]
  },
  {
   "cell_type": "code",
   "execution_count": 43,
   "id": "ff0259e1",
   "metadata": {},
   "outputs": [],
   "source": [
    "df.drop(['budget', 'revenue',],inplace=True,axis=1)"
   ]
  },
  {
   "cell_type": "code",
   "execution_count": 27,
   "id": "f8ec750f",
   "metadata": {},
   "outputs": [
    {
     "data": {
      "text/plain": [
       "Index(['popularity', 'budget', 'revenue', 'original_title', 'cast', 'director',\n",
       "       'overview', 'runtime', 'genres', 'release_date', 'vote_count',\n",
       "       'vote_average', 'release_year', 'budget_adj', 'revenue_adj'],\n",
       "      dtype='object')"
      ]
     },
     "execution_count": 27,
     "metadata": {},
     "output_type": "execute_result"
    }
   ],
   "source": [
    "df.columns"
   ]
  },
  {
   "cell_type": "code",
   "execution_count": 28,
   "id": "9ad5caef",
   "metadata": {},
   "outputs": [
    {
     "name": "stdout",
     "output_type": "stream",
     "text": [
      "<class 'pandas.core.frame.DataFrame'>\n",
      "RangeIndex: 10866 entries, 0 to 10865\n",
      "Data columns (total 15 columns):\n",
      " #   Column          Non-Null Count  Dtype  \n",
      "---  ------          --------------  -----  \n",
      " 0   popularity      10866 non-null  float64\n",
      " 1   budget          10866 non-null  int64  \n",
      " 2   revenue         10866 non-null  int64  \n",
      " 3   original_title  10866 non-null  object \n",
      " 4   cast            10790 non-null  object \n",
      " 5   director        10822 non-null  object \n",
      " 6   overview        10862 non-null  object \n",
      " 7   runtime         10866 non-null  int64  \n",
      " 8   genres          10843 non-null  object \n",
      " 9   release_date    10866 non-null  object \n",
      " 10  vote_count      10866 non-null  int64  \n",
      " 11  vote_average    10866 non-null  float64\n",
      " 12  release_year    10866 non-null  int64  \n",
      " 13  budget_adj      10866 non-null  float64\n",
      " 14  revenue_adj     10866 non-null  float64\n",
      "dtypes: float64(4), int64(5), object(6)\n",
      "memory usage: 1.2+ MB\n"
     ]
    }
   ],
   "source": [
    "df.info()"
   ]
  },
  {
   "cell_type": "code",
   "execution_count": 29,
   "id": "28a57fb2",
   "metadata": {},
   "outputs": [],
   "source": [
    "df.dropna(inplace=True)"
   ]
  },
  {
   "cell_type": "code",
   "execution_count": 30,
   "id": "1b7f3a3a",
   "metadata": {},
   "outputs": [
    {
     "name": "stdout",
     "output_type": "stream",
     "text": [
      "<class 'pandas.core.frame.DataFrame'>\n",
      "Int64Index: 10730 entries, 0 to 10865\n",
      "Data columns (total 15 columns):\n",
      " #   Column          Non-Null Count  Dtype  \n",
      "---  ------          --------------  -----  \n",
      " 0   popularity      10730 non-null  float64\n",
      " 1   budget          10730 non-null  int64  \n",
      " 2   revenue         10730 non-null  int64  \n",
      " 3   original_title  10730 non-null  object \n",
      " 4   cast            10730 non-null  object \n",
      " 5   director        10730 non-null  object \n",
      " 6   overview        10730 non-null  object \n",
      " 7   runtime         10730 non-null  int64  \n",
      " 8   genres          10730 non-null  object \n",
      " 9   release_date    10730 non-null  object \n",
      " 10  vote_count      10730 non-null  int64  \n",
      " 11  vote_average    10730 non-null  float64\n",
      " 12  release_year    10730 non-null  int64  \n",
      " 13  budget_adj      10730 non-null  float64\n",
      " 14  revenue_adj     10730 non-null  float64\n",
      "dtypes: float64(4), int64(5), object(6)\n",
      "memory usage: 1.3+ MB\n"
     ]
    }
   ],
   "source": [
    "df.info()"
   ]
  },
  {
   "cell_type": "code",
   "execution_count": 33,
   "id": "1f44576d",
   "metadata": {},
   "outputs": [
    {
     "data": {
      "text/html": [
       "<div>\n",
       "<style scoped>\n",
       "    .dataframe tbody tr th:only-of-type {\n",
       "        vertical-align: middle;\n",
       "    }\n",
       "\n",
       "    .dataframe tbody tr th {\n",
       "        vertical-align: top;\n",
       "    }\n",
       "\n",
       "    .dataframe thead th {\n",
       "        text-align: right;\n",
       "    }\n",
       "</style>\n",
       "<table border=\"1\" class=\"dataframe\">\n",
       "  <thead>\n",
       "    <tr style=\"text-align: right;\">\n",
       "      <th></th>\n",
       "      <th>popularity</th>\n",
       "      <th>budget</th>\n",
       "      <th>revenue</th>\n",
       "      <th>original_title</th>\n",
       "      <th>cast</th>\n",
       "      <th>director</th>\n",
       "      <th>overview</th>\n",
       "      <th>runtime</th>\n",
       "      <th>genres</th>\n",
       "      <th>release_date</th>\n",
       "      <th>vote_count</th>\n",
       "      <th>vote_average</th>\n",
       "      <th>release_year</th>\n",
       "      <th>budget_adj</th>\n",
       "      <th>revenue_adj</th>\n",
       "    </tr>\n",
       "  </thead>\n",
       "  <tbody>\n",
       "    <tr>\n",
       "      <th>7047</th>\n",
       "      <td>0.815044</td>\n",
       "      <td>100000000</td>\n",
       "      <td>108103450</td>\n",
       "      <td>Hidalgo</td>\n",
       "      <td>Viggo Mortensen|Zuleikha Robinson|Omar Sharif|...</td>\n",
       "      <td>Joe Johnston</td>\n",
       "      <td>Set in 1890, this is the story of a Pony Expre...</td>\n",
       "      <td>136</td>\n",
       "      <td>Western|Adventure</td>\n",
       "      <td>3/5/04</td>\n",
       "      <td>177</td>\n",
       "      <td>6.3</td>\n",
       "      <td>2004</td>\n",
       "      <td>1.154445e+08</td>\n",
       "      <td>1.247995e+08</td>\n",
       "    </tr>\n",
       "    <tr>\n",
       "      <th>9742</th>\n",
       "      <td>0.214989</td>\n",
       "      <td>0</td>\n",
       "      <td>0</td>\n",
       "      <td>Funny Girl</td>\n",
       "      <td>Barbra Streisand|Omar Sharif|Kay Medford|Anne ...</td>\n",
       "      <td>William Wyler</td>\n",
       "      <td>The life of comedienne Fannie Brice, from her ...</td>\n",
       "      <td>149</td>\n",
       "      <td>Drama|Comedy|Music|Romance</td>\n",
       "      <td>9/19/68</td>\n",
       "      <td>39</td>\n",
       "      <td>6.6</td>\n",
       "      <td>1968</td>\n",
       "      <td>0.000000e+00</td>\n",
       "      <td>0.000000e+00</td>\n",
       "    </tr>\n",
       "    <tr>\n",
       "      <th>9850</th>\n",
       "      <td>1.168767</td>\n",
       "      <td>15000000</td>\n",
       "      <td>70000000</td>\n",
       "      <td>Lawrence of Arabia</td>\n",
       "      <td>Peter O'Toole|Alec Guinness|Anthony Quinn|Jack...</td>\n",
       "      <td>David Lean</td>\n",
       "      <td>An epic about British officer T.E. Lawrence's ...</td>\n",
       "      <td>216</td>\n",
       "      <td>Adventure|Drama|History|War</td>\n",
       "      <td>12/10/62</td>\n",
       "      <td>517</td>\n",
       "      <td>7.5</td>\n",
       "      <td>1962</td>\n",
       "      <td>1.081267e+08</td>\n",
       "      <td>5.045914e+08</td>\n",
       "    </tr>\n",
       "    <tr>\n",
       "      <th>10411</th>\n",
       "      <td>0.438314</td>\n",
       "      <td>0</td>\n",
       "      <td>0</td>\n",
       "      <td>The Night of the Generals</td>\n",
       "      <td>Peter O'Toole|Omar Sharif|Philippe Noiret|Chri...</td>\n",
       "      <td>Anatole Litvak</td>\n",
       "      <td>The murder of a prostitute in Nazi occupied Wa...</td>\n",
       "      <td>148</td>\n",
       "      <td>Drama|Action|Thriller|Crime|Mystery</td>\n",
       "      <td>1/29/67</td>\n",
       "      <td>18</td>\n",
       "      <td>6.1</td>\n",
       "      <td>1967</td>\n",
       "      <td>0.000000e+00</td>\n",
       "      <td>0.000000e+00</td>\n",
       "    </tr>\n",
       "    <tr>\n",
       "      <th>10691</th>\n",
       "      <td>1.282053</td>\n",
       "      <td>14000000</td>\n",
       "      <td>111721910</td>\n",
       "      <td>Doctor Zhivago</td>\n",
       "      <td>Omar Sharif|Julie Christie|Geraldine Chaplin|R...</td>\n",
       "      <td>David Lean</td>\n",
       "      <td>Doctor Zhivago is the filmed adapation of the ...</td>\n",
       "      <td>197</td>\n",
       "      <td>Drama|Romance|War</td>\n",
       "      <td>12/22/65</td>\n",
       "      <td>126</td>\n",
       "      <td>6.9</td>\n",
       "      <td>1965</td>\n",
       "      <td>9.688789e+07</td>\n",
       "      <td>7.731786e+08</td>\n",
       "    </tr>\n",
       "    <tr>\n",
       "      <th>10737</th>\n",
       "      <td>0.386778</td>\n",
       "      <td>0</td>\n",
       "      <td>0</td>\n",
       "      <td>Mackenna's Gold</td>\n",
       "      <td>Gregory Peck|Omar Sharif|Camilla Sparv|Julie N...</td>\n",
       "      <td>J. Lee Thompson</td>\n",
       "      <td>The gangster Colorado kidnaps Marshal McKenna....</td>\n",
       "      <td>128</td>\n",
       "      <td>Action|Western</td>\n",
       "      <td>1/1/69</td>\n",
       "      <td>17</td>\n",
       "      <td>6.2</td>\n",
       "      <td>1969</td>\n",
       "      <td>0.000000e+00</td>\n",
       "      <td>0.000000e+00</td>\n",
       "    </tr>\n",
       "  </tbody>\n",
       "</table>\n",
       "</div>"
      ],
      "text/plain": [
       "       popularity     budget    revenue             original_title  \\\n",
       "7047     0.815044  100000000  108103450                    Hidalgo   \n",
       "9742     0.214989          0          0                 Funny Girl   \n",
       "9850     1.168767   15000000   70000000         Lawrence of Arabia   \n",
       "10411    0.438314          0          0  The Night of the Generals   \n",
       "10691    1.282053   14000000  111721910             Doctor Zhivago   \n",
       "10737    0.386778          0          0            Mackenna's Gold   \n",
       "\n",
       "                                                    cast         director  \\\n",
       "7047   Viggo Mortensen|Zuleikha Robinson|Omar Sharif|...     Joe Johnston   \n",
       "9742   Barbra Streisand|Omar Sharif|Kay Medford|Anne ...    William Wyler   \n",
       "9850   Peter O'Toole|Alec Guinness|Anthony Quinn|Jack...       David Lean   \n",
       "10411  Peter O'Toole|Omar Sharif|Philippe Noiret|Chri...   Anatole Litvak   \n",
       "10691  Omar Sharif|Julie Christie|Geraldine Chaplin|R...       David Lean   \n",
       "10737  Gregory Peck|Omar Sharif|Camilla Sparv|Julie N...  J. Lee Thompson   \n",
       "\n",
       "                                                overview  runtime  \\\n",
       "7047   Set in 1890, this is the story of a Pony Expre...      136   \n",
       "9742   The life of comedienne Fannie Brice, from her ...      149   \n",
       "9850   An epic about British officer T.E. Lawrence's ...      216   \n",
       "10411  The murder of a prostitute in Nazi occupied Wa...      148   \n",
       "10691  Doctor Zhivago is the filmed adapation of the ...      197   \n",
       "10737  The gangster Colorado kidnaps Marshal McKenna....      128   \n",
       "\n",
       "                                    genres release_date  vote_count  \\\n",
       "7047                     Western|Adventure       3/5/04         177   \n",
       "9742            Drama|Comedy|Music|Romance      9/19/68          39   \n",
       "9850           Adventure|Drama|History|War     12/10/62         517   \n",
       "10411  Drama|Action|Thriller|Crime|Mystery      1/29/67          18   \n",
       "10691                    Drama|Romance|War     12/22/65         126   \n",
       "10737                       Action|Western       1/1/69          17   \n",
       "\n",
       "       vote_average  release_year    budget_adj   revenue_adj  \n",
       "7047            6.3          2004  1.154445e+08  1.247995e+08  \n",
       "9742            6.6          1968  0.000000e+00  0.000000e+00  \n",
       "9850            7.5          1962  1.081267e+08  5.045914e+08  \n",
       "10411           6.1          1967  0.000000e+00  0.000000e+00  \n",
       "10691           6.9          1965  9.688789e+07  7.731786e+08  \n",
       "10737           6.2          1969  0.000000e+00  0.000000e+00  "
      ]
     },
     "execution_count": 33,
     "metadata": {},
     "output_type": "execute_result"
    }
   ],
   "source": [
    "df[df['cast'].str.contains('Omar Sharif')]"
   ]
  },
  {
   "cell_type": "code",
   "execution_count": 46,
   "id": "a9f6cf1e",
   "metadata": {},
   "outputs": [
    {
     "data": {
      "text/html": [
       "<div>\n",
       "<style scoped>\n",
       "    .dataframe tbody tr th:only-of-type {\n",
       "        vertical-align: middle;\n",
       "    }\n",
       "\n",
       "    .dataframe tbody tr th {\n",
       "        vertical-align: top;\n",
       "    }\n",
       "\n",
       "    .dataframe thead th {\n",
       "        text-align: right;\n",
       "    }\n",
       "</style>\n",
       "<table border=\"1\" class=\"dataframe\">\n",
       "  <thead>\n",
       "    <tr style=\"text-align: right;\">\n",
       "      <th></th>\n",
       "      <th>popularity</th>\n",
       "      <th>original_title</th>\n",
       "      <th>cast</th>\n",
       "      <th>director</th>\n",
       "      <th>overview</th>\n",
       "      <th>runtime</th>\n",
       "      <th>genres</th>\n",
       "      <th>release_date</th>\n",
       "      <th>vote_count</th>\n",
       "      <th>vote_average</th>\n",
       "      <th>release_year</th>\n",
       "      <th>budget_adj</th>\n",
       "      <th>revenue_adj</th>\n",
       "    </tr>\n",
       "  </thead>\n",
       "  <tbody>\n",
       "    <tr>\n",
       "      <th>629</th>\n",
       "      <td>24.949134</td>\n",
       "      <td>Interstellar</td>\n",
       "      <td>Matthew McConaughey|Jessica Chastain|Anne Hath...</td>\n",
       "      <td>Christopher Nolan</td>\n",
       "      <td>Interstellar chronicles the adventures of a gr...</td>\n",
       "      <td>169</td>\n",
       "      <td>Adventure|Drama|Science Fiction</td>\n",
       "      <td>11/5/14</td>\n",
       "      <td>6498</td>\n",
       "      <td>8.0</td>\n",
       "      <td>2014</td>\n",
       "      <td>1.519800e+08</td>\n",
       "      <td>5.726906e+08</td>\n",
       "    </tr>\n",
       "    <tr>\n",
       "      <th>630</th>\n",
       "      <td>14.311205</td>\n",
       "      <td>Guardians of the Galaxy</td>\n",
       "      <td>Chris Pratt|Zoe Saldana|Dave Bautista|Vin Dies...</td>\n",
       "      <td>James Gunn</td>\n",
       "      <td>Light years from Earth, 26 years after being a...</td>\n",
       "      <td>121</td>\n",
       "      <td>Action|Science Fiction|Adventure</td>\n",
       "      <td>7/30/14</td>\n",
       "      <td>5612</td>\n",
       "      <td>7.9</td>\n",
       "      <td>2014</td>\n",
       "      <td>1.565855e+08</td>\n",
       "      <td>7.122911e+08</td>\n",
       "    </tr>\n",
       "    <tr>\n",
       "      <th>1149</th>\n",
       "      <td>0.178898</td>\n",
       "      <td>Doctor Who: Last Christmas</td>\n",
       "      <td>Peter Capaldi|Jenna Coleman|Nick Frost|Samuel ...</td>\n",
       "      <td>Paul Wilmshurst</td>\n",
       "      <td>The Doctor and Clara face their Last Christmas...</td>\n",
       "      <td>57</td>\n",
       "      <td>Science Fiction|Adventure|Drama|Fantasy</td>\n",
       "      <td>12/25/14</td>\n",
       "      <td>50</td>\n",
       "      <td>7.9</td>\n",
       "      <td>2014</td>\n",
       "      <td>0.000000e+00</td>\n",
       "      <td>0.000000e+00</td>\n",
       "    </tr>\n",
       "    <tr>\n",
       "      <th>1153</th>\n",
       "      <td>0.175793</td>\n",
       "      <td>Valley Uprising</td>\n",
       "      <td>Peter Sarsgaard|Alex Honnold|Royal Robbins|Lyn...</td>\n",
       "      <td>Josh Lowell|Peter Mortimer|Nick Rosen</td>\n",
       "      <td>In the shady campgrounds of Yosemite valley, c...</td>\n",
       "      <td>99</td>\n",
       "      <td>Adventure|Documentary</td>\n",
       "      <td>9/1/14</td>\n",
       "      <td>12</td>\n",
       "      <td>7.9</td>\n",
       "      <td>2014</td>\n",
       "      <td>0.000000e+00</td>\n",
       "      <td>0.000000e+00</td>\n",
       "    </tr>\n",
       "    <tr>\n",
       "      <th>1329</th>\n",
       "      <td>12.037933</td>\n",
       "      <td>Star Wars</td>\n",
       "      <td>Mark Hamill|Harrison Ford|Carrie Fisher|Peter ...</td>\n",
       "      <td>George Lucas</td>\n",
       "      <td>Princess Leia is captured and held hostage by ...</td>\n",
       "      <td>121</td>\n",
       "      <td>Adventure|Action|Science Fiction</td>\n",
       "      <td>3/20/77</td>\n",
       "      <td>4428</td>\n",
       "      <td>7.9</td>\n",
       "      <td>1977</td>\n",
       "      <td>3.957559e+07</td>\n",
       "      <td>2.789712e+09</td>\n",
       "    </tr>\n",
       "    <tr>\n",
       "      <th>1661</th>\n",
       "      <td>0.369792</td>\n",
       "      <td>Partly Cloudy</td>\n",
       "      <td>Tony Fucile|Lori Richardson</td>\n",
       "      <td>Peter Sohn</td>\n",
       "      <td>Everyone knows that the stork delivers babies,...</td>\n",
       "      <td>5</td>\n",
       "      <td>Adventure|Animation|Comedy|Family|Fantasy</td>\n",
       "      <td>5/28/09</td>\n",
       "      <td>218</td>\n",
       "      <td>7.9</td>\n",
       "      <td>2009</td>\n",
       "      <td>0.000000e+00</td>\n",
       "      <td>0.000000e+00</td>\n",
       "    </tr>\n",
       "    <tr>\n",
       "      <th>1919</th>\n",
       "      <td>9.363643</td>\n",
       "      <td>Inception</td>\n",
       "      <td>Leonardo DiCaprio|Joseph Gordon-Levitt|Ellen P...</td>\n",
       "      <td>Christopher Nolan</td>\n",
       "      <td>Cobb, a skilled thief who commits corporate es...</td>\n",
       "      <td>148</td>\n",
       "      <td>Action|Thriller|Science Fiction|Mystery|Adventure</td>\n",
       "      <td>7/14/10</td>\n",
       "      <td>9767</td>\n",
       "      <td>7.9</td>\n",
       "      <td>2010</td>\n",
       "      <td>1.600000e+08</td>\n",
       "      <td>8.255000e+08</td>\n",
       "    </tr>\n",
       "    <tr>\n",
       "      <th>3690</th>\n",
       "      <td>0.321341</td>\n",
       "      <td>The Art of Flight</td>\n",
       "      <td>Travis Rice|Nicolas Muller|Mark Landvik|Jake B...</td>\n",
       "      <td>Curt Morgan</td>\n",
       "      <td>A new breed of action sports film comes to lif...</td>\n",
       "      <td>80</td>\n",
       "      <td>Adventure|Documentary</td>\n",
       "      <td>9/8/11</td>\n",
       "      <td>60</td>\n",
       "      <td>8.5</td>\n",
       "      <td>2011</td>\n",
       "      <td>0.000000e+00</td>\n",
       "      <td>0.000000e+00</td>\n",
       "    </tr>\n",
       "    <tr>\n",
       "      <th>4949</th>\n",
       "      <td>7.122455</td>\n",
       "      <td>The Lord of the Rings: The Return of the King</td>\n",
       "      <td>Elijah Wood|Ian McKellen|Viggo Mortensen|Liv T...</td>\n",
       "      <td>Peter Jackson</td>\n",
       "      <td>Aragorn is revealed as the heir to the ancient...</td>\n",
       "      <td>201</td>\n",
       "      <td>Adventure|Fantasy|Action</td>\n",
       "      <td>12/1/03</td>\n",
       "      <td>5636</td>\n",
       "      <td>7.9</td>\n",
       "      <td>2003</td>\n",
       "      <td>1.114231e+08</td>\n",
       "      <td>1.326278e+09</td>\n",
       "    </tr>\n",
       "    <tr>\n",
       "      <th>5611</th>\n",
       "      <td>0.661187</td>\n",
       "      <td>Doctor Who: The Day of the Doctor</td>\n",
       "      <td>Matt Smith|David Tennant|Christopher Eccleston...</td>\n",
       "      <td>Nick Hurran</td>\n",
       "      <td>In 2013, something terrible is awakening in Lo...</td>\n",
       "      <td>77</td>\n",
       "      <td>Science Fiction|Adventure</td>\n",
       "      <td>11/23/13</td>\n",
       "      <td>190</td>\n",
       "      <td>8.0</td>\n",
       "      <td>2013</td>\n",
       "      <td>0.000000e+00</td>\n",
       "      <td>0.000000e+00</td>\n",
       "    </tr>\n",
       "    <tr>\n",
       "      <th>5989</th>\n",
       "      <td>0.098585</td>\n",
       "      <td>Scooby-Doo! Stage Fright</td>\n",
       "      <td>Frank Welker|Matthew Lillard|Grey Griffin|Mind...</td>\n",
       "      <td>Victor Cook</td>\n",
       "      <td>Join Scooby-Doo, Shaggy and the Mystery Inc. c...</td>\n",
       "      <td>75</td>\n",
       "      <td>Family|Adventure|Animation</td>\n",
       "      <td>8/20/13</td>\n",
       "      <td>21</td>\n",
       "      <td>7.9</td>\n",
       "      <td>2013</td>\n",
       "      <td>0.000000e+00</td>\n",
       "      <td>0.000000e+00</td>\n",
       "    </tr>\n",
       "    <tr>\n",
       "      <th>7309</th>\n",
       "      <td>5.488441</td>\n",
       "      <td>The Empire Strikes Back</td>\n",
       "      <td>Mark Hamill|Harrison Ford|Carrie Fisher|Billy ...</td>\n",
       "      <td>Irvin Kershner</td>\n",
       "      <td>The epic saga continues as Luke Skywalker, in ...</td>\n",
       "      <td>124</td>\n",
       "      <td>Adventure|Action|Science Fiction</td>\n",
       "      <td>1/1/80</td>\n",
       "      <td>3954</td>\n",
       "      <td>8.0</td>\n",
       "      <td>1980</td>\n",
       "      <td>4.762866e+07</td>\n",
       "      <td>1.424626e+09</td>\n",
       "    </tr>\n",
       "  </tbody>\n",
       "</table>\n",
       "</div>"
      ],
      "text/plain": [
       "      popularity                                 original_title  \\\n",
       "629    24.949134                                   Interstellar   \n",
       "630    14.311205                        Guardians of the Galaxy   \n",
       "1149    0.178898                     Doctor Who: Last Christmas   \n",
       "1153    0.175793                                Valley Uprising   \n",
       "1329   12.037933                                      Star Wars   \n",
       "1661    0.369792                                  Partly Cloudy   \n",
       "1919    9.363643                                      Inception   \n",
       "3690    0.321341                              The Art of Flight   \n",
       "4949    7.122455  The Lord of the Rings: The Return of the King   \n",
       "5611    0.661187              Doctor Who: The Day of the Doctor   \n",
       "5989    0.098585                       Scooby-Doo! Stage Fright   \n",
       "7309    5.488441                        The Empire Strikes Back   \n",
       "\n",
       "                                                   cast  \\\n",
       "629   Matthew McConaughey|Jessica Chastain|Anne Hath...   \n",
       "630   Chris Pratt|Zoe Saldana|Dave Bautista|Vin Dies...   \n",
       "1149  Peter Capaldi|Jenna Coleman|Nick Frost|Samuel ...   \n",
       "1153  Peter Sarsgaard|Alex Honnold|Royal Robbins|Lyn...   \n",
       "1329  Mark Hamill|Harrison Ford|Carrie Fisher|Peter ...   \n",
       "1661                        Tony Fucile|Lori Richardson   \n",
       "1919  Leonardo DiCaprio|Joseph Gordon-Levitt|Ellen P...   \n",
       "3690  Travis Rice|Nicolas Muller|Mark Landvik|Jake B...   \n",
       "4949  Elijah Wood|Ian McKellen|Viggo Mortensen|Liv T...   \n",
       "5611  Matt Smith|David Tennant|Christopher Eccleston...   \n",
       "5989  Frank Welker|Matthew Lillard|Grey Griffin|Mind...   \n",
       "7309  Mark Hamill|Harrison Ford|Carrie Fisher|Billy ...   \n",
       "\n",
       "                                   director  \\\n",
       "629                       Christopher Nolan   \n",
       "630                              James Gunn   \n",
       "1149                        Paul Wilmshurst   \n",
       "1153  Josh Lowell|Peter Mortimer|Nick Rosen   \n",
       "1329                           George Lucas   \n",
       "1661                             Peter Sohn   \n",
       "1919                      Christopher Nolan   \n",
       "3690                            Curt Morgan   \n",
       "4949                          Peter Jackson   \n",
       "5611                            Nick Hurran   \n",
       "5989                            Victor Cook   \n",
       "7309                         Irvin Kershner   \n",
       "\n",
       "                                               overview  runtime  \\\n",
       "629   Interstellar chronicles the adventures of a gr...      169   \n",
       "630   Light years from Earth, 26 years after being a...      121   \n",
       "1149  The Doctor and Clara face their Last Christmas...       57   \n",
       "1153  In the shady campgrounds of Yosemite valley, c...       99   \n",
       "1329  Princess Leia is captured and held hostage by ...      121   \n",
       "1661  Everyone knows that the stork delivers babies,...        5   \n",
       "1919  Cobb, a skilled thief who commits corporate es...      148   \n",
       "3690  A new breed of action sports film comes to lif...       80   \n",
       "4949  Aragorn is revealed as the heir to the ancient...      201   \n",
       "5611  In 2013, something terrible is awakening in Lo...       77   \n",
       "5989  Join Scooby-Doo, Shaggy and the Mystery Inc. c...       75   \n",
       "7309  The epic saga continues as Luke Skywalker, in ...      124   \n",
       "\n",
       "                                                 genres release_date  \\\n",
       "629                     Adventure|Drama|Science Fiction      11/5/14   \n",
       "630                    Action|Science Fiction|Adventure      7/30/14   \n",
       "1149            Science Fiction|Adventure|Drama|Fantasy     12/25/14   \n",
       "1153                              Adventure|Documentary       9/1/14   \n",
       "1329                   Adventure|Action|Science Fiction      3/20/77   \n",
       "1661          Adventure|Animation|Comedy|Family|Fantasy      5/28/09   \n",
       "1919  Action|Thriller|Science Fiction|Mystery|Adventure      7/14/10   \n",
       "3690                              Adventure|Documentary       9/8/11   \n",
       "4949                           Adventure|Fantasy|Action      12/1/03   \n",
       "5611                          Science Fiction|Adventure     11/23/13   \n",
       "5989                         Family|Adventure|Animation      8/20/13   \n",
       "7309                   Adventure|Action|Science Fiction       1/1/80   \n",
       "\n",
       "      vote_count  vote_average  release_year    budget_adj   revenue_adj  \n",
       "629         6498           8.0          2014  1.519800e+08  5.726906e+08  \n",
       "630         5612           7.9          2014  1.565855e+08  7.122911e+08  \n",
       "1149          50           7.9          2014  0.000000e+00  0.000000e+00  \n",
       "1153          12           7.9          2014  0.000000e+00  0.000000e+00  \n",
       "1329        4428           7.9          1977  3.957559e+07  2.789712e+09  \n",
       "1661         218           7.9          2009  0.000000e+00  0.000000e+00  \n",
       "1919        9767           7.9          2010  1.600000e+08  8.255000e+08  \n",
       "3690          60           8.5          2011  0.000000e+00  0.000000e+00  \n",
       "4949        5636           7.9          2003  1.114231e+08  1.326278e+09  \n",
       "5611         190           8.0          2013  0.000000e+00  0.000000e+00  \n",
       "5989          21           7.9          2013  0.000000e+00  0.000000e+00  \n",
       "7309        3954           8.0          1980  4.762866e+07  1.424626e+09  "
      ]
     },
     "execution_count": 46,
     "metadata": {},
     "output_type": "execute_result"
    }
   ],
   "source": [
    "df[df['genres'].str.contains('Adventure')].query('vote_average >7.8')"
   ]
  },
  {
   "cell_type": "code",
   "execution_count": 48,
   "id": "00a5fc6c",
   "metadata": {},
   "outputs": [
    {
     "data": {
      "text/html": [
       "<div>\n",
       "<style scoped>\n",
       "    .dataframe tbody tr th:only-of-type {\n",
       "        vertical-align: middle;\n",
       "    }\n",
       "\n",
       "    .dataframe tbody tr th {\n",
       "        vertical-align: top;\n",
       "    }\n",
       "\n",
       "    .dataframe thead th {\n",
       "        text-align: right;\n",
       "    }\n",
       "</style>\n",
       "<table border=\"1\" class=\"dataframe\">\n",
       "  <thead>\n",
       "    <tr style=\"text-align: right;\">\n",
       "      <th></th>\n",
       "      <th>popularity</th>\n",
       "      <th>original_title</th>\n",
       "      <th>cast</th>\n",
       "      <th>director</th>\n",
       "      <th>overview</th>\n",
       "      <th>runtime</th>\n",
       "      <th>genres</th>\n",
       "      <th>release_date</th>\n",
       "      <th>vote_count</th>\n",
       "      <th>vote_average</th>\n",
       "      <th>release_year</th>\n",
       "      <th>budget_adj</th>\n",
       "      <th>revenue_adj</th>\n",
       "    </tr>\n",
       "  </thead>\n",
       "  <tbody>\n",
       "    <tr>\n",
       "      <th>636</th>\n",
       "      <td>8.110711</td>\n",
       "      <td>The Imitation Game</td>\n",
       "      <td>Benedict Cumberbatch|Keira Knightley|Matthew G...</td>\n",
       "      <td>Morten Tyldum</td>\n",
       "      <td>Based on the real life story of legendary cryp...</td>\n",
       "      <td>113</td>\n",
       "      <td>History|Drama|Thriller|War</td>\n",
       "      <td>11/14/14</td>\n",
       "      <td>3478</td>\n",
       "      <td>8.0</td>\n",
       "      <td>2014</td>\n",
       "      <td>1.289527e+07</td>\n",
       "      <td>2.151261e+08</td>\n",
       "    </tr>\n",
       "    <tr>\n",
       "      <th>5436</th>\n",
       "      <td>3.625529</td>\n",
       "      <td>12 Years a Slave</td>\n",
       "      <td>Chiwetel Ejiofor|Michael Fassbender|Lupita Nyo...</td>\n",
       "      <td>Steve McQueen</td>\n",
       "      <td>In the pre-Civil War United States, Solomon No...</td>\n",
       "      <td>134</td>\n",
       "      <td>Drama|History</td>\n",
       "      <td>10/18/13</td>\n",
       "      <td>2241</td>\n",
       "      <td>7.9</td>\n",
       "      <td>2013</td>\n",
       "      <td>1.872067e+07</td>\n",
       "      <td>1.750382e+08</td>\n",
       "    </tr>\n",
       "    <tr>\n",
       "      <th>10222</th>\n",
       "      <td>2.377288</td>\n",
       "      <td>Schindler's List</td>\n",
       "      <td>Liam Neeson|Ben Kingsley|Ralph Fiennes|Carolin...</td>\n",
       "      <td>Steven Spielberg</td>\n",
       "      <td>The true story of how businessman Oskar Schind...</td>\n",
       "      <td>195</td>\n",
       "      <td>Drama|History|War</td>\n",
       "      <td>11/29/93</td>\n",
       "      <td>2632</td>\n",
       "      <td>8.1</td>\n",
       "      <td>1993</td>\n",
       "      <td>3.320834e+07</td>\n",
       "      <td>4.849410e+08</td>\n",
       "    </tr>\n",
       "  </tbody>\n",
       "</table>\n",
       "</div>"
      ],
      "text/plain": [
       "       popularity      original_title  \\\n",
       "636      8.110711  The Imitation Game   \n",
       "5436     3.625529    12 Years a Slave   \n",
       "10222    2.377288    Schindler's List   \n",
       "\n",
       "                                                    cast          director  \\\n",
       "636    Benedict Cumberbatch|Keira Knightley|Matthew G...     Morten Tyldum   \n",
       "5436   Chiwetel Ejiofor|Michael Fassbender|Lupita Nyo...     Steve McQueen   \n",
       "10222  Liam Neeson|Ben Kingsley|Ralph Fiennes|Carolin...  Steven Spielberg   \n",
       "\n",
       "                                                overview  runtime  \\\n",
       "636    Based on the real life story of legendary cryp...      113   \n",
       "5436   In the pre-Civil War United States, Solomon No...      134   \n",
       "10222  The true story of how businessman Oskar Schind...      195   \n",
       "\n",
       "                           genres release_date  vote_count  vote_average  \\\n",
       "636    History|Drama|Thriller|War     11/14/14        3478           8.0   \n",
       "5436                Drama|History     10/18/13        2241           7.9   \n",
       "10222           Drama|History|War     11/29/93        2632           8.1   \n",
       "\n",
       "       release_year    budget_adj   revenue_adj  \n",
       "636            2014  1.289527e+07  2.151261e+08  \n",
       "5436           2013  1.872067e+07  1.750382e+08  \n",
       "10222          1993  3.320834e+07  4.849410e+08  "
      ]
     },
     "execution_count": 48,
     "metadata": {},
     "output_type": "execute_result"
    }
   ],
   "source": [
    "df[df['genres'].str.contains('History')].query('vote_average >7.8')"
   ]
  },
  {
   "cell_type": "code",
   "execution_count": null,
   "id": "a25442d9",
   "metadata": {},
   "outputs": [],
   "source": []
  }
 ],
 "metadata": {
  "kernelspec": {
   "display_name": "Python 3 (ipykernel)",
   "language": "python",
   "name": "python3"
  },
  "language_info": {
   "codemirror_mode": {
    "name": "ipython",
    "version": 3
   },
   "file_extension": ".py",
   "mimetype": "text/x-python",
   "name": "python",
   "nbconvert_exporter": "python",
   "pygments_lexer": "ipython3",
   "version": "3.10.5"
  }
 },
 "nbformat": 4,
 "nbformat_minor": 5
}
